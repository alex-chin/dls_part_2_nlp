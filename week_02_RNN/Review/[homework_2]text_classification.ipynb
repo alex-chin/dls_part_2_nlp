{
 "metadata": {
  "colab": {
   "provenance": []
  },
  "kernelspec": {
   "name": "python3",
   "display_name": "Python 3",
   "language": "python"
  },
  "language_info": {
   "name": "python",
   "version": "3.10.10",
   "mimetype": "text/x-python",
   "codemirror_mode": {
    "name": "ipython",
    "version": 3
   },
   "pygments_lexer": "ipython3",
   "nbconvert_exporter": "python",
   "file_extension": ".py"
  },
  "accelerator": "GPU",
  "gpuClass": "standard",
  "widgets": {
   "application/vnd.jupyter.widget-state+json": {
    "1eb740874a8b4df68e18f0dbf8e7acdc": {
     "model_module": "@jupyter-widgets/controls",
     "model_name": "HBoxModel",
     "model_module_version": "1.5.0",
     "state": {
      "_dom_classes": [],
      "_model_module": "@jupyter-widgets/controls",
      "_model_module_version": "1.5.0",
      "_model_name": "HBoxModel",
      "_view_count": null,
      "_view_module": "@jupyter-widgets/controls",
      "_view_module_version": "1.5.0",
      "_view_name": "HBoxView",
      "box_style": "",
      "children": [
       "IPY_MODEL_fc9cdace4f17455082a2a8374913d322",
       "IPY_MODEL_3ebe7107b9c643a4a990b0c5966299e8",
       "IPY_MODEL_f1bde9957cab40ba97cd7faa65889b00"
      ],
      "layout": "IPY_MODEL_aefc7fff46e6439fae50d2ac508d78e3"
     }
    },
    "fc9cdace4f17455082a2a8374913d322": {
     "model_module": "@jupyter-widgets/controls",
     "model_name": "HTMLModel",
     "model_module_version": "1.5.0",
     "state": {
      "_dom_classes": [],
      "_model_module": "@jupyter-widgets/controls",
      "_model_module_version": "1.5.0",
      "_model_name": "HTMLModel",
      "_view_count": null,
      "_view_module": "@jupyter-widgets/controls",
      "_view_module_version": "1.5.0",
      "_view_name": "HTMLView",
      "description": "",
      "description_tooltip": null,
      "layout": "IPY_MODEL_33ce5077e4714f239f12562e1a7a7ef2",
      "placeholder": "​",
      "style": "IPY_MODEL_f255118df0ea49fa8feb56d043cf87b6",
      "value": "Downloading builder script: 100%"
     }
    },
    "3ebe7107b9c643a4a990b0c5966299e8": {
     "model_module": "@jupyter-widgets/controls",
     "model_name": "FloatProgressModel",
     "model_module_version": "1.5.0",
     "state": {
      "_dom_classes": [],
      "_model_module": "@jupyter-widgets/controls",
      "_model_module_version": "1.5.0",
      "_model_name": "FloatProgressModel",
      "_view_count": null,
      "_view_module": "@jupyter-widgets/controls",
      "_view_module_version": "1.5.0",
      "_view_name": "ProgressView",
      "bar_style": "success",
      "description": "",
      "description_tooltip": null,
      "layout": "IPY_MODEL_4acffbd4a4604620bcd4b4f8c9c6af9b",
      "max": 4063,
      "min": 0,
      "orientation": "horizontal",
      "style": "IPY_MODEL_8cde1d20ba3e45a08490e769ddd51bb4",
      "value": 4063
     }
    },
    "f1bde9957cab40ba97cd7faa65889b00": {
     "model_module": "@jupyter-widgets/controls",
     "model_name": "HTMLModel",
     "model_module_version": "1.5.0",
     "state": {
      "_dom_classes": [],
      "_model_module": "@jupyter-widgets/controls",
      "_model_module_version": "1.5.0",
      "_model_name": "HTMLModel",
      "_view_count": null,
      "_view_module": "@jupyter-widgets/controls",
      "_view_module_version": "1.5.0",
      "_view_name": "HTMLView",
      "description": "",
      "description_tooltip": null,
      "layout": "IPY_MODEL_513f35a7ebb74d3ebbaefa013b725d14",
      "placeholder": "​",
      "style": "IPY_MODEL_81311bdb923b4eca97431b56195acd58",
      "value": " 4.06k/4.06k [00:00&lt;00:00, 53.0kB/s]"
     }
    },
    "aefc7fff46e6439fae50d2ac508d78e3": {
     "model_module": "@jupyter-widgets/base",
     "model_name": "LayoutModel",
     "model_module_version": "1.2.0",
     "state": {
      "_model_module": "@jupyter-widgets/base",
      "_model_module_version": "1.2.0",
      "_model_name": "LayoutModel",
      "_view_count": null,
      "_view_module": "@jupyter-widgets/base",
      "_view_module_version": "1.2.0",
      "_view_name": "LayoutView",
      "align_content": null,
      "align_items": null,
      "align_self": null,
      "border": null,
      "bottom": null,
      "display": null,
      "flex": null,
      "flex_flow": null,
      "grid_area": null,
      "grid_auto_columns": null,
      "grid_auto_flow": null,
      "grid_auto_rows": null,
      "grid_column": null,
      "grid_gap": null,
      "grid_row": null,
      "grid_template_areas": null,
      "grid_template_columns": null,
      "grid_template_rows": null,
      "height": null,
      "justify_content": null,
      "justify_items": null,
      "left": null,
      "margin": null,
      "max_height": null,
      "max_width": null,
      "min_height": null,
      "min_width": null,
      "object_fit": null,
      "object_position": null,
      "order": null,
      "overflow": null,
      "overflow_x": null,
      "overflow_y": null,
      "padding": null,
      "right": null,
      "top": null,
      "visibility": null,
      "width": null
     }
    },
    "33ce5077e4714f239f12562e1a7a7ef2": {
     "model_module": "@jupyter-widgets/base",
     "model_name": "LayoutModel",
     "model_module_version": "1.2.0",
     "state": {
      "_model_module": "@jupyter-widgets/base",
      "_model_module_version": "1.2.0",
      "_model_name": "LayoutModel",
      "_view_count": null,
      "_view_module": "@jupyter-widgets/base",
      "_view_module_version": "1.2.0",
      "_view_name": "LayoutView",
      "align_content": null,
      "align_items": null,
      "align_self": null,
      "border": null,
      "bottom": null,
      "display": null,
      "flex": null,
      "flex_flow": null,
      "grid_area": null,
      "grid_auto_columns": null,
      "grid_auto_flow": null,
      "grid_auto_rows": null,
      "grid_column": null,
      "grid_gap": null,
      "grid_row": null,
      "grid_template_areas": null,
      "grid_template_columns": null,
      "grid_template_rows": null,
      "height": null,
      "justify_content": null,
      "justify_items": null,
      "left": null,
      "margin": null,
      "max_height": null,
      "max_width": null,
      "min_height": null,
      "min_width": null,
      "object_fit": null,
      "object_position": null,
      "order": null,
      "overflow": null,
      "overflow_x": null,
      "overflow_y": null,
      "padding": null,
      "right": null,
      "top": null,
      "visibility": null,
      "width": null
     }
    },
    "f255118df0ea49fa8feb56d043cf87b6": {
     "model_module": "@jupyter-widgets/controls",
     "model_name": "DescriptionStyleModel",
     "model_module_version": "1.5.0",
     "state": {
      "_model_module": "@jupyter-widgets/controls",
      "_model_module_version": "1.5.0",
      "_model_name": "DescriptionStyleModel",
      "_view_count": null,
      "_view_module": "@jupyter-widgets/base",
      "_view_module_version": "1.2.0",
      "_view_name": "StyleView",
      "description_width": ""
     }
    },
    "4acffbd4a4604620bcd4b4f8c9c6af9b": {
     "model_module": "@jupyter-widgets/base",
     "model_name": "LayoutModel",
     "model_module_version": "1.2.0",
     "state": {
      "_model_module": "@jupyter-widgets/base",
      "_model_module_version": "1.2.0",
      "_model_name": "LayoutModel",
      "_view_count": null,
      "_view_module": "@jupyter-widgets/base",
      "_view_module_version": "1.2.0",
      "_view_name": "LayoutView",
      "align_content": null,
      "align_items": null,
      "align_self": null,
      "border": null,
      "bottom": null,
      "display": null,
      "flex": null,
      "flex_flow": null,
      "grid_area": null,
      "grid_auto_columns": null,
      "grid_auto_flow": null,
      "grid_auto_rows": null,
      "grid_column": null,
      "grid_gap": null,
      "grid_row": null,
      "grid_template_areas": null,
      "grid_template_columns": null,
      "grid_template_rows": null,
      "height": null,
      "justify_content": null,
      "justify_items": null,
      "left": null,
      "margin": null,
      "max_height": null,
      "max_width": null,
      "min_height": null,
      "min_width": null,
      "object_fit": null,
      "object_position": null,
      "order": null,
      "overflow": null,
      "overflow_x": null,
      "overflow_y": null,
      "padding": null,
      "right": null,
      "top": null,
      "visibility": null,
      "width": null
     }
    },
    "8cde1d20ba3e45a08490e769ddd51bb4": {
     "model_module": "@jupyter-widgets/controls",
     "model_name": "ProgressStyleModel",
     "model_module_version": "1.5.0",
     "state": {
      "_model_module": "@jupyter-widgets/controls",
      "_model_module_version": "1.5.0",
      "_model_name": "ProgressStyleModel",
      "_view_count": null,
      "_view_module": "@jupyter-widgets/base",
      "_view_module_version": "1.2.0",
      "_view_name": "StyleView",
      "bar_color": null,
      "description_width": ""
     }
    },
    "513f35a7ebb74d3ebbaefa013b725d14": {
     "model_module": "@jupyter-widgets/base",
     "model_name": "LayoutModel",
     "model_module_version": "1.2.0",
     "state": {
      "_model_module": "@jupyter-widgets/base",
      "_model_module_version": "1.2.0",
      "_model_name": "LayoutModel",
      "_view_count": null,
      "_view_module": "@jupyter-widgets/base",
      "_view_module_version": "1.2.0",
      "_view_name": "LayoutView",
      "align_content": null,
      "align_items": null,
      "align_self": null,
      "border": null,
      "bottom": null,
      "display": null,
      "flex": null,
      "flex_flow": null,
      "grid_area": null,
      "grid_auto_columns": null,
      "grid_auto_flow": null,
      "grid_auto_rows": null,
      "grid_column": null,
      "grid_gap": null,
      "grid_row": null,
      "grid_template_areas": null,
      "grid_template_columns": null,
      "grid_template_rows": null,
      "height": null,
      "justify_content": null,
      "justify_items": null,
      "left": null,
      "margin": null,
      "max_height": null,
      "max_width": null,
      "min_height": null,
      "min_width": null,
      "object_fit": null,
      "object_position": null,
      "order": null,
      "overflow": null,
      "overflow_x": null,
      "overflow_y": null,
      "padding": null,
      "right": null,
      "top": null,
      "visibility": null,
      "width": null
     }
    },
    "81311bdb923b4eca97431b56195acd58": {
     "model_module": "@jupyter-widgets/controls",
     "model_name": "DescriptionStyleModel",
     "model_module_version": "1.5.0",
     "state": {
      "_model_module": "@jupyter-widgets/controls",
      "_model_module_version": "1.5.0",
      "_model_name": "DescriptionStyleModel",
      "_view_count": null,
      "_view_module": "@jupyter-widgets/base",
      "_view_module_version": "1.2.0",
      "_view_name": "StyleView",
      "description_width": ""
     }
    },
    "09ec9cea96b341d0a25451b192102f39": {
     "model_module": "@jupyter-widgets/controls",
     "model_name": "HBoxModel",
     "model_module_version": "1.5.0",
     "state": {
      "_dom_classes": [],
      "_model_module": "@jupyter-widgets/controls",
      "_model_module_version": "1.5.0",
      "_model_name": "HBoxModel",
      "_view_count": null,
      "_view_module": "@jupyter-widgets/controls",
      "_view_module_version": "1.5.0",
      "_view_name": "HBoxView",
      "box_style": "",
      "children": [
       "IPY_MODEL_c9ce26882ff34d61b1817915058152f1",
       "IPY_MODEL_ece019411eba48ca93173a9b15cf8cbb",
       "IPY_MODEL_19722e928d404adb990c5cec48524bba"
      ],
      "layout": "IPY_MODEL_a93760269c044501aa63f3af2524210e"
     }
    },
    "c9ce26882ff34d61b1817915058152f1": {
     "model_module": "@jupyter-widgets/controls",
     "model_name": "HTMLModel",
     "model_module_version": "1.5.0",
     "state": {
      "_dom_classes": [],
      "_model_module": "@jupyter-widgets/controls",
      "_model_module_version": "1.5.0",
      "_model_name": "HTMLModel",
      "_view_count": null,
      "_view_module": "@jupyter-widgets/controls",
      "_view_module_version": "1.5.0",
      "_view_name": "HTMLView",
      "description": "",
      "description_tooltip": null,
      "layout": "IPY_MODEL_6a76b678cb8e49d99b307e505c5baf43",
      "placeholder": "​",
      "style": "IPY_MODEL_991528abe6eb42e29b4303bd72ecbb9c",
      "value": "Downloading metadata: 100%"
     }
    },
    "ece019411eba48ca93173a9b15cf8cbb": {
     "model_module": "@jupyter-widgets/controls",
     "model_name": "FloatProgressModel",
     "model_module_version": "1.5.0",
     "state": {
      "_dom_classes": [],
      "_model_module": "@jupyter-widgets/controls",
      "_model_module_version": "1.5.0",
      "_model_name": "FloatProgressModel",
      "_view_count": null,
      "_view_module": "@jupyter-widgets/controls",
      "_view_module_version": "1.5.0",
      "_view_name": "ProgressView",
      "bar_style": "success",
      "description": "",
      "description_tooltip": null,
      "layout": "IPY_MODEL_5b39c3103bf74237a2e03e6fdb7da027",
      "max": 2653,
      "min": 0,
      "orientation": "horizontal",
      "style": "IPY_MODEL_0847a33379184a368d5d1b82222b74cc",
      "value": 2653
     }
    },
    "19722e928d404adb990c5cec48524bba": {
     "model_module": "@jupyter-widgets/controls",
     "model_name": "HTMLModel",
     "model_module_version": "1.5.0",
     "state": {
      "_dom_classes": [],
      "_model_module": "@jupyter-widgets/controls",
      "_model_module_version": "1.5.0",
      "_model_name": "HTMLModel",
      "_view_count": null,
      "_view_module": "@jupyter-widgets/controls",
      "_view_module_version": "1.5.0",
      "_view_name": "HTMLView",
      "description": "",
      "description_tooltip": null,
      "layout": "IPY_MODEL_122ed5c8b5a74305ba54ff99af7e9d54",
      "placeholder": "​",
      "style": "IPY_MODEL_c0894fc6901f475382628d4868062558",
      "value": " 2.65k/2.65k [00:00&lt;00:00, 47.9kB/s]"
     }
    },
    "a93760269c044501aa63f3af2524210e": {
     "model_module": "@jupyter-widgets/base",
     "model_name": "LayoutModel",
     "model_module_version": "1.2.0",
     "state": {
      "_model_module": "@jupyter-widgets/base",
      "_model_module_version": "1.2.0",
      "_model_name": "LayoutModel",
      "_view_count": null,
      "_view_module": "@jupyter-widgets/base",
      "_view_module_version": "1.2.0",
      "_view_name": "LayoutView",
      "align_content": null,
      "align_items": null,
      "align_self": null,
      "border": null,
      "bottom": null,
      "display": null,
      "flex": null,
      "flex_flow": null,
      "grid_area": null,
      "grid_auto_columns": null,
      "grid_auto_flow": null,
      "grid_auto_rows": null,
      "grid_column": null,
      "grid_gap": null,
      "grid_row": null,
      "grid_template_areas": null,
      "grid_template_columns": null,
      "grid_template_rows": null,
      "height": null,
      "justify_content": null,
      "justify_items": null,
      "left": null,
      "margin": null,
      "max_height": null,
      "max_width": null,
      "min_height": null,
      "min_width": null,
      "object_fit": null,
      "object_position": null,
      "order": null,
      "overflow": null,
      "overflow_x": null,
      "overflow_y": null,
      "padding": null,
      "right": null,
      "top": null,
      "visibility": null,
      "width": null
     }
    },
    "6a76b678cb8e49d99b307e505c5baf43": {
     "model_module": "@jupyter-widgets/base",
     "model_name": "LayoutModel",
     "model_module_version": "1.2.0",
     "state": {
      "_model_module": "@jupyter-widgets/base",
      "_model_module_version": "1.2.0",
      "_model_name": "LayoutModel",
      "_view_count": null,
      "_view_module": "@jupyter-widgets/base",
      "_view_module_version": "1.2.0",
      "_view_name": "LayoutView",
      "align_content": null,
      "align_items": null,
      "align_self": null,
      "border": null,
      "bottom": null,
      "display": null,
      "flex": null,
      "flex_flow": null,
      "grid_area": null,
      "grid_auto_columns": null,
      "grid_auto_flow": null,
      "grid_auto_rows": null,
      "grid_column": null,
      "grid_gap": null,
      "grid_row": null,
      "grid_template_areas": null,
      "grid_template_columns": null,
      "grid_template_rows": null,
      "height": null,
      "justify_content": null,
      "justify_items": null,
      "left": null,
      "margin": null,
      "max_height": null,
      "max_width": null,
      "min_height": null,
      "min_width": null,
      "object_fit": null,
      "object_position": null,
      "order": null,
      "overflow": null,
      "overflow_x": null,
      "overflow_y": null,
      "padding": null,
      "right": null,
      "top": null,
      "visibility": null,
      "width": null
     }
    },
    "991528abe6eb42e29b4303bd72ecbb9c": {
     "model_module": "@jupyter-widgets/controls",
     "model_name": "DescriptionStyleModel",
     "model_module_version": "1.5.0",
     "state": {
      "_model_module": "@jupyter-widgets/controls",
      "_model_module_version": "1.5.0",
      "_model_name": "DescriptionStyleModel",
      "_view_count": null,
      "_view_module": "@jupyter-widgets/base",
      "_view_module_version": "1.2.0",
      "_view_name": "StyleView",
      "description_width": ""
     }
    },
    "5b39c3103bf74237a2e03e6fdb7da027": {
     "model_module": "@jupyter-widgets/base",
     "model_name": "LayoutModel",
     "model_module_version": "1.2.0",
     "state": {
      "_model_module": "@jupyter-widgets/base",
      "_model_module_version": "1.2.0",
      "_model_name": "LayoutModel",
      "_view_count": null,
      "_view_module": "@jupyter-widgets/base",
      "_view_module_version": "1.2.0",
      "_view_name": "LayoutView",
      "align_content": null,
      "align_items": null,
      "align_self": null,
      "border": null,
      "bottom": null,
      "display": null,
      "flex": null,
      "flex_flow": null,
      "grid_area": null,
      "grid_auto_columns": null,
      "grid_auto_flow": null,
      "grid_auto_rows": null,
      "grid_column": null,
      "grid_gap": null,
      "grid_row": null,
      "grid_template_areas": null,
      "grid_template_columns": null,
      "grid_template_rows": null,
      "height": null,
      "justify_content": null,
      "justify_items": null,
      "left": null,
      "margin": null,
      "max_height": null,
      "max_width": null,
      "min_height": null,
      "min_width": null,
      "object_fit": null,
      "object_position": null,
      "order": null,
      "overflow": null,
      "overflow_x": null,
      "overflow_y": null,
      "padding": null,
      "right": null,
      "top": null,
      "visibility": null,
      "width": null
     }
    },
    "0847a33379184a368d5d1b82222b74cc": {
     "model_module": "@jupyter-widgets/controls",
     "model_name": "ProgressStyleModel",
     "model_module_version": "1.5.0",
     "state": {
      "_model_module": "@jupyter-widgets/controls",
      "_model_module_version": "1.5.0",
      "_model_name": "ProgressStyleModel",
      "_view_count": null,
      "_view_module": "@jupyter-widgets/base",
      "_view_module_version": "1.2.0",
      "_view_name": "StyleView",
      "bar_color": null,
      "description_width": ""
     }
    },
    "122ed5c8b5a74305ba54ff99af7e9d54": {
     "model_module": "@jupyter-widgets/base",
     "model_name": "LayoutModel",
     "model_module_version": "1.2.0",
     "state": {
      "_model_module": "@jupyter-widgets/base",
      "_model_module_version": "1.2.0",
      "_model_name": "LayoutModel",
      "_view_count": null,
      "_view_module": "@jupyter-widgets/base",
      "_view_module_version": "1.2.0",
      "_view_name": "LayoutView",
      "align_content": null,
      "align_items": null,
      "align_self": null,
      "border": null,
      "bottom": null,
      "display": null,
      "flex": null,
      "flex_flow": null,
      "grid_area": null,
      "grid_auto_columns": null,
      "grid_auto_flow": null,
      "grid_auto_rows": null,
      "grid_column": null,
      "grid_gap": null,
      "grid_row": null,
      "grid_template_areas": null,
      "grid_template_columns": null,
      "grid_template_rows": null,
      "height": null,
      "justify_content": null,
      "justify_items": null,
      "left": null,
      "margin": null,
      "max_height": null,
      "max_width": null,
      "min_height": null,
      "min_width": null,
      "object_fit": null,
      "object_position": null,
      "order": null,
      "overflow": null,
      "overflow_x": null,
      "overflow_y": null,
      "padding": null,
      "right": null,
      "top": null,
      "visibility": null,
      "width": null
     }
    },
    "c0894fc6901f475382628d4868062558": {
     "model_module": "@jupyter-widgets/controls",
     "model_name": "DescriptionStyleModel",
     "model_module_version": "1.5.0",
     "state": {
      "_model_module": "@jupyter-widgets/controls",
      "_model_module_version": "1.5.0",
      "_model_name": "DescriptionStyleModel",
      "_view_count": null,
      "_view_module": "@jupyter-widgets/base",
      "_view_module_version": "1.2.0",
      "_view_name": "StyleView",
      "description_width": ""
     }
    },
    "d76f8b4fbb004812b2bdc3f614cdc307": {
     "model_module": "@jupyter-widgets/controls",
     "model_name": "HBoxModel",
     "model_module_version": "1.5.0",
     "state": {
      "_dom_classes": [],
      "_model_module": "@jupyter-widgets/controls",
      "_model_module_version": "1.5.0",
      "_model_name": "HBoxModel",
      "_view_count": null,
      "_view_module": "@jupyter-widgets/controls",
      "_view_module_version": "1.5.0",
      "_view_name": "HBoxView",
      "box_style": "",
      "children": [
       "IPY_MODEL_e684e9dab3dc4a04b4fac5cab926f8fe",
       "IPY_MODEL_a3a2891c78654d639a25ff7522357b26",
       "IPY_MODEL_7caa28a01d5541e98ca6d2bd0c3f0a4c"
      ],
      "layout": "IPY_MODEL_f5a54984249a47dd8ac113ce96ddbb71"
     }
    },
    "e684e9dab3dc4a04b4fac5cab926f8fe": {
     "model_module": "@jupyter-widgets/controls",
     "model_name": "HTMLModel",
     "model_module_version": "1.5.0",
     "state": {
      "_dom_classes": [],
      "_model_module": "@jupyter-widgets/controls",
      "_model_module_version": "1.5.0",
      "_model_name": "HTMLModel",
      "_view_count": null,
      "_view_module": "@jupyter-widgets/controls",
      "_view_module_version": "1.5.0",
      "_view_name": "HTMLView",
      "description": "",
      "description_tooltip": null,
      "layout": "IPY_MODEL_58df47e13b1e48a8863e48d6a12a98b5",
      "placeholder": "​",
      "style": "IPY_MODEL_a6b4481c94ad4af181ff0934ee7fca92",
      "value": "Downloading readme: 100%"
     }
    },
    "a3a2891c78654d639a25ff7522357b26": {
     "model_module": "@jupyter-widgets/controls",
     "model_name": "FloatProgressModel",
     "model_module_version": "1.5.0",
     "state": {
      "_dom_classes": [],
      "_model_module": "@jupyter-widgets/controls",
      "_model_module_version": "1.5.0",
      "_model_name": "FloatProgressModel",
      "_view_count": null,
      "_view_module": "@jupyter-widgets/controls",
      "_view_module_version": "1.5.0",
      "_view_name": "ProgressView",
      "bar_style": "success",
      "description": "",
      "description_tooltip": null,
      "layout": "IPY_MODEL_ca007860138646589925567fa12ee1f9",
      "max": 7946,
      "min": 0,
      "orientation": "horizontal",
      "style": "IPY_MODEL_903b7cdb57de41459650c226b5629d05",
      "value": 7946
     }
    },
    "7caa28a01d5541e98ca6d2bd0c3f0a4c": {
     "model_module": "@jupyter-widgets/controls",
     "model_name": "HTMLModel",
     "model_module_version": "1.5.0",
     "state": {
      "_dom_classes": [],
      "_model_module": "@jupyter-widgets/controls",
      "_model_module_version": "1.5.0",
      "_model_name": "HTMLModel",
      "_view_count": null,
      "_view_module": "@jupyter-widgets/controls",
      "_view_module_version": "1.5.0",
      "_view_name": "HTMLView",
      "description": "",
      "description_tooltip": null,
      "layout": "IPY_MODEL_196e3535fb3b4ede9c86fe2c79009322",
      "placeholder": "​",
      "style": "IPY_MODEL_e2cbb1d5b4e1497e804bf00332a14743",
      "value": " 7.95k/7.95k [00:00&lt;00:00, 220kB/s]"
     }
    },
    "f5a54984249a47dd8ac113ce96ddbb71": {
     "model_module": "@jupyter-widgets/base",
     "model_name": "LayoutModel",
     "model_module_version": "1.2.0",
     "state": {
      "_model_module": "@jupyter-widgets/base",
      "_model_module_version": "1.2.0",
      "_model_name": "LayoutModel",
      "_view_count": null,
      "_view_module": "@jupyter-widgets/base",
      "_view_module_version": "1.2.0",
      "_view_name": "LayoutView",
      "align_content": null,
      "align_items": null,
      "align_self": null,
      "border": null,
      "bottom": null,
      "display": null,
      "flex": null,
      "flex_flow": null,
      "grid_area": null,
      "grid_auto_columns": null,
      "grid_auto_flow": null,
      "grid_auto_rows": null,
      "grid_column": null,
      "grid_gap": null,
      "grid_row": null,
      "grid_template_areas": null,
      "grid_template_columns": null,
      "grid_template_rows": null,
      "height": null,
      "justify_content": null,
      "justify_items": null,
      "left": null,
      "margin": null,
      "max_height": null,
      "max_width": null,
      "min_height": null,
      "min_width": null,
      "object_fit": null,
      "object_position": null,
      "order": null,
      "overflow": null,
      "overflow_x": null,
      "overflow_y": null,
      "padding": null,
      "right": null,
      "top": null,
      "visibility": null,
      "width": null
     }
    },
    "58df47e13b1e48a8863e48d6a12a98b5": {
     "model_module": "@jupyter-widgets/base",
     "model_name": "LayoutModel",
     "model_module_version": "1.2.0",
     "state": {
      "_model_module": "@jupyter-widgets/base",
      "_model_module_version": "1.2.0",
      "_model_name": "LayoutModel",
      "_view_count": null,
      "_view_module": "@jupyter-widgets/base",
      "_view_module_version": "1.2.0",
      "_view_name": "LayoutView",
      "align_content": null,
      "align_items": null,
      "align_self": null,
      "border": null,
      "bottom": null,
      "display": null,
      "flex": null,
      "flex_flow": null,
      "grid_area": null,
      "grid_auto_columns": null,
      "grid_auto_flow": null,
      "grid_auto_rows": null,
      "grid_column": null,
      "grid_gap": null,
      "grid_row": null,
      "grid_template_areas": null,
      "grid_template_columns": null,
      "grid_template_rows": null,
      "height": null,
      "justify_content": null,
      "justify_items": null,
      "left": null,
      "margin": null,
      "max_height": null,
      "max_width": null,
      "min_height": null,
      "min_width": null,
      "object_fit": null,
      "object_position": null,
      "order": null,
      "overflow": null,
      "overflow_x": null,
      "overflow_y": null,
      "padding": null,
      "right": null,
      "top": null,
      "visibility": null,
      "width": null
     }
    },
    "a6b4481c94ad4af181ff0934ee7fca92": {
     "model_module": "@jupyter-widgets/controls",
     "model_name": "DescriptionStyleModel",
     "model_module_version": "1.5.0",
     "state": {
      "_model_module": "@jupyter-widgets/controls",
      "_model_module_version": "1.5.0",
      "_model_name": "DescriptionStyleModel",
      "_view_count": null,
      "_view_module": "@jupyter-widgets/base",
      "_view_module_version": "1.2.0",
      "_view_name": "StyleView",
      "description_width": ""
     }
    },
    "ca007860138646589925567fa12ee1f9": {
     "model_module": "@jupyter-widgets/base",
     "model_name": "LayoutModel",
     "model_module_version": "1.2.0",
     "state": {
      "_model_module": "@jupyter-widgets/base",
      "_model_module_version": "1.2.0",
      "_model_name": "LayoutModel",
      "_view_count": null,
      "_view_module": "@jupyter-widgets/base",
      "_view_module_version": "1.2.0",
      "_view_name": "LayoutView",
      "align_content": null,
      "align_items": null,
      "align_self": null,
      "border": null,
      "bottom": null,
      "display": null,
      "flex": null,
      "flex_flow": null,
      "grid_area": null,
      "grid_auto_columns": null,
      "grid_auto_flow": null,
      "grid_auto_rows": null,
      "grid_column": null,
      "grid_gap": null,
      "grid_row": null,
      "grid_template_areas": null,
      "grid_template_columns": null,
      "grid_template_rows": null,
      "height": null,
      "justify_content": null,
      "justify_items": null,
      "left": null,
      "margin": null,
      "max_height": null,
      "max_width": null,
      "min_height": null,
      "min_width": null,
      "object_fit": null,
      "object_position": null,
      "order": null,
      "overflow": null,
      "overflow_x": null,
      "overflow_y": null,
      "padding": null,
      "right": null,
      "top": null,
      "visibility": null,
      "width": null
     }
    },
    "903b7cdb57de41459650c226b5629d05": {
     "model_module": "@jupyter-widgets/controls",
     "model_name": "ProgressStyleModel",
     "model_module_version": "1.5.0",
     "state": {
      "_model_module": "@jupyter-widgets/controls",
      "_model_module_version": "1.5.0",
      "_model_name": "ProgressStyleModel",
      "_view_count": null,
      "_view_module": "@jupyter-widgets/base",
      "_view_module_version": "1.2.0",
      "_view_name": "StyleView",
      "bar_color": null,
      "description_width": ""
     }
    },
    "196e3535fb3b4ede9c86fe2c79009322": {
     "model_module": "@jupyter-widgets/base",
     "model_name": "LayoutModel",
     "model_module_version": "1.2.0",
     "state": {
      "_model_module": "@jupyter-widgets/base",
      "_model_module_version": "1.2.0",
      "_model_name": "LayoutModel",
      "_view_count": null,
      "_view_module": "@jupyter-widgets/base",
      "_view_module_version": "1.2.0",
      "_view_name": "LayoutView",
      "align_content": null,
      "align_items": null,
      "align_self": null,
      "border": null,
      "bottom": null,
      "display": null,
      "flex": null,
      "flex_flow": null,
      "grid_area": null,
      "grid_auto_columns": null,
      "grid_auto_flow": null,
      "grid_auto_rows": null,
      "grid_column": null,
      "grid_gap": null,
      "grid_row": null,
      "grid_template_areas": null,
      "grid_template_columns": null,
      "grid_template_rows": null,
      "height": null,
      "justify_content": null,
      "justify_items": null,
      "left": null,
      "margin": null,
      "max_height": null,
      "max_width": null,
      "min_height": null,
      "min_width": null,
      "object_fit": null,
      "object_position": null,
      "order": null,
      "overflow": null,
      "overflow_x": null,
      "overflow_y": null,
      "padding": null,
      "right": null,
      "top": null,
      "visibility": null,
      "width": null
     }
    },
    "e2cbb1d5b4e1497e804bf00332a14743": {
     "model_module": "@jupyter-widgets/controls",
     "model_name": "DescriptionStyleModel",
     "model_module_version": "1.5.0",
     "state": {
      "_model_module": "@jupyter-widgets/controls",
      "_model_module_version": "1.5.0",
      "_model_name": "DescriptionStyleModel",
      "_view_count": null,
      "_view_module": "@jupyter-widgets/base",
      "_view_module_version": "1.2.0",
      "_view_name": "StyleView",
      "description_width": ""
     }
    },
    "a2422c15e5ba42bf87eb6fdcd0604ec1": {
     "model_module": "@jupyter-widgets/controls",
     "model_name": "HBoxModel",
     "model_module_version": "1.5.0",
     "state": {
      "_dom_classes": [],
      "_model_module": "@jupyter-widgets/controls",
      "_model_module_version": "1.5.0",
      "_model_name": "HBoxModel",
      "_view_count": null,
      "_view_module": "@jupyter-widgets/controls",
      "_view_module_version": "1.5.0",
      "_view_name": "HBoxView",
      "box_style": "",
      "children": [
       "IPY_MODEL_96f4ff5cfc7b40e995a6c8ecd3546f6b",
       "IPY_MODEL_bc6ee58abaa643cd9643064537784d64",
       "IPY_MODEL_df0ff75a6c5a474295564794954addc4"
      ],
      "layout": "IPY_MODEL_540219b4cc9b4ace9c70feb8a8146480"
     }
    },
    "96f4ff5cfc7b40e995a6c8ecd3546f6b": {
     "model_module": "@jupyter-widgets/controls",
     "model_name": "HTMLModel",
     "model_module_version": "1.5.0",
     "state": {
      "_dom_classes": [],
      "_model_module": "@jupyter-widgets/controls",
      "_model_module_version": "1.5.0",
      "_model_name": "HTMLModel",
      "_view_count": null,
      "_view_module": "@jupyter-widgets/controls",
      "_view_module_version": "1.5.0",
      "_view_name": "HTMLView",
      "description": "",
      "description_tooltip": null,
      "layout": "IPY_MODEL_b3ba7361fe3b46e3a208bf6416131f28",
      "placeholder": "​",
      "style": "IPY_MODEL_feac1851ed644eeb98fb9ac9aadd7f41",
      "value": "Downloading data: "
     }
    },
    "bc6ee58abaa643cd9643064537784d64": {
     "model_module": "@jupyter-widgets/controls",
     "model_name": "FloatProgressModel",
     "model_module_version": "1.5.0",
     "state": {
      "_dom_classes": [],
      "_model_module": "@jupyter-widgets/controls",
      "_model_module_version": "1.5.0",
      "_model_name": "FloatProgressModel",
      "_view_count": null,
      "_view_module": "@jupyter-widgets/controls",
      "_view_module_version": "1.5.0",
      "_view_name": "ProgressView",
      "bar_style": "success",
      "description": "",
      "description_tooltip": null,
      "layout": "IPY_MODEL_ccf9677bca0141dba7ba27dde42276e1",
      "max": 11045148,
      "min": 0,
      "orientation": "horizontal",
      "style": "IPY_MODEL_0401a08736004c4cafe05feae921849f",
      "value": 11045148
     }
    },
    "df0ff75a6c5a474295564794954addc4": {
     "model_module": "@jupyter-widgets/controls",
     "model_name": "HTMLModel",
     "model_module_version": "1.5.0",
     "state": {
      "_dom_classes": [],
      "_model_module": "@jupyter-widgets/controls",
      "_model_module_version": "1.5.0",
      "_model_name": "HTMLModel",
      "_view_count": null,
      "_view_module": "@jupyter-widgets/controls",
      "_view_module_version": "1.5.0",
      "_view_name": "HTMLView",
      "description": "",
      "description_tooltip": null,
      "layout": "IPY_MODEL_dc1d3746c5cf4817b8e80bf92ad02d71",
      "placeholder": "​",
      "style": "IPY_MODEL_33521ca994f14e55aa040cfc2f5d1105",
      "value": " 29.5M/? [00:01&lt;00:00, 20.2MB/s]"
     }
    },
    "540219b4cc9b4ace9c70feb8a8146480": {
     "model_module": "@jupyter-widgets/base",
     "model_name": "LayoutModel",
     "model_module_version": "1.2.0",
     "state": {
      "_model_module": "@jupyter-widgets/base",
      "_model_module_version": "1.2.0",
      "_model_name": "LayoutModel",
      "_view_count": null,
      "_view_module": "@jupyter-widgets/base",
      "_view_module_version": "1.2.0",
      "_view_name": "LayoutView",
      "align_content": null,
      "align_items": null,
      "align_self": null,
      "border": null,
      "bottom": null,
      "display": null,
      "flex": null,
      "flex_flow": null,
      "grid_area": null,
      "grid_auto_columns": null,
      "grid_auto_flow": null,
      "grid_auto_rows": null,
      "grid_column": null,
      "grid_gap": null,
      "grid_row": null,
      "grid_template_areas": null,
      "grid_template_columns": null,
      "grid_template_rows": null,
      "height": null,
      "justify_content": null,
      "justify_items": null,
      "left": null,
      "margin": null,
      "max_height": null,
      "max_width": null,
      "min_height": null,
      "min_width": null,
      "object_fit": null,
      "object_position": null,
      "order": null,
      "overflow": null,
      "overflow_x": null,
      "overflow_y": null,
      "padding": null,
      "right": null,
      "top": null,
      "visibility": null,
      "width": null
     }
    },
    "b3ba7361fe3b46e3a208bf6416131f28": {
     "model_module": "@jupyter-widgets/base",
     "model_name": "LayoutModel",
     "model_module_version": "1.2.0",
     "state": {
      "_model_module": "@jupyter-widgets/base",
      "_model_module_version": "1.2.0",
      "_model_name": "LayoutModel",
      "_view_count": null,
      "_view_module": "@jupyter-widgets/base",
      "_view_module_version": "1.2.0",
      "_view_name": "LayoutView",
      "align_content": null,
      "align_items": null,
      "align_self": null,
      "border": null,
      "bottom": null,
      "display": null,
      "flex": null,
      "flex_flow": null,
      "grid_area": null,
      "grid_auto_columns": null,
      "grid_auto_flow": null,
      "grid_auto_rows": null,
      "grid_column": null,
      "grid_gap": null,
      "grid_row": null,
      "grid_template_areas": null,
      "grid_template_columns": null,
      "grid_template_rows": null,
      "height": null,
      "justify_content": null,
      "justify_items": null,
      "left": null,
      "margin": null,
      "max_height": null,
      "max_width": null,
      "min_height": null,
      "min_width": null,
      "object_fit": null,
      "object_position": null,
      "order": null,
      "overflow": null,
      "overflow_x": null,
      "overflow_y": null,
      "padding": null,
      "right": null,
      "top": null,
      "visibility": null,
      "width": null
     }
    },
    "feac1851ed644eeb98fb9ac9aadd7f41": {
     "model_module": "@jupyter-widgets/controls",
     "model_name": "DescriptionStyleModel",
     "model_module_version": "1.5.0",
     "state": {
      "_model_module": "@jupyter-widgets/controls",
      "_model_module_version": "1.5.0",
      "_model_name": "DescriptionStyleModel",
      "_view_count": null,
      "_view_module": "@jupyter-widgets/base",
      "_view_module_version": "1.2.0",
      "_view_name": "StyleView",
      "description_width": ""
     }
    },
    "ccf9677bca0141dba7ba27dde42276e1": {
     "model_module": "@jupyter-widgets/base",
     "model_name": "LayoutModel",
     "model_module_version": "1.2.0",
     "state": {
      "_model_module": "@jupyter-widgets/base",
      "_model_module_version": "1.2.0",
      "_model_name": "LayoutModel",
      "_view_count": null,
      "_view_module": "@jupyter-widgets/base",
      "_view_module_version": "1.2.0",
      "_view_name": "LayoutView",
      "align_content": null,
      "align_items": null,
      "align_self": null,
      "border": null,
      "bottom": null,
      "display": null,
      "flex": null,
      "flex_flow": null,
      "grid_area": null,
      "grid_auto_columns": null,
      "grid_auto_flow": null,
      "grid_auto_rows": null,
      "grid_column": null,
      "grid_gap": null,
      "grid_row": null,
      "grid_template_areas": null,
      "grid_template_columns": null,
      "grid_template_rows": null,
      "height": null,
      "justify_content": null,
      "justify_items": null,
      "left": null,
      "margin": null,
      "max_height": null,
      "max_width": null,
      "min_height": null,
      "min_width": null,
      "object_fit": null,
      "object_position": null,
      "order": null,
      "overflow": null,
      "overflow_x": null,
      "overflow_y": null,
      "padding": null,
      "right": null,
      "top": null,
      "visibility": null,
      "width": null
     }
    },
    "0401a08736004c4cafe05feae921849f": {
     "model_module": "@jupyter-widgets/controls",
     "model_name": "ProgressStyleModel",
     "model_module_version": "1.5.0",
     "state": {
      "_model_module": "@jupyter-widgets/controls",
      "_model_module_version": "1.5.0",
      "_model_name": "ProgressStyleModel",
      "_view_count": null,
      "_view_module": "@jupyter-widgets/base",
      "_view_module_version": "1.2.0",
      "_view_name": "StyleView",
      "bar_color": null,
      "description_width": ""
     }
    },
    "dc1d3746c5cf4817b8e80bf92ad02d71": {
     "model_module": "@jupyter-widgets/base",
     "model_name": "LayoutModel",
     "model_module_version": "1.2.0",
     "state": {
      "_model_module": "@jupyter-widgets/base",
      "_model_module_version": "1.2.0",
      "_model_name": "LayoutModel",
      "_view_count": null,
      "_view_module": "@jupyter-widgets/base",
      "_view_module_version": "1.2.0",
      "_view_name": "LayoutView",
      "align_content": null,
      "align_items": null,
      "align_self": null,
      "border": null,
      "bottom": null,
      "display": null,
      "flex": null,
      "flex_flow": null,
      "grid_area": null,
      "grid_auto_columns": null,
      "grid_auto_flow": null,
      "grid_auto_rows": null,
      "grid_column": null,
      "grid_gap": null,
      "grid_row": null,
      "grid_template_areas": null,
      "grid_template_columns": null,
      "grid_template_rows": null,
      "height": null,
      "justify_content": null,
      "justify_items": null,
      "left": null,
      "margin": null,
      "max_height": null,
      "max_width": null,
      "min_height": null,
      "min_width": null,
      "object_fit": null,
      "object_position": null,
      "order": null,
      "overflow": null,
      "overflow_x": null,
      "overflow_y": null,
      "padding": null,
      "right": null,
      "top": null,
      "visibility": null,
      "width": null
     }
    },
    "33521ca994f14e55aa040cfc2f5d1105": {
     "model_module": "@jupyter-widgets/controls",
     "model_name": "DescriptionStyleModel",
     "model_module_version": "1.5.0",
     "state": {
      "_model_module": "@jupyter-widgets/controls",
      "_model_module_version": "1.5.0",
      "_model_name": "DescriptionStyleModel",
      "_view_count": null,
      "_view_module": "@jupyter-widgets/base",
      "_view_module_version": "1.2.0",
      "_view_name": "StyleView",
      "description_width": ""
     }
    },
    "4ceb025f703948e4971486323e58c3e4": {
     "model_module": "@jupyter-widgets/controls",
     "model_name": "HBoxModel",
     "model_module_version": "1.5.0",
     "state": {
      "_dom_classes": [],
      "_model_module": "@jupyter-widgets/controls",
      "_model_module_version": "1.5.0",
      "_model_name": "HBoxModel",
      "_view_count": null,
      "_view_module": "@jupyter-widgets/controls",
      "_view_module_version": "1.5.0",
      "_view_name": "HBoxView",
      "box_style": "",
      "children": [
       "IPY_MODEL_8136ea38174b46fe99d4549e396adbaf",
       "IPY_MODEL_596c2a7e529b45a7973496e02b50ee17",
       "IPY_MODEL_04c14b466921444299752b1bf6cac9fb"
      ],
      "layout": "IPY_MODEL_99b28ecd95564dbc99ef588f42ae1dd2"
     }
    },
    "8136ea38174b46fe99d4549e396adbaf": {
     "model_module": "@jupyter-widgets/controls",
     "model_name": "HTMLModel",
     "model_module_version": "1.5.0",
     "state": {
      "_dom_classes": [],
      "_model_module": "@jupyter-widgets/controls",
      "_model_module_version": "1.5.0",
      "_model_name": "HTMLModel",
      "_view_count": null,
      "_view_module": "@jupyter-widgets/controls",
      "_view_module_version": "1.5.0",
      "_view_name": "HTMLView",
      "description": "",
      "description_tooltip": null,
      "layout": "IPY_MODEL_5494c2f8716a4da0a846bfad0e25b425",
      "placeholder": "​",
      "style": "IPY_MODEL_f5d44bab5deb4be18b828d9c78feb5da",
      "value": "Downloading data: "
     }
    },
    "596c2a7e529b45a7973496e02b50ee17": {
     "model_module": "@jupyter-widgets/controls",
     "model_name": "FloatProgressModel",
     "model_module_version": "1.5.0",
     "state": {
      "_dom_classes": [],
      "_model_module": "@jupyter-widgets/controls",
      "_model_module_version": "1.5.0",
      "_model_name": "FloatProgressModel",
      "_view_count": null,
      "_view_module": "@jupyter-widgets/controls",
      "_view_module_version": "1.5.0",
      "_view_name": "ProgressView",
      "bar_style": "success",
      "description": "",
      "description_tooltip": null,
      "layout": "IPY_MODEL_dcab6933e7e6483fb37ef3ea4f2f96cb",
      "max": 751209,
      "min": 0,
      "orientation": "horizontal",
      "style": "IPY_MODEL_3018b5e2177b4eb7ba0f562b7db28fe4",
      "value": 751209
     }
    },
    "04c14b466921444299752b1bf6cac9fb": {
     "model_module": "@jupyter-widgets/controls",
     "model_name": "HTMLModel",
     "model_module_version": "1.5.0",
     "state": {
      "_dom_classes": [],
      "_model_module": "@jupyter-widgets/controls",
      "_model_module_version": "1.5.0",
      "_model_name": "HTMLModel",
      "_view_count": null,
      "_view_module": "@jupyter-widgets/controls",
      "_view_module_version": "1.5.0",
      "_view_name": "HTMLView",
      "description": "",
      "description_tooltip": null,
      "layout": "IPY_MODEL_3bdb6917a86249c6a094d5d8e1433365",
      "placeholder": "​",
      "style": "IPY_MODEL_a1f665b2995b4d62a2881de651810d44",
      "value": " 1.86M/? [00:00&lt;00:00, 5.85MB/s]"
     }
    },
    "99b28ecd95564dbc99ef588f42ae1dd2": {
     "model_module": "@jupyter-widgets/base",
     "model_name": "LayoutModel",
     "model_module_version": "1.2.0",
     "state": {
      "_model_module": "@jupyter-widgets/base",
      "_model_module_version": "1.2.0",
      "_model_name": "LayoutModel",
      "_view_count": null,
      "_view_module": "@jupyter-widgets/base",
      "_view_module_version": "1.2.0",
      "_view_name": "LayoutView",
      "align_content": null,
      "align_items": null,
      "align_self": null,
      "border": null,
      "bottom": null,
      "display": null,
      "flex": null,
      "flex_flow": null,
      "grid_area": null,
      "grid_auto_columns": null,
      "grid_auto_flow": null,
      "grid_auto_rows": null,
      "grid_column": null,
      "grid_gap": null,
      "grid_row": null,
      "grid_template_areas": null,
      "grid_template_columns": null,
      "grid_template_rows": null,
      "height": null,
      "justify_content": null,
      "justify_items": null,
      "left": null,
      "margin": null,
      "max_height": null,
      "max_width": null,
      "min_height": null,
      "min_width": null,
      "object_fit": null,
      "object_position": null,
      "order": null,
      "overflow": null,
      "overflow_x": null,
      "overflow_y": null,
      "padding": null,
      "right": null,
      "top": null,
      "visibility": null,
      "width": null
     }
    },
    "5494c2f8716a4da0a846bfad0e25b425": {
     "model_module": "@jupyter-widgets/base",
     "model_name": "LayoutModel",
     "model_module_version": "1.2.0",
     "state": {
      "_model_module": "@jupyter-widgets/base",
      "_model_module_version": "1.2.0",
      "_model_name": "LayoutModel",
      "_view_count": null,
      "_view_module": "@jupyter-widgets/base",
      "_view_module_version": "1.2.0",
      "_view_name": "LayoutView",
      "align_content": null,
      "align_items": null,
      "align_self": null,
      "border": null,
      "bottom": null,
      "display": null,
      "flex": null,
      "flex_flow": null,
      "grid_area": null,
      "grid_auto_columns": null,
      "grid_auto_flow": null,
      "grid_auto_rows": null,
      "grid_column": null,
      "grid_gap": null,
      "grid_row": null,
      "grid_template_areas": null,
      "grid_template_columns": null,
      "grid_template_rows": null,
      "height": null,
      "justify_content": null,
      "justify_items": null,
      "left": null,
      "margin": null,
      "max_height": null,
      "max_width": null,
      "min_height": null,
      "min_width": null,
      "object_fit": null,
      "object_position": null,
      "order": null,
      "overflow": null,
      "overflow_x": null,
      "overflow_y": null,
      "padding": null,
      "right": null,
      "top": null,
      "visibility": null,
      "width": null
     }
    },
    "f5d44bab5deb4be18b828d9c78feb5da": {
     "model_module": "@jupyter-widgets/controls",
     "model_name": "DescriptionStyleModel",
     "model_module_version": "1.5.0",
     "state": {
      "_model_module": "@jupyter-widgets/controls",
      "_model_module_version": "1.5.0",
      "_model_name": "DescriptionStyleModel",
      "_view_count": null,
      "_view_module": "@jupyter-widgets/base",
      "_view_module_version": "1.2.0",
      "_view_name": "StyleView",
      "description_width": ""
     }
    },
    "dcab6933e7e6483fb37ef3ea4f2f96cb": {
     "model_module": "@jupyter-widgets/base",
     "model_name": "LayoutModel",
     "model_module_version": "1.2.0",
     "state": {
      "_model_module": "@jupyter-widgets/base",
      "_model_module_version": "1.2.0",
      "_model_name": "LayoutModel",
      "_view_count": null,
      "_view_module": "@jupyter-widgets/base",
      "_view_module_version": "1.2.0",
      "_view_name": "LayoutView",
      "align_content": null,
      "align_items": null,
      "align_self": null,
      "border": null,
      "bottom": null,
      "display": null,
      "flex": null,
      "flex_flow": null,
      "grid_area": null,
      "grid_auto_columns": null,
      "grid_auto_flow": null,
      "grid_auto_rows": null,
      "grid_column": null,
      "grid_gap": null,
      "grid_row": null,
      "grid_template_areas": null,
      "grid_template_columns": null,
      "grid_template_rows": null,
      "height": null,
      "justify_content": null,
      "justify_items": null,
      "left": null,
      "margin": null,
      "max_height": null,
      "max_width": null,
      "min_height": null,
      "min_width": null,
      "object_fit": null,
      "object_position": null,
      "order": null,
      "overflow": null,
      "overflow_x": null,
      "overflow_y": null,
      "padding": null,
      "right": null,
      "top": null,
      "visibility": null,
      "width": null
     }
    },
    "3018b5e2177b4eb7ba0f562b7db28fe4": {
     "model_module": "@jupyter-widgets/controls",
     "model_name": "ProgressStyleModel",
     "model_module_version": "1.5.0",
     "state": {
      "_model_module": "@jupyter-widgets/controls",
      "_model_module_version": "1.5.0",
      "_model_name": "ProgressStyleModel",
      "_view_count": null,
      "_view_module": "@jupyter-widgets/base",
      "_view_module_version": "1.2.0",
      "_view_name": "StyleView",
      "bar_color": null,
      "description_width": ""
     }
    },
    "3bdb6917a86249c6a094d5d8e1433365": {
     "model_module": "@jupyter-widgets/base",
     "model_name": "LayoutModel",
     "model_module_version": "1.2.0",
     "state": {
      "_model_module": "@jupyter-widgets/base",
      "_model_module_version": "1.2.0",
      "_model_name": "LayoutModel",
      "_view_count": null,
      "_view_module": "@jupyter-widgets/base",
      "_view_module_version": "1.2.0",
      "_view_name": "LayoutView",
      "align_content": null,
      "align_items": null,
      "align_self": null,
      "border": null,
      "bottom": null,
      "display": null,
      "flex": null,
      "flex_flow": null,
      "grid_area": null,
      "grid_auto_columns": null,
      "grid_auto_flow": null,
      "grid_auto_rows": null,
      "grid_column": null,
      "grid_gap": null,
      "grid_row": null,
      "grid_template_areas": null,
      "grid_template_columns": null,
      "grid_template_rows": null,
      "height": null,
      "justify_content": null,
      "justify_items": null,
      "left": null,
      "margin": null,
      "max_height": null,
      "max_width": null,
      "min_height": null,
      "min_width": null,
      "object_fit": null,
      "object_position": null,
      "order": null,
      "overflow": null,
      "overflow_x": null,
      "overflow_y": null,
      "padding": null,
      "right": null,
      "top": null,
      "visibility": null,
      "width": null
     }
    },
    "a1f665b2995b4d62a2881de651810d44": {
     "model_module": "@jupyter-widgets/controls",
     "model_name": "DescriptionStyleModel",
     "model_module_version": "1.5.0",
     "state": {
      "_model_module": "@jupyter-widgets/controls",
      "_model_module_version": "1.5.0",
      "_model_name": "DescriptionStyleModel",
      "_view_count": null,
      "_view_module": "@jupyter-widgets/base",
      "_view_module_version": "1.2.0",
      "_view_name": "StyleView",
      "description_width": ""
     }
    },
    "38c3fbf1198e4f7cbfc990cb362be0ba": {
     "model_module": "@jupyter-widgets/controls",
     "model_name": "HBoxModel",
     "model_module_version": "1.5.0",
     "state": {
      "_dom_classes": [],
      "_model_module": "@jupyter-widgets/controls",
      "_model_module_version": "1.5.0",
      "_model_name": "HBoxModel",
      "_view_count": null,
      "_view_module": "@jupyter-widgets/controls",
      "_view_module_version": "1.5.0",
      "_view_name": "HBoxView",
      "box_style": "",
      "children": [
       "IPY_MODEL_9fbc7d78c453476c8a6ace8a267aa6f3",
       "IPY_MODEL_88bf756ae2ef454da07e153e26d6b272",
       "IPY_MODEL_0872109d55664634958251b1c8a3879e"
      ],
      "layout": "IPY_MODEL_e43cb91bee254131af50f2af50be3a4e"
     }
    },
    "9fbc7d78c453476c8a6ace8a267aa6f3": {
     "model_module": "@jupyter-widgets/controls",
     "model_name": "HTMLModel",
     "model_module_version": "1.5.0",
     "state": {
      "_dom_classes": [],
      "_model_module": "@jupyter-widgets/controls",
      "_model_module_version": "1.5.0",
      "_model_name": "HTMLModel",
      "_view_count": null,
      "_view_module": "@jupyter-widgets/controls",
      "_view_module_version": "1.5.0",
      "_view_name": "HTMLView",
      "description": "",
      "description_tooltip": null,
      "layout": "IPY_MODEL_cb8cdb1fcd394e79be9fcfb5708fee31",
      "placeholder": "​",
      "style": "IPY_MODEL_55b7456ea0be447a8b87f75226163726",
      "value": "Generating train split: 100%"
     }
    },
    "88bf756ae2ef454da07e153e26d6b272": {
     "model_module": "@jupyter-widgets/controls",
     "model_name": "FloatProgressModel",
     "model_module_version": "1.5.0",
     "state": {
      "_dom_classes": [],
      "_model_module": "@jupyter-widgets/controls",
      "_model_module_version": "1.5.0",
      "_model_name": "FloatProgressModel",
      "_view_count": null,
      "_view_module": "@jupyter-widgets/controls",
      "_view_module_version": "1.5.0",
      "_view_name": "ProgressView",
      "bar_style": "",
      "description": "",
      "description_tooltip": null,
      "layout": "IPY_MODEL_6c7372f597dc48b2bd71771c13fbe1ca",
      "max": 120000,
      "min": 0,
      "orientation": "horizontal",
      "style": "IPY_MODEL_e7a723bfbede426a9c9184ed02ff2574",
      "value": 120000
     }
    },
    "0872109d55664634958251b1c8a3879e": {
     "model_module": "@jupyter-widgets/controls",
     "model_name": "HTMLModel",
     "model_module_version": "1.5.0",
     "state": {
      "_dom_classes": [],
      "_model_module": "@jupyter-widgets/controls",
      "_model_module_version": "1.5.0",
      "_model_name": "HTMLModel",
      "_view_count": null,
      "_view_module": "@jupyter-widgets/controls",
      "_view_module_version": "1.5.0",
      "_view_name": "HTMLView",
      "description": "",
      "description_tooltip": null,
      "layout": "IPY_MODEL_1644c4f507954f0ba03aeb75b80b93ba",
      "placeholder": "​",
      "style": "IPY_MODEL_bc1cab86f2d6492cb79c21c25206955e",
      "value": " 120000/120000 [00:26&lt;00:00, 36707.70 examples/s]"
     }
    },
    "e43cb91bee254131af50f2af50be3a4e": {
     "model_module": "@jupyter-widgets/base",
     "model_name": "LayoutModel",
     "model_module_version": "1.2.0",
     "state": {
      "_model_module": "@jupyter-widgets/base",
      "_model_module_version": "1.2.0",
      "_model_name": "LayoutModel",
      "_view_count": null,
      "_view_module": "@jupyter-widgets/base",
      "_view_module_version": "1.2.0",
      "_view_name": "LayoutView",
      "align_content": null,
      "align_items": null,
      "align_self": null,
      "border": null,
      "bottom": null,
      "display": null,
      "flex": null,
      "flex_flow": null,
      "grid_area": null,
      "grid_auto_columns": null,
      "grid_auto_flow": null,
      "grid_auto_rows": null,
      "grid_column": null,
      "grid_gap": null,
      "grid_row": null,
      "grid_template_areas": null,
      "grid_template_columns": null,
      "grid_template_rows": null,
      "height": null,
      "justify_content": null,
      "justify_items": null,
      "left": null,
      "margin": null,
      "max_height": null,
      "max_width": null,
      "min_height": null,
      "min_width": null,
      "object_fit": null,
      "object_position": null,
      "order": null,
      "overflow": null,
      "overflow_x": null,
      "overflow_y": null,
      "padding": null,
      "right": null,
      "top": null,
      "visibility": "hidden",
      "width": null
     }
    },
    "cb8cdb1fcd394e79be9fcfb5708fee31": {
     "model_module": "@jupyter-widgets/base",
     "model_name": "LayoutModel",
     "model_module_version": "1.2.0",
     "state": {
      "_model_module": "@jupyter-widgets/base",
      "_model_module_version": "1.2.0",
      "_model_name": "LayoutModel",
      "_view_count": null,
      "_view_module": "@jupyter-widgets/base",
      "_view_module_version": "1.2.0",
      "_view_name": "LayoutView",
      "align_content": null,
      "align_items": null,
      "align_self": null,
      "border": null,
      "bottom": null,
      "display": null,
      "flex": null,
      "flex_flow": null,
      "grid_area": null,
      "grid_auto_columns": null,
      "grid_auto_flow": null,
      "grid_auto_rows": null,
      "grid_column": null,
      "grid_gap": null,
      "grid_row": null,
      "grid_template_areas": null,
      "grid_template_columns": null,
      "grid_template_rows": null,
      "height": null,
      "justify_content": null,
      "justify_items": null,
      "left": null,
      "margin": null,
      "max_height": null,
      "max_width": null,
      "min_height": null,
      "min_width": null,
      "object_fit": null,
      "object_position": null,
      "order": null,
      "overflow": null,
      "overflow_x": null,
      "overflow_y": null,
      "padding": null,
      "right": null,
      "top": null,
      "visibility": null,
      "width": null
     }
    },
    "55b7456ea0be447a8b87f75226163726": {
     "model_module": "@jupyter-widgets/controls",
     "model_name": "DescriptionStyleModel",
     "model_module_version": "1.5.0",
     "state": {
      "_model_module": "@jupyter-widgets/controls",
      "_model_module_version": "1.5.0",
      "_model_name": "DescriptionStyleModel",
      "_view_count": null,
      "_view_module": "@jupyter-widgets/base",
      "_view_module_version": "1.2.0",
      "_view_name": "StyleView",
      "description_width": ""
     }
    },
    "6c7372f597dc48b2bd71771c13fbe1ca": {
     "model_module": "@jupyter-widgets/base",
     "model_name": "LayoutModel",
     "model_module_version": "1.2.0",
     "state": {
      "_model_module": "@jupyter-widgets/base",
      "_model_module_version": "1.2.0",
      "_model_name": "LayoutModel",
      "_view_count": null,
      "_view_module": "@jupyter-widgets/base",
      "_view_module_version": "1.2.0",
      "_view_name": "LayoutView",
      "align_content": null,
      "align_items": null,
      "align_self": null,
      "border": null,
      "bottom": null,
      "display": null,
      "flex": null,
      "flex_flow": null,
      "grid_area": null,
      "grid_auto_columns": null,
      "grid_auto_flow": null,
      "grid_auto_rows": null,
      "grid_column": null,
      "grid_gap": null,
      "grid_row": null,
      "grid_template_areas": null,
      "grid_template_columns": null,
      "grid_template_rows": null,
      "height": null,
      "justify_content": null,
      "justify_items": null,
      "left": null,
      "margin": null,
      "max_height": null,
      "max_width": null,
      "min_height": null,
      "min_width": null,
      "object_fit": null,
      "object_position": null,
      "order": null,
      "overflow": null,
      "overflow_x": null,
      "overflow_y": null,
      "padding": null,
      "right": null,
      "top": null,
      "visibility": null,
      "width": null
     }
    },
    "e7a723bfbede426a9c9184ed02ff2574": {
     "model_module": "@jupyter-widgets/controls",
     "model_name": "ProgressStyleModel",
     "model_module_version": "1.5.0",
     "state": {
      "_model_module": "@jupyter-widgets/controls",
      "_model_module_version": "1.5.0",
      "_model_name": "ProgressStyleModel",
      "_view_count": null,
      "_view_module": "@jupyter-widgets/base",
      "_view_module_version": "1.2.0",
      "_view_name": "StyleView",
      "bar_color": null,
      "description_width": ""
     }
    },
    "1644c4f507954f0ba03aeb75b80b93ba": {
     "model_module": "@jupyter-widgets/base",
     "model_name": "LayoutModel",
     "model_module_version": "1.2.0",
     "state": {
      "_model_module": "@jupyter-widgets/base",
      "_model_module_version": "1.2.0",
      "_model_name": "LayoutModel",
      "_view_count": null,
      "_view_module": "@jupyter-widgets/base",
      "_view_module_version": "1.2.0",
      "_view_name": "LayoutView",
      "align_content": null,
      "align_items": null,
      "align_self": null,
      "border": null,
      "bottom": null,
      "display": null,
      "flex": null,
      "flex_flow": null,
      "grid_area": null,
      "grid_auto_columns": null,
      "grid_auto_flow": null,
      "grid_auto_rows": null,
      "grid_column": null,
      "grid_gap": null,
      "grid_row": null,
      "grid_template_areas": null,
      "grid_template_columns": null,
      "grid_template_rows": null,
      "height": null,
      "justify_content": null,
      "justify_items": null,
      "left": null,
      "margin": null,
      "max_height": null,
      "max_width": null,
      "min_height": null,
      "min_width": null,
      "object_fit": null,
      "object_position": null,
      "order": null,
      "overflow": null,
      "overflow_x": null,
      "overflow_y": null,
      "padding": null,
      "right": null,
      "top": null,
      "visibility": null,
      "width": null
     }
    },
    "bc1cab86f2d6492cb79c21c25206955e": {
     "model_module": "@jupyter-widgets/controls",
     "model_name": "DescriptionStyleModel",
     "model_module_version": "1.5.0",
     "state": {
      "_model_module": "@jupyter-widgets/controls",
      "_model_module_version": "1.5.0",
      "_model_name": "DescriptionStyleModel",
      "_view_count": null,
      "_view_module": "@jupyter-widgets/base",
      "_view_module_version": "1.2.0",
      "_view_name": "StyleView",
      "description_width": ""
     }
    },
    "11d52f8a43cf44f08db4d15e0609adfd": {
     "model_module": "@jupyter-widgets/controls",
     "model_name": "HBoxModel",
     "model_module_version": "1.5.0",
     "state": {
      "_dom_classes": [],
      "_model_module": "@jupyter-widgets/controls",
      "_model_module_version": "1.5.0",
      "_model_name": "HBoxModel",
      "_view_count": null,
      "_view_module": "@jupyter-widgets/controls",
      "_view_module_version": "1.5.0",
      "_view_name": "HBoxView",
      "box_style": "",
      "children": [
       "IPY_MODEL_dc7219cdf164455e9172bc134d89d35a",
       "IPY_MODEL_58ed943442364505881079688d1fde0d",
       "IPY_MODEL_24e73abed20f4880a8d235907e0df027"
      ],
      "layout": "IPY_MODEL_056cc6bc26f14d1aa27208e4be38bb73"
     }
    },
    "dc7219cdf164455e9172bc134d89d35a": {
     "model_module": "@jupyter-widgets/controls",
     "model_name": "HTMLModel",
     "model_module_version": "1.5.0",
     "state": {
      "_dom_classes": [],
      "_model_module": "@jupyter-widgets/controls",
      "_model_module_version": "1.5.0",
      "_model_name": "HTMLModel",
      "_view_count": null,
      "_view_module": "@jupyter-widgets/controls",
      "_view_module_version": "1.5.0",
      "_view_name": "HTMLView",
      "description": "",
      "description_tooltip": null,
      "layout": "IPY_MODEL_9e2a2ae4fcb54b5ca9f2d714b10061a6",
      "placeholder": "​",
      "style": "IPY_MODEL_c4c47a154f2d40deaddc48a393ca4526",
      "value": "Generating test split: 100%"
     }
    },
    "58ed943442364505881079688d1fde0d": {
     "model_module": "@jupyter-widgets/controls",
     "model_name": "FloatProgressModel",
     "model_module_version": "1.5.0",
     "state": {
      "_dom_classes": [],
      "_model_module": "@jupyter-widgets/controls",
      "_model_module_version": "1.5.0",
      "_model_name": "FloatProgressModel",
      "_view_count": null,
      "_view_module": "@jupyter-widgets/controls",
      "_view_module_version": "1.5.0",
      "_view_name": "ProgressView",
      "bar_style": "",
      "description": "",
      "description_tooltip": null,
      "layout": "IPY_MODEL_a1605863309c42169162d60f6c6475b8",
      "max": 7600,
      "min": 0,
      "orientation": "horizontal",
      "style": "IPY_MODEL_5340dd684eed471ba18cb36d477c9f4d",
      "value": 7600
     }
    },
    "24e73abed20f4880a8d235907e0df027": {
     "model_module": "@jupyter-widgets/controls",
     "model_name": "HTMLModel",
     "model_module_version": "1.5.0",
     "state": {
      "_dom_classes": [],
      "_model_module": "@jupyter-widgets/controls",
      "_model_module_version": "1.5.0",
      "_model_name": "HTMLModel",
      "_view_count": null,
      "_view_module": "@jupyter-widgets/controls",
      "_view_module_version": "1.5.0",
      "_view_name": "HTMLView",
      "description": "",
      "description_tooltip": null,
      "layout": "IPY_MODEL_95572bae4c6f4d85b85202d04b4271a3",
      "placeholder": "​",
      "style": "IPY_MODEL_a3fb5f712cdf4d3da74af03d24622ada",
      "value": " 7600/7600 [00:18&lt;00:00, 29667.50 examples/s]"
     }
    },
    "056cc6bc26f14d1aa27208e4be38bb73": {
     "model_module": "@jupyter-widgets/base",
     "model_name": "LayoutModel",
     "model_module_version": "1.2.0",
     "state": {
      "_model_module": "@jupyter-widgets/base",
      "_model_module_version": "1.2.0",
      "_model_name": "LayoutModel",
      "_view_count": null,
      "_view_module": "@jupyter-widgets/base",
      "_view_module_version": "1.2.0",
      "_view_name": "LayoutView",
      "align_content": null,
      "align_items": null,
      "align_self": null,
      "border": null,
      "bottom": null,
      "display": null,
      "flex": null,
      "flex_flow": null,
      "grid_area": null,
      "grid_auto_columns": null,
      "grid_auto_flow": null,
      "grid_auto_rows": null,
      "grid_column": null,
      "grid_gap": null,
      "grid_row": null,
      "grid_template_areas": null,
      "grid_template_columns": null,
      "grid_template_rows": null,
      "height": null,
      "justify_content": null,
      "justify_items": null,
      "left": null,
      "margin": null,
      "max_height": null,
      "max_width": null,
      "min_height": null,
      "min_width": null,
      "object_fit": null,
      "object_position": null,
      "order": null,
      "overflow": null,
      "overflow_x": null,
      "overflow_y": null,
      "padding": null,
      "right": null,
      "top": null,
      "visibility": "hidden",
      "width": null
     }
    },
    "9e2a2ae4fcb54b5ca9f2d714b10061a6": {
     "model_module": "@jupyter-widgets/base",
     "model_name": "LayoutModel",
     "model_module_version": "1.2.0",
     "state": {
      "_model_module": "@jupyter-widgets/base",
      "_model_module_version": "1.2.0",
      "_model_name": "LayoutModel",
      "_view_count": null,
      "_view_module": "@jupyter-widgets/base",
      "_view_module_version": "1.2.0",
      "_view_name": "LayoutView",
      "align_content": null,
      "align_items": null,
      "align_self": null,
      "border": null,
      "bottom": null,
      "display": null,
      "flex": null,
      "flex_flow": null,
      "grid_area": null,
      "grid_auto_columns": null,
      "grid_auto_flow": null,
      "grid_auto_rows": null,
      "grid_column": null,
      "grid_gap": null,
      "grid_row": null,
      "grid_template_areas": null,
      "grid_template_columns": null,
      "grid_template_rows": null,
      "height": null,
      "justify_content": null,
      "justify_items": null,
      "left": null,
      "margin": null,
      "max_height": null,
      "max_width": null,
      "min_height": null,
      "min_width": null,
      "object_fit": null,
      "object_position": null,
      "order": null,
      "overflow": null,
      "overflow_x": null,
      "overflow_y": null,
      "padding": null,
      "right": null,
      "top": null,
      "visibility": null,
      "width": null
     }
    },
    "c4c47a154f2d40deaddc48a393ca4526": {
     "model_module": "@jupyter-widgets/controls",
     "model_name": "DescriptionStyleModel",
     "model_module_version": "1.5.0",
     "state": {
      "_model_module": "@jupyter-widgets/controls",
      "_model_module_version": "1.5.0",
      "_model_name": "DescriptionStyleModel",
      "_view_count": null,
      "_view_module": "@jupyter-widgets/base",
      "_view_module_version": "1.2.0",
      "_view_name": "StyleView",
      "description_width": ""
     }
    },
    "a1605863309c42169162d60f6c6475b8": {
     "model_module": "@jupyter-widgets/base",
     "model_name": "LayoutModel",
     "model_module_version": "1.2.0",
     "state": {
      "_model_module": "@jupyter-widgets/base",
      "_model_module_version": "1.2.0",
      "_model_name": "LayoutModel",
      "_view_count": null,
      "_view_module": "@jupyter-widgets/base",
      "_view_module_version": "1.2.0",
      "_view_name": "LayoutView",
      "align_content": null,
      "align_items": null,
      "align_self": null,
      "border": null,
      "bottom": null,
      "display": null,
      "flex": null,
      "flex_flow": null,
      "grid_area": null,
      "grid_auto_columns": null,
      "grid_auto_flow": null,
      "grid_auto_rows": null,
      "grid_column": null,
      "grid_gap": null,
      "grid_row": null,
      "grid_template_areas": null,
      "grid_template_columns": null,
      "grid_template_rows": null,
      "height": null,
      "justify_content": null,
      "justify_items": null,
      "left": null,
      "margin": null,
      "max_height": null,
      "max_width": null,
      "min_height": null,
      "min_width": null,
      "object_fit": null,
      "object_position": null,
      "order": null,
      "overflow": null,
      "overflow_x": null,
      "overflow_y": null,
      "padding": null,
      "right": null,
      "top": null,
      "visibility": null,
      "width": null
     }
    },
    "5340dd684eed471ba18cb36d477c9f4d": {
     "model_module": "@jupyter-widgets/controls",
     "model_name": "ProgressStyleModel",
     "model_module_version": "1.5.0",
     "state": {
      "_model_module": "@jupyter-widgets/controls",
      "_model_module_version": "1.5.0",
      "_model_name": "ProgressStyleModel",
      "_view_count": null,
      "_view_module": "@jupyter-widgets/base",
      "_view_module_version": "1.2.0",
      "_view_name": "StyleView",
      "bar_color": null,
      "description_width": ""
     }
    },
    "95572bae4c6f4d85b85202d04b4271a3": {
     "model_module": "@jupyter-widgets/base",
     "model_name": "LayoutModel",
     "model_module_version": "1.2.0",
     "state": {
      "_model_module": "@jupyter-widgets/base",
      "_model_module_version": "1.2.0",
      "_model_name": "LayoutModel",
      "_view_count": null,
      "_view_module": "@jupyter-widgets/base",
      "_view_module_version": "1.2.0",
      "_view_name": "LayoutView",
      "align_content": null,
      "align_items": null,
      "align_self": null,
      "border": null,
      "bottom": null,
      "display": null,
      "flex": null,
      "flex_flow": null,
      "grid_area": null,
      "grid_auto_columns": null,
      "grid_auto_flow": null,
      "grid_auto_rows": null,
      "grid_column": null,
      "grid_gap": null,
      "grid_row": null,
      "grid_template_areas": null,
      "grid_template_columns": null,
      "grid_template_rows": null,
      "height": null,
      "justify_content": null,
      "justify_items": null,
      "left": null,
      "margin": null,
      "max_height": null,
      "max_width": null,
      "min_height": null,
      "min_width": null,
      "object_fit": null,
      "object_position": null,
      "order": null,
      "overflow": null,
      "overflow_x": null,
      "overflow_y": null,
      "padding": null,
      "right": null,
      "top": null,
      "visibility": null,
      "width": null
     }
    },
    "a3fb5f712cdf4d3da74af03d24622ada": {
     "model_module": "@jupyter-widgets/controls",
     "model_name": "DescriptionStyleModel",
     "model_module_version": "1.5.0",
     "state": {
      "_model_module": "@jupyter-widgets/controls",
      "_model_module_version": "1.5.0",
      "_model_name": "DescriptionStyleModel",
      "_view_count": null,
      "_view_module": "@jupyter-widgets/base",
      "_view_module_version": "1.2.0",
      "_view_name": "StyleView",
      "description_width": ""
     }
    },
    "640d1239e46f4a4d9224259f19408dee": {
     "model_module": "@jupyter-widgets/controls",
     "model_name": "HBoxModel",
     "model_module_version": "1.5.0",
     "state": {
      "_dom_classes": [],
      "_model_module": "@jupyter-widgets/controls",
      "_model_module_version": "1.5.0",
      "_model_name": "HBoxModel",
      "_view_count": null,
      "_view_module": "@jupyter-widgets/controls",
      "_view_module_version": "1.5.0",
      "_view_name": "HBoxView",
      "box_style": "",
      "children": [
       "IPY_MODEL_d635465d15d84b4ea2604e46de5fc957",
       "IPY_MODEL_39e541c8faca418782958233ef684677",
       "IPY_MODEL_0c75bfe839864746be85eae85414c224"
      ],
      "layout": "IPY_MODEL_9e7c10778b7d4d6e89355acfa3a90fa0"
     }
    },
    "d635465d15d84b4ea2604e46de5fc957": {
     "model_module": "@jupyter-widgets/controls",
     "model_name": "HTMLModel",
     "model_module_version": "1.5.0",
     "state": {
      "_dom_classes": [],
      "_model_module": "@jupyter-widgets/controls",
      "_model_module_version": "1.5.0",
      "_model_name": "HTMLModel",
      "_view_count": null,
      "_view_module": "@jupyter-widgets/controls",
      "_view_module_version": "1.5.0",
      "_view_name": "HTMLView",
      "description": "",
      "description_tooltip": null,
      "layout": "IPY_MODEL_50565855965a4fc08310e2b7d8d65fd0",
      "placeholder": "​",
      "style": "IPY_MODEL_4b8e4f5ccb3346fdb8a8e56baf8a7f49",
      "value": "100%"
     }
    },
    "39e541c8faca418782958233ef684677": {
     "model_module": "@jupyter-widgets/controls",
     "model_name": "FloatProgressModel",
     "model_module_version": "1.5.0",
     "state": {
      "_dom_classes": [],
      "_model_module": "@jupyter-widgets/controls",
      "_model_module_version": "1.5.0",
      "_model_name": "FloatProgressModel",
      "_view_count": null,
      "_view_module": "@jupyter-widgets/controls",
      "_view_module_version": "1.5.0",
      "_view_name": "ProgressView",
      "bar_style": "success",
      "description": "",
      "description_tooltip": null,
      "layout": "IPY_MODEL_3d64d3a55ba64a5da8776712d649fc4e",
      "max": 2,
      "min": 0,
      "orientation": "horizontal",
      "style": "IPY_MODEL_93b7be412ced4982a8d7901c40e8c64d",
      "value": 2
     }
    },
    "0c75bfe839864746be85eae85414c224": {
     "model_module": "@jupyter-widgets/controls",
     "model_name": "HTMLModel",
     "model_module_version": "1.5.0",
     "state": {
      "_dom_classes": [],
      "_model_module": "@jupyter-widgets/controls",
      "_model_module_version": "1.5.0",
      "_model_name": "HTMLModel",
      "_view_count": null,
      "_view_module": "@jupyter-widgets/controls",
      "_view_module_version": "1.5.0",
      "_view_name": "HTMLView",
      "description": "",
      "description_tooltip": null,
      "layout": "IPY_MODEL_31e4423718424bc2bbca5ac1a9051b08",
      "placeholder": "​",
      "style": "IPY_MODEL_2b12a038d1864df79f83d85db191cfbb",
      "value": " 2/2 [00:00&lt;00:00, 68.30it/s]"
     }
    },
    "9e7c10778b7d4d6e89355acfa3a90fa0": {
     "model_module": "@jupyter-widgets/base",
     "model_name": "LayoutModel",
     "model_module_version": "1.2.0",
     "state": {
      "_model_module": "@jupyter-widgets/base",
      "_model_module_version": "1.2.0",
      "_model_name": "LayoutModel",
      "_view_count": null,
      "_view_module": "@jupyter-widgets/base",
      "_view_module_version": "1.2.0",
      "_view_name": "LayoutView",
      "align_content": null,
      "align_items": null,
      "align_self": null,
      "border": null,
      "bottom": null,
      "display": null,
      "flex": null,
      "flex_flow": null,
      "grid_area": null,
      "grid_auto_columns": null,
      "grid_auto_flow": null,
      "grid_auto_rows": null,
      "grid_column": null,
      "grid_gap": null,
      "grid_row": null,
      "grid_template_areas": null,
      "grid_template_columns": null,
      "grid_template_rows": null,
      "height": null,
      "justify_content": null,
      "justify_items": null,
      "left": null,
      "margin": null,
      "max_height": null,
      "max_width": null,
      "min_height": null,
      "min_width": null,
      "object_fit": null,
      "object_position": null,
      "order": null,
      "overflow": null,
      "overflow_x": null,
      "overflow_y": null,
      "padding": null,
      "right": null,
      "top": null,
      "visibility": null,
      "width": null
     }
    },
    "50565855965a4fc08310e2b7d8d65fd0": {
     "model_module": "@jupyter-widgets/base",
     "model_name": "LayoutModel",
     "model_module_version": "1.2.0",
     "state": {
      "_model_module": "@jupyter-widgets/base",
      "_model_module_version": "1.2.0",
      "_model_name": "LayoutModel",
      "_view_count": null,
      "_view_module": "@jupyter-widgets/base",
      "_view_module_version": "1.2.0",
      "_view_name": "LayoutView",
      "align_content": null,
      "align_items": null,
      "align_self": null,
      "border": null,
      "bottom": null,
      "display": null,
      "flex": null,
      "flex_flow": null,
      "grid_area": null,
      "grid_auto_columns": null,
      "grid_auto_flow": null,
      "grid_auto_rows": null,
      "grid_column": null,
      "grid_gap": null,
      "grid_row": null,
      "grid_template_areas": null,
      "grid_template_columns": null,
      "grid_template_rows": null,
      "height": null,
      "justify_content": null,
      "justify_items": null,
      "left": null,
      "margin": null,
      "max_height": null,
      "max_width": null,
      "min_height": null,
      "min_width": null,
      "object_fit": null,
      "object_position": null,
      "order": null,
      "overflow": null,
      "overflow_x": null,
      "overflow_y": null,
      "padding": null,
      "right": null,
      "top": null,
      "visibility": null,
      "width": null
     }
    },
    "4b8e4f5ccb3346fdb8a8e56baf8a7f49": {
     "model_module": "@jupyter-widgets/controls",
     "model_name": "DescriptionStyleModel",
     "model_module_version": "1.5.0",
     "state": {
      "_model_module": "@jupyter-widgets/controls",
      "_model_module_version": "1.5.0",
      "_model_name": "DescriptionStyleModel",
      "_view_count": null,
      "_view_module": "@jupyter-widgets/base",
      "_view_module_version": "1.2.0",
      "_view_name": "StyleView",
      "description_width": ""
     }
    },
    "3d64d3a55ba64a5da8776712d649fc4e": {
     "model_module": "@jupyter-widgets/base",
     "model_name": "LayoutModel",
     "model_module_version": "1.2.0",
     "state": {
      "_model_module": "@jupyter-widgets/base",
      "_model_module_version": "1.2.0",
      "_model_name": "LayoutModel",
      "_view_count": null,
      "_view_module": "@jupyter-widgets/base",
      "_view_module_version": "1.2.0",
      "_view_name": "LayoutView",
      "align_content": null,
      "align_items": null,
      "align_self": null,
      "border": null,
      "bottom": null,
      "display": null,
      "flex": null,
      "flex_flow": null,
      "grid_area": null,
      "grid_auto_columns": null,
      "grid_auto_flow": null,
      "grid_auto_rows": null,
      "grid_column": null,
      "grid_gap": null,
      "grid_row": null,
      "grid_template_areas": null,
      "grid_template_columns": null,
      "grid_template_rows": null,
      "height": null,
      "justify_content": null,
      "justify_items": null,
      "left": null,
      "margin": null,
      "max_height": null,
      "max_width": null,
      "min_height": null,
      "min_width": null,
      "object_fit": null,
      "object_position": null,
      "order": null,
      "overflow": null,
      "overflow_x": null,
      "overflow_y": null,
      "padding": null,
      "right": null,
      "top": null,
      "visibility": null,
      "width": null
     }
    },
    "93b7be412ced4982a8d7901c40e8c64d": {
     "model_module": "@jupyter-widgets/controls",
     "model_name": "ProgressStyleModel",
     "model_module_version": "1.5.0",
     "state": {
      "_model_module": "@jupyter-widgets/controls",
      "_model_module_version": "1.5.0",
      "_model_name": "ProgressStyleModel",
      "_view_count": null,
      "_view_module": "@jupyter-widgets/base",
      "_view_module_version": "1.2.0",
      "_view_name": "StyleView",
      "bar_color": null,
      "description_width": ""
     }
    },
    "31e4423718424bc2bbca5ac1a9051b08": {
     "model_module": "@jupyter-widgets/base",
     "model_name": "LayoutModel",
     "model_module_version": "1.2.0",
     "state": {
      "_model_module": "@jupyter-widgets/base",
      "_model_module_version": "1.2.0",
      "_model_name": "LayoutModel",
      "_view_count": null,
      "_view_module": "@jupyter-widgets/base",
      "_view_module_version": "1.2.0",
      "_view_name": "LayoutView",
      "align_content": null,
      "align_items": null,
      "align_self": null,
      "border": null,
      "bottom": null,
      "display": null,
      "flex": null,
      "flex_flow": null,
      "grid_area": null,
      "grid_auto_columns": null,
      "grid_auto_flow": null,
      "grid_auto_rows": null,
      "grid_column": null,
      "grid_gap": null,
      "grid_row": null,
      "grid_template_areas": null,
      "grid_template_columns": null,
      "grid_template_rows": null,
      "height": null,
      "justify_content": null,
      "justify_items": null,
      "left": null,
      "margin": null,
      "max_height": null,
      "max_width": null,
      "min_height": null,
      "min_width": null,
      "object_fit": null,
      "object_position": null,
      "order": null,
      "overflow": null,
      "overflow_x": null,
      "overflow_y": null,
      "padding": null,
      "right": null,
      "top": null,
      "visibility": null,
      "width": null
     }
    },
    "2b12a038d1864df79f83d85db191cfbb": {
     "model_module": "@jupyter-widgets/controls",
     "model_name": "DescriptionStyleModel",
     "model_module_version": "1.5.0",
     "state": {
      "_model_module": "@jupyter-widgets/controls",
      "_model_module_version": "1.5.0",
      "_model_name": "DescriptionStyleModel",
      "_view_count": null,
      "_view_module": "@jupyter-widgets/base",
      "_view_module_version": "1.2.0",
      "_view_name": "StyleView",
      "description_width": ""
     }
    },
    "45b415cc22e64cbc9376f7bf8601f09b": {
     "model_module": "@jupyter-widgets/controls",
     "model_name": "HBoxModel",
     "model_module_version": "1.5.0",
     "state": {
      "_dom_classes": [],
      "_model_module": "@jupyter-widgets/controls",
      "_model_module_version": "1.5.0",
      "_model_name": "HBoxModel",
      "_view_count": null,
      "_view_module": "@jupyter-widgets/controls",
      "_view_module_version": "1.5.0",
      "_view_name": "HBoxView",
      "box_style": "",
      "children": [
       "IPY_MODEL_eee83e0a1bd14d00af3159061f96a553",
       "IPY_MODEL_bd82244ccbd842539464a9168a897f1c",
       "IPY_MODEL_94b4879a5a644dbeaa3ec1e5af2b1744"
      ],
      "layout": "IPY_MODEL_fb542b520c1a42f4b621f95a4e90d644"
     }
    },
    "eee83e0a1bd14d00af3159061f96a553": {
     "model_module": "@jupyter-widgets/controls",
     "model_name": "HTMLModel",
     "model_module_version": "1.5.0",
     "state": {
      "_dom_classes": [],
      "_model_module": "@jupyter-widgets/controls",
      "_model_module_version": "1.5.0",
      "_model_name": "HTMLModel",
      "_view_count": null,
      "_view_module": "@jupyter-widgets/controls",
      "_view_module_version": "1.5.0",
      "_view_name": "HTMLView",
      "description": "",
      "description_tooltip": null,
      "layout": "IPY_MODEL_87447d7825574c6f8ab503b1b534d506",
      "placeholder": "​",
      "style": "IPY_MODEL_56d638bddd534750b06ea6fe6701cb15",
      "value": "100%"
     }
    },
    "bd82244ccbd842539464a9168a897f1c": {
     "model_module": "@jupyter-widgets/controls",
     "model_name": "FloatProgressModel",
     "model_module_version": "1.5.0",
     "state": {
      "_dom_classes": [],
      "_model_module": "@jupyter-widgets/controls",
      "_model_module_version": "1.5.0",
      "_model_name": "FloatProgressModel",
      "_view_count": null,
      "_view_module": "@jupyter-widgets/controls",
      "_view_module_version": "1.5.0",
      "_view_name": "ProgressView",
      "bar_style": "success",
      "description": "",
      "description_tooltip": null,
      "layout": "IPY_MODEL_7358823ad0d1474cae97638aebeb835f",
      "max": 120000,
      "min": 0,
      "orientation": "horizontal",
      "style": "IPY_MODEL_f53391ef64574c76bd18add79c0fa4bf",
      "value": 120000
     }
    },
    "94b4879a5a644dbeaa3ec1e5af2b1744": {
     "model_module": "@jupyter-widgets/controls",
     "model_name": "HTMLModel",
     "model_module_version": "1.5.0",
     "state": {
      "_dom_classes": [],
      "_model_module": "@jupyter-widgets/controls",
      "_model_module_version": "1.5.0",
      "_model_name": "HTMLModel",
      "_view_count": null,
      "_view_module": "@jupyter-widgets/controls",
      "_view_module_version": "1.5.0",
      "_view_name": "HTMLView",
      "description": "",
      "description_tooltip": null,
      "layout": "IPY_MODEL_6280438c65704c3a9603a2402d18c39a",
      "placeholder": "​",
      "style": "IPY_MODEL_fe99814191c14edea16dc733737441a5",
      "value": " 120000/120000 [00:25&lt;00:00, 5144.12it/s]"
     }
    },
    "fb542b520c1a42f4b621f95a4e90d644": {
     "model_module": "@jupyter-widgets/base",
     "model_name": "LayoutModel",
     "model_module_version": "1.2.0",
     "state": {
      "_model_module": "@jupyter-widgets/base",
      "_model_module_version": "1.2.0",
      "_model_name": "LayoutModel",
      "_view_count": null,
      "_view_module": "@jupyter-widgets/base",
      "_view_module_version": "1.2.0",
      "_view_name": "LayoutView",
      "align_content": null,
      "align_items": null,
      "align_self": null,
      "border": null,
      "bottom": null,
      "display": null,
      "flex": null,
      "flex_flow": null,
      "grid_area": null,
      "grid_auto_columns": null,
      "grid_auto_flow": null,
      "grid_auto_rows": null,
      "grid_column": null,
      "grid_gap": null,
      "grid_row": null,
      "grid_template_areas": null,
      "grid_template_columns": null,
      "grid_template_rows": null,
      "height": null,
      "justify_content": null,
      "justify_items": null,
      "left": null,
      "margin": null,
      "max_height": null,
      "max_width": null,
      "min_height": null,
      "min_width": null,
      "object_fit": null,
      "object_position": null,
      "order": null,
      "overflow": null,
      "overflow_x": null,
      "overflow_y": null,
      "padding": null,
      "right": null,
      "top": null,
      "visibility": null,
      "width": null
     }
    },
    "87447d7825574c6f8ab503b1b534d506": {
     "model_module": "@jupyter-widgets/base",
     "model_name": "LayoutModel",
     "model_module_version": "1.2.0",
     "state": {
      "_model_module": "@jupyter-widgets/base",
      "_model_module_version": "1.2.0",
      "_model_name": "LayoutModel",
      "_view_count": null,
      "_view_module": "@jupyter-widgets/base",
      "_view_module_version": "1.2.0",
      "_view_name": "LayoutView",
      "align_content": null,
      "align_items": null,
      "align_self": null,
      "border": null,
      "bottom": null,
      "display": null,
      "flex": null,
      "flex_flow": null,
      "grid_area": null,
      "grid_auto_columns": null,
      "grid_auto_flow": null,
      "grid_auto_rows": null,
      "grid_column": null,
      "grid_gap": null,
      "grid_row": null,
      "grid_template_areas": null,
      "grid_template_columns": null,
      "grid_template_rows": null,
      "height": null,
      "justify_content": null,
      "justify_items": null,
      "left": null,
      "margin": null,
      "max_height": null,
      "max_width": null,
      "min_height": null,
      "min_width": null,
      "object_fit": null,
      "object_position": null,
      "order": null,
      "overflow": null,
      "overflow_x": null,
      "overflow_y": null,
      "padding": null,
      "right": null,
      "top": null,
      "visibility": null,
      "width": null
     }
    },
    "56d638bddd534750b06ea6fe6701cb15": {
     "model_module": "@jupyter-widgets/controls",
     "model_name": "DescriptionStyleModel",
     "model_module_version": "1.5.0",
     "state": {
      "_model_module": "@jupyter-widgets/controls",
      "_model_module_version": "1.5.0",
      "_model_name": "DescriptionStyleModel",
      "_view_count": null,
      "_view_module": "@jupyter-widgets/base",
      "_view_module_version": "1.2.0",
      "_view_name": "StyleView",
      "description_width": ""
     }
    },
    "7358823ad0d1474cae97638aebeb835f": {
     "model_module": "@jupyter-widgets/base",
     "model_name": "LayoutModel",
     "model_module_version": "1.2.0",
     "state": {
      "_model_module": "@jupyter-widgets/base",
      "_model_module_version": "1.2.0",
      "_model_name": "LayoutModel",
      "_view_count": null,
      "_view_module": "@jupyter-widgets/base",
      "_view_module_version": "1.2.0",
      "_view_name": "LayoutView",
      "align_content": null,
      "align_items": null,
      "align_self": null,
      "border": null,
      "bottom": null,
      "display": null,
      "flex": null,
      "flex_flow": null,
      "grid_area": null,
      "grid_auto_columns": null,
      "grid_auto_flow": null,
      "grid_auto_rows": null,
      "grid_column": null,
      "grid_gap": null,
      "grid_row": null,
      "grid_template_areas": null,
      "grid_template_columns": null,
      "grid_template_rows": null,
      "height": null,
      "justify_content": null,
      "justify_items": null,
      "left": null,
      "margin": null,
      "max_height": null,
      "max_width": null,
      "min_height": null,
      "min_width": null,
      "object_fit": null,
      "object_position": null,
      "order": null,
      "overflow": null,
      "overflow_x": null,
      "overflow_y": null,
      "padding": null,
      "right": null,
      "top": null,
      "visibility": null,
      "width": null
     }
    },
    "f53391ef64574c76bd18add79c0fa4bf": {
     "model_module": "@jupyter-widgets/controls",
     "model_name": "ProgressStyleModel",
     "model_module_version": "1.5.0",
     "state": {
      "_model_module": "@jupyter-widgets/controls",
      "_model_module_version": "1.5.0",
      "_model_name": "ProgressStyleModel",
      "_view_count": null,
      "_view_module": "@jupyter-widgets/base",
      "_view_module_version": "1.2.0",
      "_view_name": "StyleView",
      "bar_color": null,
      "description_width": ""
     }
    },
    "6280438c65704c3a9603a2402d18c39a": {
     "model_module": "@jupyter-widgets/base",
     "model_name": "LayoutModel",
     "model_module_version": "1.2.0",
     "state": {
      "_model_module": "@jupyter-widgets/base",
      "_model_module_version": "1.2.0",
      "_model_name": "LayoutModel",
      "_view_count": null,
      "_view_module": "@jupyter-widgets/base",
      "_view_module_version": "1.2.0",
      "_view_name": "LayoutView",
      "align_content": null,
      "align_items": null,
      "align_self": null,
      "border": null,
      "bottom": null,
      "display": null,
      "flex": null,
      "flex_flow": null,
      "grid_area": null,
      "grid_auto_columns": null,
      "grid_auto_flow": null,
      "grid_auto_rows": null,
      "grid_column": null,
      "grid_gap": null,
      "grid_row": null,
      "grid_template_areas": null,
      "grid_template_columns": null,
      "grid_template_rows": null,
      "height": null,
      "justify_content": null,
      "justify_items": null,
      "left": null,
      "margin": null,
      "max_height": null,
      "max_width": null,
      "min_height": null,
      "min_width": null,
      "object_fit": null,
      "object_position": null,
      "order": null,
      "overflow": null,
      "overflow_x": null,
      "overflow_y": null,
      "padding": null,
      "right": null,
      "top": null,
      "visibility": null,
      "width": null
     }
    },
    "fe99814191c14edea16dc733737441a5": {
     "model_module": "@jupyter-widgets/controls",
     "model_name": "DescriptionStyleModel",
     "model_module_version": "1.5.0",
     "state": {
      "_model_module": "@jupyter-widgets/controls",
      "_model_module_version": "1.5.0",
      "_model_name": "DescriptionStyleModel",
      "_view_count": null,
      "_view_module": "@jupyter-widgets/base",
      "_view_module_version": "1.2.0",
      "_view_name": "StyleView",
      "description_width": ""
     }
    }
   }
  }
 },
 "nbformat_minor": 4,
 "nbformat": 4,
 "cells": [
  {
   "cell_type": "markdown",
   "source": "# Домашнее задание. Нейросетевая классификация текстов\n\nВ этом домашнем задании вам предстоит самостоятельно решить задачу классификации текстов на основе семинарского кода. Мы будем использовать датасет [ag_news](https://paperswithcode.com/dataset/ag-news). Это датасет для классификации новостей на 4 темы: \"World\", \"Sports\", \"Business\", \"Sci/Tech\".\n\nУстановим модуль datasets, чтобы нам проще было работать с данными.",
   "metadata": {
    "id": "d0ADTojbpfLt"
   }
  },
  {
   "cell_type": "code",
   "source": "!pip install datasets",
   "metadata": {
    "id": "p2QW_jCR0_kh",
    "colab": {
     "base_uri": "https://localhost:8080/"
    },
    "executionInfo": {
     "status": "ok",
     "timestamp": 1679310682713,
     "user_tz": -180,
     "elapsed": 18487,
     "user": {
      "displayName": "Deep Learning School",
      "userId": "16549096980415837553"
     }
    },
    "outputId": "3fc85cb6-65a4-4bd8-f565-820c6b7504b4",
    "execution": {
     "iopub.status.busy": "2023-06-05T18:43:44.405740Z",
     "iopub.execute_input": "2023-06-05T18:43:44.406110Z",
     "iopub.status.idle": "2023-06-05T18:43:56.460499Z",
     "shell.execute_reply.started": "2023-06-05T18:43:44.406065Z",
     "shell.execute_reply": "2023-06-05T18:43:56.459358Z"
    },
    "trusted": true
   },
   "execution_count": 3,
   "outputs": [
    {
     "name": "stdout",
     "text": "Requirement already satisfied: datasets in /opt/conda/lib/python3.10/site-packages (2.1.0)\nRequirement already satisfied: numpy>=1.17 in /opt/conda/lib/python3.10/site-packages (from datasets) (1.23.5)\nRequirement already satisfied: pyarrow>=5.0.0 in /opt/conda/lib/python3.10/site-packages (from datasets) (10.0.1)\nRequirement already satisfied: dill in /opt/conda/lib/python3.10/site-packages (from datasets) (0.3.6)\nRequirement already satisfied: pandas in /opt/conda/lib/python3.10/site-packages (from datasets) (1.5.3)\nRequirement already satisfied: requests>=2.19.0 in /opt/conda/lib/python3.10/site-packages (from datasets) (2.28.2)\nRequirement already satisfied: tqdm>=4.62.1 in /opt/conda/lib/python3.10/site-packages (from datasets) (4.64.1)\nRequirement already satisfied: xxhash in /opt/conda/lib/python3.10/site-packages (from datasets) (3.2.0)\nRequirement already satisfied: multiprocess in /opt/conda/lib/python3.10/site-packages (from datasets) (0.70.14)\nRequirement already satisfied: fsspec[http]>=2021.05.0 in /opt/conda/lib/python3.10/site-packages (from datasets) (2023.5.0)\nRequirement already satisfied: aiohttp in /opt/conda/lib/python3.10/site-packages (from datasets) (3.8.4)\nRequirement already satisfied: huggingface-hub<1.0.0,>=0.1.0 in /opt/conda/lib/python3.10/site-packages (from datasets) (0.14.1)\nRequirement already satisfied: packaging in /opt/conda/lib/python3.10/site-packages (from datasets) (21.3)\nRequirement already satisfied: responses<0.19 in /opt/conda/lib/python3.10/site-packages (from datasets) (0.18.0)\nRequirement already satisfied: attrs>=17.3.0 in /opt/conda/lib/python3.10/site-packages (from aiohttp->datasets) (23.1.0)\nRequirement already satisfied: charset-normalizer<4.0,>=2.0 in /opt/conda/lib/python3.10/site-packages (from aiohttp->datasets) (2.1.1)\nRequirement already satisfied: multidict<7.0,>=4.5 in /opt/conda/lib/python3.10/site-packages (from aiohttp->datasets) (6.0.4)\nRequirement already satisfied: async-timeout<5.0,>=4.0.0a3 in /opt/conda/lib/python3.10/site-packages (from aiohttp->datasets) (4.0.2)\nRequirement already satisfied: yarl<2.0,>=1.0 in /opt/conda/lib/python3.10/site-packages (from aiohttp->datasets) (1.9.1)\nRequirement already satisfied: frozenlist>=1.1.1 in /opt/conda/lib/python3.10/site-packages (from aiohttp->datasets) (1.3.3)\nRequirement already satisfied: aiosignal>=1.1.2 in /opt/conda/lib/python3.10/site-packages (from aiohttp->datasets) (1.3.1)\nRequirement already satisfied: filelock in /opt/conda/lib/python3.10/site-packages (from huggingface-hub<1.0.0,>=0.1.0->datasets) (3.12.0)\nRequirement already satisfied: pyyaml>=5.1 in /opt/conda/lib/python3.10/site-packages (from huggingface-hub<1.0.0,>=0.1.0->datasets) (5.4.1)\nRequirement already satisfied: typing-extensions>=3.7.4.3 in /opt/conda/lib/python3.10/site-packages (from huggingface-hub<1.0.0,>=0.1.0->datasets) (4.5.0)\nRequirement already satisfied: pyparsing!=3.0.5,>=2.0.2 in /opt/conda/lib/python3.10/site-packages (from packaging->datasets) (3.0.9)\nRequirement already satisfied: idna<4,>=2.5 in /opt/conda/lib/python3.10/site-packages (from requests>=2.19.0->datasets) (3.4)\nRequirement already satisfied: urllib3<1.27,>=1.21.1 in /opt/conda/lib/python3.10/site-packages (from requests>=2.19.0->datasets) (1.26.15)\nRequirement already satisfied: certifi>=2017.4.17 in /opt/conda/lib/python3.10/site-packages (from requests>=2.19.0->datasets) (2023.5.7)\nRequirement already satisfied: python-dateutil>=2.8.1 in /opt/conda/lib/python3.10/site-packages (from pandas->datasets) (2.8.2)\nRequirement already satisfied: pytz>=2020.1 in /opt/conda/lib/python3.10/site-packages (from pandas->datasets) (2023.3)\nRequirement already satisfied: six>=1.5 in /opt/conda/lib/python3.10/site-packages (from python-dateutil>=2.8.1->pandas->datasets) (1.16.0)\n\u001B[33mWARNING: Running pip as the 'root' user can result in broken permissions and conflicting behaviour with the system package manager. It is recommended to use a virtual environment instead: https://pip.pypa.io/warnings/venv\u001B[0m\u001B[33m\n\u001B[0m",
     "output_type": "stream"
    }
   ]
  },
  {
   "cell_type": "markdown",
   "source": "Импорт необходимых библиотек",
   "metadata": {
    "id": "rh9ZXSeCpng9"
   }
  },
  {
   "cell_type": "code",
   "source": "import torch\nimport torch.nn as nn\nfrom torch.utils.data import Dataset, DataLoader\nimport datasets\n\nimport numpy as np\nimport matplotlib.pyplot as plt\nimport pandas as pd\n\nfrom tqdm.auto import tqdm\nfrom datasets import load_dataset\nfrom nltk.tokenize import word_tokenize\nfrom sklearn.model_selection import train_test_split\nimport nltk\nfrom nltk.corpus import stopwords\nimport spacy\n\nfrom collections import Counter\nfrom typing import List\nimport string\n\nimport seaborn\nseaborn.set(palette='summer')",
   "metadata": {
    "id": "XOJi16bLpd_O",
    "execution": {
     "iopub.status.busy": "2023-06-05T18:43:56.463981Z",
     "iopub.execute_input": "2023-06-05T18:43:56.464288Z",
     "iopub.status.idle": "2023-06-05T18:43:56.478105Z",
     "shell.execute_reply.started": "2023-06-05T18:43:56.464261Z",
     "shell.execute_reply": "2023-06-05T18:43:56.477128Z"
    },
    "trusted": true
   },
   "execution_count": 4,
   "outputs": []
  },
  {
   "cell_type": "code",
   "source": "nltk.download('punkt')",
   "metadata": {
    "id": "91JuM0SQvXud",
    "colab": {
     "base_uri": "https://localhost:8080/"
    },
    "executionInfo": {
     "status": "ok",
     "timestamp": 1679310692063,
     "user_tz": -180,
     "elapsed": 679,
     "user": {
      "displayName": "Deep Learning School",
      "userId": "16549096980415837553"
     }
    },
    "outputId": "1a67bb6e-1edd-4ded-f018-ed9aa431c7db",
    "execution": {
     "iopub.status.busy": "2023-06-05T18:43:56.479826Z",
     "iopub.execute_input": "2023-06-05T18:43:56.480191Z",
     "iopub.status.idle": "2023-06-05T18:43:56.645079Z",
     "shell.execute_reply.started": "2023-06-05T18:43:56.480154Z",
     "shell.execute_reply": "2023-06-05T18:43:56.644150Z"
    },
    "trusted": true
   },
   "execution_count": 5,
   "outputs": [
    {
     "name": "stdout",
     "text": "[nltk_data] Downloading package punkt to /usr/share/nltk_data...\n[nltk_data]   Package punkt is already up-to-date!\n",
     "output_type": "stream"
    },
    {
     "execution_count": 5,
     "output_type": "execute_result",
     "data": {
      "text/plain": "True"
     },
     "metadata": {}
    }
   ]
  },
  {
   "cell_type": "code",
   "source": "nltk.download('wordnet')",
   "metadata": {
    "execution": {
     "iopub.status.busy": "2023-06-05T18:43:56.647276Z",
     "iopub.execute_input": "2023-06-05T18:43:56.648139Z",
     "iopub.status.idle": "2023-06-05T18:43:56.717421Z",
     "shell.execute_reply.started": "2023-06-05T18:43:56.648106Z",
     "shell.execute_reply": "2023-06-05T18:43:56.716528Z"
    },
    "trusted": true
   },
   "execution_count": 6,
   "outputs": [
    {
     "name": "stdout",
     "text": "[nltk_data] Downloading package wordnet to /usr/share/nltk_data...\n[nltk_data]   Package wordnet is already up-to-date!\n",
     "output_type": "stream"
    },
    {
     "execution_count": 6,
     "output_type": "execute_result",
     "data": {
      "text/plain": "True"
     },
     "metadata": {}
    }
   ]
  },
  {
   "cell_type": "code",
   "source": "device = 'cuda' if torch.cuda.is_available() else 'cpu'\ndevice",
   "metadata": {
    "id": "adJC8ShFq9HM",
    "colab": {
     "base_uri": "https://localhost:8080/",
     "height": 35
    },
    "executionInfo": {
     "status": "ok",
     "timestamp": 1679310695816,
     "user_tz": -180,
     "elapsed": 240,
     "user": {
      "displayName": "Deep Learning School",
      "userId": "16549096980415837553"
     }
    },
    "outputId": "c85c95cb-f61e-4d37-ca8a-029c57d67e6f",
    "execution": {
     "iopub.status.busy": "2023-06-05T18:43:56.718832Z",
     "iopub.execute_input": "2023-06-05T18:43:56.719268Z",
     "iopub.status.idle": "2023-06-05T18:43:56.727843Z",
     "shell.execute_reply.started": "2023-06-05T18:43:56.719237Z",
     "shell.execute_reply": "2023-06-05T18:43:56.726887Z"
    },
    "trusted": true
   },
   "execution_count": 7,
   "outputs": [
    {
     "execution_count": 7,
     "output_type": "execute_result",
     "data": {
      "text/plain": "'cuda'"
     },
     "metadata": {}
    }
   ]
  },
  {
   "cell_type": "markdown",
   "source": "## Подготовка данных\nДля вашего удобства, мы привели код обработки датасета в ноутбуке. Ваша задача --- обучить модель, которая получит максимальное возможное качество на тестовой части. ",
   "metadata": {
    "id": "pwsfS1ENq5ig"
   }
  },
  {
   "cell_type": "code",
   "source": "# Загрузим датасет\ndataset = datasets.load_dataset('ag_news')",
   "metadata": {
    "id": "qHLNWOfJqSfc",
    "colab": {
     "base_uri": "https://localhost:8080/",
     "height": 244,
     "referenced_widgets": [
      "1eb740874a8b4df68e18f0dbf8e7acdc",
      "fc9cdace4f17455082a2a8374913d322",
      "3ebe7107b9c643a4a990b0c5966299e8",
      "f1bde9957cab40ba97cd7faa65889b00",
      "aefc7fff46e6439fae50d2ac508d78e3",
      "33ce5077e4714f239f12562e1a7a7ef2",
      "f255118df0ea49fa8feb56d043cf87b6",
      "4acffbd4a4604620bcd4b4f8c9c6af9b",
      "8cde1d20ba3e45a08490e769ddd51bb4",
      "513f35a7ebb74d3ebbaefa013b725d14",
      "81311bdb923b4eca97431b56195acd58",
      "09ec9cea96b341d0a25451b192102f39",
      "c9ce26882ff34d61b1817915058152f1",
      "ece019411eba48ca93173a9b15cf8cbb",
      "19722e928d404adb990c5cec48524bba",
      "a93760269c044501aa63f3af2524210e",
      "6a76b678cb8e49d99b307e505c5baf43",
      "991528abe6eb42e29b4303bd72ecbb9c",
      "5b39c3103bf74237a2e03e6fdb7da027",
      "0847a33379184a368d5d1b82222b74cc",
      "122ed5c8b5a74305ba54ff99af7e9d54",
      "c0894fc6901f475382628d4868062558",
      "d76f8b4fbb004812b2bdc3f614cdc307",
      "e684e9dab3dc4a04b4fac5cab926f8fe",
      "a3a2891c78654d639a25ff7522357b26",
      "7caa28a01d5541e98ca6d2bd0c3f0a4c",
      "f5a54984249a47dd8ac113ce96ddbb71",
      "58df47e13b1e48a8863e48d6a12a98b5",
      "a6b4481c94ad4af181ff0934ee7fca92",
      "ca007860138646589925567fa12ee1f9",
      "903b7cdb57de41459650c226b5629d05",
      "196e3535fb3b4ede9c86fe2c79009322",
      "e2cbb1d5b4e1497e804bf00332a14743",
      "a2422c15e5ba42bf87eb6fdcd0604ec1",
      "96f4ff5cfc7b40e995a6c8ecd3546f6b",
      "bc6ee58abaa643cd9643064537784d64",
      "df0ff75a6c5a474295564794954addc4",
      "540219b4cc9b4ace9c70feb8a8146480",
      "b3ba7361fe3b46e3a208bf6416131f28",
      "feac1851ed644eeb98fb9ac9aadd7f41",
      "ccf9677bca0141dba7ba27dde42276e1",
      "0401a08736004c4cafe05feae921849f",
      "dc1d3746c5cf4817b8e80bf92ad02d71",
      "33521ca994f14e55aa040cfc2f5d1105",
      "4ceb025f703948e4971486323e58c3e4",
      "8136ea38174b46fe99d4549e396adbaf",
      "596c2a7e529b45a7973496e02b50ee17",
      "04c14b466921444299752b1bf6cac9fb",
      "99b28ecd95564dbc99ef588f42ae1dd2",
      "5494c2f8716a4da0a846bfad0e25b425",
      "f5d44bab5deb4be18b828d9c78feb5da",
      "dcab6933e7e6483fb37ef3ea4f2f96cb",
      "3018b5e2177b4eb7ba0f562b7db28fe4",
      "3bdb6917a86249c6a094d5d8e1433365",
      "a1f665b2995b4d62a2881de651810d44",
      "38c3fbf1198e4f7cbfc990cb362be0ba",
      "9fbc7d78c453476c8a6ace8a267aa6f3",
      "88bf756ae2ef454da07e153e26d6b272",
      "0872109d55664634958251b1c8a3879e",
      "e43cb91bee254131af50f2af50be3a4e",
      "cb8cdb1fcd394e79be9fcfb5708fee31",
      "55b7456ea0be447a8b87f75226163726",
      "6c7372f597dc48b2bd71771c13fbe1ca",
      "e7a723bfbede426a9c9184ed02ff2574",
      "1644c4f507954f0ba03aeb75b80b93ba",
      "bc1cab86f2d6492cb79c21c25206955e",
      "11d52f8a43cf44f08db4d15e0609adfd",
      "dc7219cdf164455e9172bc134d89d35a",
      "58ed943442364505881079688d1fde0d",
      "24e73abed20f4880a8d235907e0df027",
      "056cc6bc26f14d1aa27208e4be38bb73",
      "9e2a2ae4fcb54b5ca9f2d714b10061a6",
      "c4c47a154f2d40deaddc48a393ca4526",
      "a1605863309c42169162d60f6c6475b8",
      "5340dd684eed471ba18cb36d477c9f4d",
      "95572bae4c6f4d85b85202d04b4271a3",
      "a3fb5f712cdf4d3da74af03d24622ada",
      "640d1239e46f4a4d9224259f19408dee",
      "d635465d15d84b4ea2604e46de5fc957",
      "39e541c8faca418782958233ef684677",
      "0c75bfe839864746be85eae85414c224",
      "9e7c10778b7d4d6e89355acfa3a90fa0",
      "50565855965a4fc08310e2b7d8d65fd0",
      "4b8e4f5ccb3346fdb8a8e56baf8a7f49",
      "3d64d3a55ba64a5da8776712d649fc4e",
      "93b7be412ced4982a8d7901c40e8c64d",
      "31e4423718424bc2bbca5ac1a9051b08",
      "2b12a038d1864df79f83d85db191cfbb"
     ]
    },
    "executionInfo": {
     "status": "ok",
     "timestamp": 1679310711937,
     "user_tz": -180,
     "elapsed": 12911,
     "user": {
      "displayName": "Deep Learning School",
      "userId": "16549096980415837553"
     }
    },
    "outputId": "14e2b6e7-c1e6-48f9-f97a-bff172f80d3e",
    "execution": {
     "iopub.status.busy": "2023-06-05T15:11:12.548786Z",
     "iopub.execute_input": "2023-06-05T15:11:12.550318Z",
     "iopub.status.idle": "2023-06-05T15:11:13.428887Z",
     "shell.execute_reply.started": "2023-06-05T15:11:12.550284Z",
     "shell.execute_reply": "2023-06-05T15:11:13.427935Z"
    },
    "trusted": true
   },
   "execution_count": 99,
   "outputs": [
    {
     "output_type": "display_data",
     "data": {
      "text/plain": "  0%|          | 0/2 [00:00<?, ?it/s]",
      "application/vnd.jupyter.widget-view+json": {
       "version_major": 2,
       "version_minor": 0,
       "model_id": "f090fe82a4c545afa47abee6c291608c"
      }
     },
     "metadata": {}
    }
   ]
  },
  {
   "cell_type": "markdown",
   "source": "Как и в семинаре, выполним следующие шаги:\n* Составим словарь\n* Создадим класс WordDataset\n* Выделим обучающую и тестовую часть, создадим DataLoader-ы.",
   "metadata": {
    "id": "gYG67ZJj4hZS"
   }
  },
  {
   "cell_type": "code",
   "source": "words = Counter()\n\nfor example in tqdm(dataset['train']['text']):\n    # Приводим к нижнему регистру и убираем пунктуацию\n    proccessed_text = example.lower().translate(\n        str.maketrans('', '', string.punctuation))\n\n    for word in word_tokenize(proccessed_text):\n        words[word] += 1\n\n\nvocab = set(['<unk>', '<bos>', '<eos>', '<pad>'])\ncounter_threshold = 25\n\nfor char, cnt in words.items():\n    if cnt > counter_threshold:\n        vocab.add(char)\n\nprint(f'Размер словаря: {len(vocab)}')\n\nword2ind = {char: i for i, char in enumerate(vocab)}\nind2word = {i: char for char, i in word2ind.items()}",
   "metadata": {
    "id": "nEvCN0Y1w1yH",
    "colab": {
     "base_uri": "https://localhost:8080/",
     "height": 66,
     "referenced_widgets": [
      "45b415cc22e64cbc9376f7bf8601f09b",
      "eee83e0a1bd14d00af3159061f96a553",
      "bd82244ccbd842539464a9168a897f1c",
      "94b4879a5a644dbeaa3ec1e5af2b1744",
      "fb542b520c1a42f4b621f95a4e90d644",
      "87447d7825574c6f8ab503b1b534d506",
      "56d638bddd534750b06ea6fe6701cb15",
      "7358823ad0d1474cae97638aebeb835f",
      "f53391ef64574c76bd18add79c0fa4bf",
      "6280438c65704c3a9603a2402d18c39a",
      "fe99814191c14edea16dc733737441a5"
     ]
    },
    "executionInfo": {
     "status": "ok",
     "timestamp": 1679310737099,
     "user_tz": -180,
     "elapsed": 25172,
     "user": {
      "displayName": "Deep Learning School",
      "userId": "16549096980415837553"
     }
    },
    "outputId": "7aaf0b16-1e5a-4b5a-f750-d2a0e93adf04",
    "execution": {
     "iopub.status.busy": "2023-06-05T08:55:46.778890Z",
     "iopub.execute_input": "2023-06-05T08:55:46.779753Z",
     "iopub.status.idle": "2023-06-05T08:56:35.660455Z",
     "shell.execute_reply.started": "2023-06-05T08:55:46.779716Z",
     "shell.execute_reply": "2023-06-05T08:56:35.659387Z"
    },
    "trusted": true
   },
   "execution_count": 65,
   "outputs": [
    {
     "output_type": "display_data",
     "data": {
      "text/plain": "  0%|          | 0/120000 [00:00<?, ?it/s]",
      "application/vnd.jupyter.widget-view+json": {
       "version_major": 2,
       "version_minor": 0,
       "model_id": "0a0a20f6cf3b40b6b779d0ab5aaf117f"
      }
     },
     "metadata": {}
    },
    {
     "name": "stdout",
     "text": "Размер словаря: 11842\n",
     "output_type": "stream"
    }
   ]
  },
  {
   "cell_type": "code",
   "source": "class WordDataset:\n    def __init__(self, sentences):\n        self.data = sentences\n        self.unk_id = word2ind['<unk>']\n        self.bos_id = word2ind['<bos>']\n        self.eos_id = word2ind['<eos>']\n        self.pad_id = word2ind['<pad>']\n\n    def __getitem__(self, idx: int) -> List[int]:\n        processed_text = self.data[idx]['text'].lower().translate(\n            str.maketrans('', '', string.punctuation))\n        tokenized_sentence = [self.bos_id]\n        tokenized_sentence += [\n            word2ind.get(word, self.unk_id) for word in word_tokenize(processed_text)\n            ] \n        tokenized_sentence += [self.eos_id]\n\n        train_sample = {\n            \"text\": tokenized_sentence,\n            \"label\": self.data[idx]['label']\n        }\n\n        return train_sample\n\n    def __len__(self) -> int:\n        return len(self.data)\n\n\ndef collate_fn_with_padding(\n    input_batch: List[List[int]], pad_id=word2ind['<pad>'], max_len=256) -> torch.Tensor:\n    seq_lens = [len(x['text']) for x in input_batch]\n    max_seq_len = min(max(seq_lens), max_len)\n\n    new_batch = []\n    for sequence in input_batch:\n        sequence['text'] = sequence['text'][:max_seq_len]\n        for _ in range(max_seq_len - len(sequence['text'])):\n            sequence['text'].append(pad_id)\n\n        new_batch.append(sequence['text'])\n    \n    sequences = torch.LongTensor(new_batch).to(device)\n    labels = torch.LongTensor([x['label'] for x in input_batch]).to(device)\n\n    new_batch = {\n        'input_ids': sequences,\n        'label': labels\n    }\n\n    return new_batch",
   "metadata": {
    "id": "FVzXL17PzC7K",
    "execution": {
     "iopub.status.busy": "2023-06-05T08:56:35.661893Z",
     "iopub.execute_input": "2023-06-05T08:56:35.662732Z",
     "iopub.status.idle": "2023-06-05T08:56:35.676472Z",
     "shell.execute_reply.started": "2023-06-05T08:56:35.662696Z",
     "shell.execute_reply": "2023-06-05T08:56:35.675259Z"
    },
    "trusted": true
   },
   "execution_count": 66,
   "outputs": []
  },
  {
   "cell_type": "code",
   "source": "train_dataset = WordDataset(dataset['train'])\n\nnp.random.seed(42)\nidx = np.random.choice(np.arange(len(dataset['test'])), 5000)\neval_dataset = WordDataset(dataset['test'].select(idx))\n\nbatch_size = 32\ntrain_dataloader = DataLoader(\n    train_dataset, shuffle=True, collate_fn=collate_fn_with_padding, batch_size=batch_size)\n\neval_dataloader = DataLoader(\n    eval_dataset, shuffle=False, collate_fn=collate_fn_with_padding, batch_size=batch_size)",
   "metadata": {
    "id": "6xmeK9Ys1BIG",
    "execution": {
     "iopub.status.busy": "2023-06-05T08:56:35.678020Z",
     "iopub.execute_input": "2023-06-05T08:56:35.678401Z",
     "iopub.status.idle": "2023-06-05T08:56:35.700038Z",
     "shell.execute_reply.started": "2023-06-05T08:56:35.678364Z",
     "shell.execute_reply": "2023-06-05T08:56:35.699117Z"
    },
    "trusted": true
   },
   "execution_count": 67,
   "outputs": []
  },
  {
   "cell_type": "markdown",
   "source": "## Постановка задачи\nВаша задача -- получить максимальное возможное accuracy на `eval_dataloader`. Ниже приведена функция, которую вам необходимо запустить для обученной модели, чтобы вычислить качество её работы.",
   "metadata": {
    "id": "w7LHfh3u5Bie"
   }
  },
  {
   "cell_type": "code",
   "source": "def evaluate(model, eval_dataloader) -> float:\n    \"\"\"\n    Calculate accuracy on validation dataloader.\n    \"\"\"\n\n    predictions = []\n    target = []\n    with torch.no_grad():\n        for batch in eval_dataloader:\n            logits = model(batch['input_ids'])\n            predictions.append(logits.argmax(dim=1))\n            target.append(batch['label'])\n    \n    predictions = torch.cat(predictions)\n    target = torch.cat(target)\n    accuracy = (predictions == target).float().mean().item()\n\n    return accuracy",
   "metadata": {
    "id": "JDZw4Sehn4NE",
    "execution": {
     "iopub.status.busy": "2023-06-05T18:43:56.729078Z",
     "iopub.execute_input": "2023-06-05T18:43:56.729638Z",
     "iopub.status.idle": "2023-06-05T18:43:56.737772Z",
     "shell.execute_reply.started": "2023-06-05T18:43:56.729608Z",
     "shell.execute_reply": "2023-06-05T18:43:56.736826Z"
    },
    "trusted": true
   },
   "execution_count": 8,
   "outputs": []
  },
  {
   "cell_type": "markdown",
   "source": "## Ход работы\nОценка за домашнее задание складывается из четырех частей:\n### Запуск базовой модели с семинара на новом датасете (1 балл)\nНа семинаре мы создали модель, которая дает на нашей задаче довольно высокое качество. Ваша цель --- обучить ее и вычислить `score`, который затем можно будет использовать в качестве бейзлайна. \n\nВ модели появится одно важное изменение: количество классов теперь равно не 2, а 4. Обратите на это внимание и найдите, что в коде создания модели нужно модифицировать, чтобы учесть это различие. \n\n### Проведение экспериментов по улучшению модели (2 балла за каждый эксперимент)\nЧтобы улучшить качество базовой модели, можно попробовать различные идеи экспериментов. Каждый выполненный эксперимент будет оцениваться в 2 балла. Для получения полного балла за этот пункт вам необходимо выполнить по крайней мере 2 эксперимента. Не расстраивайтесь, если какой-то эксперимент не дал вам прироста к качеству: он все равно зачтется, если выполнен корректно. \n\nВот несколько идей экспериментов:\n* **Модель RNN**. Попробуйте другие нейросетевые модели --- LSTM и GRU. Мы советуем обратить внимание на [GRU](https://pytorch.org/docs/stable/generated/torch.nn.GRU.html), так как интерфейс этого класса ничем не отличается от обычной Vanilla RNN, которую мы использовали на семинаре.\n* **Увеличение количества рекуррентных слоев модели**. Это можно сделать с помощью параметра `num_layers` в классе `nn.RNN`. В такой модели выходы первой RNN передаются в качестве входов второй RNN и так далее. \n* **Изменение архитектуры после применения RNN**. В базовой модели используется агрегация со всех эмбеддингов. Возможно, вы захотите конкатенировать результат агрегации и эмбеддинг с последнего токена.\n* **Подбор гиперпараметров и обучение до сходимости**. Возможно, для получения более высокого качества просто необходимо увеличить количество эпох обучения нейросети, а также попробовать различные гиперпараметры: размер словаря, `dropout_rate`, `hidden_dim`.\n\nОбратите внимание, что главное правило проведения экспериментов --- необходимо совершать одно архитектурное изменение в одном эксперименте. Если вы совершите несколько изменений, то будет неясно, какое именно из изменений дало прирост к качеству. \n\n### Получение высокого качества (3 балла)\nВ конце вашей работы вы должны указать, какая из моделей дала лучший результат, и вывести качество, которое дает лучшая модель, с помощью функции `evaluate`. Ваша модель будет оцениваться по метрике `accuracy` следующим образом:\n* $accuracy < 0.9$ --- 0 баллов;\n* $0.9 \\leqslant accuracy < 0.91$ --- 1 балл;\n* $0.91 \\leqslant accuracy < 0.915$ --- 2 балла;\n* $0.915 \\leqslant accuracy$ --- 3 балла.\n\n### Оформление отчета (2 балла)\nВ конце работы подробно опишите все проведенные эксперименты. \n* Укажите, какие из экспериментов принесли улучшение, а какие --- нет. \n* Проанализируйте графики сходимости моделей в проведенных экспериментах. Являются ли колебания качества обученных моделей существенными в зависимости от эпохи обучения, или же сходимость стабильная? \n* Укажите, какая модель получилась оптимальной.\n\nЖелаем удачи!",
   "metadata": {
    "id": "SMAexY7Y45E4"
   }
  },
  {
   "cell_type": "markdown",
   "source": "### Запуск базовой модели с семинара на новом датасете",
   "metadata": {}
  },
  {
   "cell_type": "code",
   "source": "class CharLM(nn.Module):\n    def __init__(self, hidden_dim: int, vocab_size: int, num_classes: int = 4):\n        super().__init__()\n        self.embedding = nn.Embedding(vocab_size, hidden_dim)\n        self.rnn = nn.RNN(hidden_dim, hidden_dim, batch_first=True)\n        self.linear = nn.Linear(hidden_dim, hidden_dim)\n        self.projection = nn.Linear(hidden_dim, num_classes)\n\n        self.non_lin = nn.Tanh()\n        self.dropout = nn.Dropout(p=0.1)\n\n    def forward(self, input_batch) -> torch.Tensor:\n        embeddings = self.embedding(input_batch)  # [batch_size, seq_len, hidden_dim]\n        output, _ = self.rnn(embeddings)  # [batch_size, seq_len, hidden_dim]\n\n        output = output.mean(dim=1) #[batch_size, hidden_dim]\n        \n        output = self.dropout(self.linear(output))  # [batch_size, hidden_dim]\n        prediction = self.projection(self.non_lin(output))  # [batch_size, num_classes]\n\n        return prediction",
   "metadata": {
    "id": "BqKYrcyxBoxx",
    "execution": {
     "iopub.status.busy": "2023-06-05T18:43:58.377672Z",
     "iopub.execute_input": "2023-06-05T18:43:58.378013Z",
     "iopub.status.idle": "2023-06-05T18:43:58.386042Z",
     "shell.execute_reply.started": "2023-06-05T18:43:58.377987Z",
     "shell.execute_reply": "2023-06-05T18:43:58.385132Z"
    },
    "trusted": true
   },
   "execution_count": 9,
   "outputs": []
  },
  {
   "cell_type": "code",
   "source": "model = CharLM(hidden_dim=256, vocab_size=len(vocab)).to(device)\ncriterion = nn.CrossEntropyLoss()\noptimizer = torch.optim.Adam(model.parameters())",
   "metadata": {
    "execution": {
     "iopub.status.busy": "2023-06-05T08:56:35.730109Z",
     "iopub.execute_input": "2023-06-05T08:56:35.730388Z",
     "iopub.status.idle": "2023-06-05T08:56:35.769170Z",
     "shell.execute_reply.started": "2023-06-05T08:56:35.730365Z",
     "shell.execute_reply": "2023-06-05T08:56:35.768331Z"
    },
    "trusted": true
   },
   "execution_count": 70,
   "outputs": []
  },
  {
   "cell_type": "code",
   "source": "num_epoch = 10\neval_steps = len(train_dataloader) // 2\n\nlosses = []\nacc = []\n\nfor epoch in range(num_epoch):\n    epoch_losses = []\n    model.train()\n    for i, batch in enumerate(tqdm(train_dataloader, desc=f'Training epoch {epoch}:')):\n        optimizer.zero_grad()\n        logits = model(batch['input_ids'])\n        loss = criterion(logits, batch['label'])\n        loss.backward()\n        optimizer.step()\n\n        epoch_losses.append(loss.item())\n        if i % eval_steps == 0:\n            model.eval()\n            acc.append(evaluate(model, eval_dataloader))\n            model.train()\n\n    losses.append(sum(epoch_losses) / len(epoch_losses))",
   "metadata": {
    "execution": {
     "iopub.status.busy": "2023-06-05T08:56:35.770657Z",
     "iopub.execute_input": "2023-06-05T08:56:35.771009Z",
     "iopub.status.idle": "2023-06-05T09:10:50.423363Z",
     "shell.execute_reply.started": "2023-06-05T08:56:35.770978Z",
     "shell.execute_reply": "2023-06-05T09:10:50.422117Z"
    },
    "trusted": true
   },
   "execution_count": 71,
   "outputs": [
    {
     "output_type": "display_data",
     "data": {
      "text/plain": "Training epoch 0::   0%|          | 0/3750 [00:00<?, ?it/s]",
      "application/vnd.jupyter.widget-view+json": {
       "version_major": 2,
       "version_minor": 0,
       "model_id": "dd773537ec534a7782ed90cd07140392"
      }
     },
     "metadata": {}
    },
    {
     "output_type": "display_data",
     "data": {
      "text/plain": "Training epoch 1::   0%|          | 0/3750 [00:00<?, ?it/s]",
      "application/vnd.jupyter.widget-view+json": {
       "version_major": 2,
       "version_minor": 0,
       "model_id": "6819968a624d48e1a4fbf43998184dfc"
      }
     },
     "metadata": {}
    },
    {
     "output_type": "display_data",
     "data": {
      "text/plain": "Training epoch 2::   0%|          | 0/3750 [00:00<?, ?it/s]",
      "application/vnd.jupyter.widget-view+json": {
       "version_major": 2,
       "version_minor": 0,
       "model_id": "7b3fef27c15b4fa6b77d1154c6d417f1"
      }
     },
     "metadata": {}
    },
    {
     "output_type": "display_data",
     "data": {
      "text/plain": "Training epoch 3::   0%|          | 0/3750 [00:00<?, ?it/s]",
      "application/vnd.jupyter.widget-view+json": {
       "version_major": 2,
       "version_minor": 0,
       "model_id": "c6e93ed3daa54f88a01a23533432d7b9"
      }
     },
     "metadata": {}
    },
    {
     "output_type": "display_data",
     "data": {
      "text/plain": "Training epoch 4::   0%|          | 0/3750 [00:00<?, ?it/s]",
      "application/vnd.jupyter.widget-view+json": {
       "version_major": 2,
       "version_minor": 0,
       "model_id": "b20eb50bf9474d369aff819e0fe3a611"
      }
     },
     "metadata": {}
    },
    {
     "output_type": "display_data",
     "data": {
      "text/plain": "Training epoch 5::   0%|          | 0/3750 [00:00<?, ?it/s]",
      "application/vnd.jupyter.widget-view+json": {
       "version_major": 2,
       "version_minor": 0,
       "model_id": "bc7e7347db8547be8692c1851d38f502"
      }
     },
     "metadata": {}
    },
    {
     "output_type": "display_data",
     "data": {
      "text/plain": "Training epoch 6::   0%|          | 0/3750 [00:00<?, ?it/s]",
      "application/vnd.jupyter.widget-view+json": {
       "version_major": 2,
       "version_minor": 0,
       "model_id": "6c11b39d056441598bccac866bc945dd"
      }
     },
     "metadata": {}
    },
    {
     "output_type": "display_data",
     "data": {
      "text/plain": "Training epoch 7::   0%|          | 0/3750 [00:00<?, ?it/s]",
      "application/vnd.jupyter.widget-view+json": {
       "version_major": 2,
       "version_minor": 0,
       "model_id": "f8d930ea4bd24e91816b3ec417a5d1e5"
      }
     },
     "metadata": {}
    },
    {
     "output_type": "display_data",
     "data": {
      "text/plain": "Training epoch 8::   0%|          | 0/3750 [00:00<?, ?it/s]",
      "application/vnd.jupyter.widget-view+json": {
       "version_major": 2,
       "version_minor": 0,
       "model_id": "ce30cf4241bc4201840c2403c1ca8d2e"
      }
     },
     "metadata": {}
    },
    {
     "output_type": "display_data",
     "data": {
      "text/plain": "Training epoch 9::   0%|          | 0/3750 [00:00<?, ?it/s]",
      "application/vnd.jupyter.widget-view+json": {
       "version_major": 2,
       "version_minor": 0,
       "model_id": "8a7dd7944a194c818fd6798c6bdf90d9"
      }
     },
     "metadata": {}
    }
   ]
  },
  {
   "cell_type": "code",
   "source": "plt.plot(losses)\n\nplt.title('Loss')\nplt.xlabel(\"epoch\")\nplt.legend()\nplt.show()",
   "metadata": {
    "execution": {
     "iopub.status.busy": "2023-06-05T09:10:50.425016Z",
     "iopub.execute_input": "2023-06-05T09:10:50.425503Z",
     "iopub.status.idle": "2023-06-05T09:10:50.780868Z",
     "shell.execute_reply.started": "2023-06-05T09:10:50.425464Z",
     "shell.execute_reply": "2023-06-05T09:10:50.779888Z"
    },
    "trusted": true
   },
   "execution_count": 72,
   "outputs": [
    {
     "output_type": "display_data",
     "data": {
      "text/plain": "<Figure size 640x480 with 1 Axes>",
      "image/png": "[encoded data removed]"
     },
     "metadata": {}
    }
   ]
  },
  {
   "cell_type": "code",
   "source": "plt.plot(acc)\n\nplt.title('Accuracy')\nplt.xlabel(\"Eval step\")\nplt.legend()\nplt.xlim(0, 18)\nplt.show()",
   "metadata": {
    "execution": {
     "iopub.status.busy": "2023-06-05T09:10:50.782456Z",
     "iopub.execute_input": "2023-06-05T09:10:50.782788Z",
     "iopub.status.idle": "2023-06-05T09:10:51.204022Z",
     "shell.execute_reply.started": "2023-06-05T09:10:50.782756Z",
     "shell.execute_reply": "2023-06-05T09:10:51.202891Z"
    },
    "trusted": true
   },
   "execution_count": 73,
   "outputs": [
    {
     "output_type": "display_data",
     "data": {
      "text/plain": "<Figure size 640x480 with 1 Axes>",
      "image/png": "[encoded data removed]"
     },
     "metadata": {}
    }
   ]
  },
  {
   "cell_type": "code",
   "source": "acc[np.argmax(acc)], np.argmax(acc)",
   "metadata": {
    "execution": {
     "iopub.status.busy": "2023-06-05T09:10:51.205468Z",
     "iopub.execute_input": "2023-06-05T09:10:51.205790Z",
     "iopub.status.idle": "2023-06-05T09:10:51.212299Z",
     "shell.execute_reply.started": "2023-06-05T09:10:51.205758Z",
     "shell.execute_reply": "2023-06-05T09:10:51.211393Z"
    },
    "trusted": true
   },
   "execution_count": 74,
   "outputs": [
    {
     "execution_count": 74,
     "output_type": "execute_result",
     "data": {
      "text/plain": "(0.9115999937057495, 5)"
     },
     "metadata": {}
    }
   ]
  },
  {
   "cell_type": "markdown",
   "source": "Модель запустили на новом датасете, видно что удалось достичь максимальной accuracy в 0.9116 на ~3 эпохе.",
   "metadata": {}
  },
  {
   "cell_type": "markdown",
   "source": "## Проведение экспериментов по улучшению модели",
   "metadata": {}
  },
  {
   "cell_type": "markdown",
   "source": "### Попробуем архитектуру с LSTM",
   "metadata": {}
  },
  {
   "cell_type": "code",
   "source": "class LSTMCharLM(nn.Module):\n    def __init__(self, hidden_dim: int, vocab_size: int, num_classes: int = 4):\n        super().__init__()\n        self.embedding = nn.Embedding(vocab_size, hidden_dim)\n        self.lstm = nn.LSTM(hidden_dim, hidden_dim, batch_first=True)\n        self.linear = nn.Linear(hidden_dim, hidden_dim)\n        self.projection = nn.Linear(hidden_dim, num_classes)\n\n        self.non_lin = nn.Tanh()\n        self.dropout = nn.Dropout(p=0.1)\n\n    def forward(self, input_batch) -> torch.Tensor:\n        embeddings = self.embedding(input_batch)  # [batch_size, seq_len, hidden_dim]\n        output, _ = self.lstm(embeddings)  # [batch_size, seq_len, hidden_dim]\n\n        output = output.mean(dim=1) #[batch_size, hidden_dim]\n        \n        output = self.dropout(self.linear(output))  # [batch_size, hidden_dim]\n        prediction = self.projection(self.non_lin(output))  # [batch_size, num_classes]\n\n        return prediction",
   "metadata": {
    "execution": {
     "iopub.status.busy": "2023-06-05T19:02:58.025210Z",
     "iopub.execute_input": "2023-06-05T19:02:58.025846Z",
     "iopub.status.idle": "2023-06-05T19:02:58.035397Z",
     "shell.execute_reply.started": "2023-06-05T19:02:58.025815Z",
     "shell.execute_reply": "2023-06-05T19:02:58.034470Z"
    },
    "trusted": true
   },
   "execution_count": 27,
   "outputs": []
  },
  {
   "cell_type": "code",
   "source": "model = LSTMCharLM(hidden_dim=256, vocab_size=len(vocab)).to(device)\ncriterion = nn.CrossEntropyLoss()\noptimizer = torch.optim.Adam(model.parameters())",
   "metadata": {
    "execution": {
     "iopub.status.busy": "2023-06-05T09:14:51.785278Z",
     "iopub.execute_input": "2023-06-05T09:14:51.785689Z",
     "iopub.status.idle": "2023-06-05T09:14:51.834046Z",
     "shell.execute_reply.started": "2023-06-05T09:14:51.785656Z",
     "shell.execute_reply": "2023-06-05T09:14:51.832978Z"
    },
    "trusted": true
   },
   "execution_count": 85,
   "outputs": []
  },
  {
   "cell_type": "code",
   "source": "num_epoch = 10\neval_steps = len(train_dataloader) // 2\n\nlosses = []\nacc = []\n\nfor epoch in range(num_epoch):\n    epoch_losses = []\n    model.train()\n    for i, batch in enumerate(tqdm(train_dataloader, desc=f'Training epoch {epoch}:')):\n        optimizer.zero_grad()\n        logits = model(batch['input_ids'])\n        loss = criterion(logits, batch['label'])\n        loss.backward()\n        optimizer.step()\n\n        epoch_losses.append(loss.item())\n        if i % eval_steps == 0:\n            model.eval()\n            acc.append(evaluate(model, eval_dataloader))\n            model.train()\n\n    losses.append(sum(epoch_losses) / len(epoch_losses))",
   "metadata": {
    "execution": {
     "iopub.status.busy": "2023-06-05T09:14:52.448246Z",
     "iopub.execute_input": "2023-06-05T09:14:52.448654Z",
     "iopub.status.idle": "2023-06-05T09:31:06.210155Z",
     "shell.execute_reply.started": "2023-06-05T09:14:52.448621Z",
     "shell.execute_reply": "2023-06-05T09:31:06.209104Z"
    },
    "trusted": true
   },
   "execution_count": 86,
   "outputs": [
    {
     "output_type": "display_data",
     "data": {
      "text/plain": "Training epoch 0::   0%|          | 0/3750 [00:00<?, ?it/s]",
      "application/vnd.jupyter.widget-view+json": {
       "version_major": 2,
       "version_minor": 0,
       "model_id": "4b84042015d041df8c645f5e2e85004e"
      }
     },
     "metadata": {}
    },
    {
     "output_type": "display_data",
     "data": {
      "text/plain": "Training epoch 1::   0%|          | 0/3750 [00:00<?, ?it/s]",
      "application/vnd.jupyter.widget-view+json": {
       "version_major": 2,
       "version_minor": 0,
       "model_id": "353083f489d14b418865da8c700b9cdb"
      }
     },
     "metadata": {}
    },
    {
     "output_type": "display_data",
     "data": {
      "text/plain": "Training epoch 2::   0%|          | 0/3750 [00:00<?, ?it/s]",
      "application/vnd.jupyter.widget-view+json": {
       "version_major": 2,
       "version_minor": 0,
       "model_id": "684bba967b6f4fc5aee4280b91f668bc"
      }
     },
     "metadata": {}
    },
    {
     "output_type": "display_data",
     "data": {
      "text/plain": "Training epoch 3::   0%|          | 0/3750 [00:00<?, ?it/s]",
      "application/vnd.jupyter.widget-view+json": {
       "version_major": 2,
       "version_minor": 0,
       "model_id": "ddb3102974b74628983ed282b0001c08"
      }
     },
     "metadata": {}
    },
    {
     "output_type": "display_data",
     "data": {
      "text/plain": "Training epoch 4::   0%|          | 0/3750 [00:00<?, ?it/s]",
      "application/vnd.jupyter.widget-view+json": {
       "version_major": 2,
       "version_minor": 0,
       "model_id": "df21a65506b546fd96d544d61d357c1e"
      }
     },
     "metadata": {}
    },
    {
     "output_type": "display_data",
     "data": {
      "text/plain": "Training epoch 5::   0%|          | 0/3750 [00:00<?, ?it/s]",
      "application/vnd.jupyter.widget-view+json": {
       "version_major": 2,
       "version_minor": 0,
       "model_id": "9458d242df8849d2b000bea8aaf77cdb"
      }
     },
     "metadata": {}
    },
    {
     "output_type": "display_data",
     "data": {
      "text/plain": "Training epoch 6::   0%|          | 0/3750 [00:00<?, ?it/s]",
      "application/vnd.jupyter.widget-view+json": {
       "version_major": 2,
       "version_minor": 0,
       "model_id": "00e57fee27cc42378f2e04a284db28c8"
      }
     },
     "metadata": {}
    },
    {
     "output_type": "display_data",
     "data": {
      "text/plain": "Training epoch 7::   0%|          | 0/3750 [00:00<?, ?it/s]",
      "application/vnd.jupyter.widget-view+json": {
       "version_major": 2,
       "version_minor": 0,
       "model_id": "4418cf962a96490f940e55fa7d9ae11b"
      }
     },
     "metadata": {}
    },
    {
     "output_type": "display_data",
     "data": {
      "text/plain": "Training epoch 8::   0%|          | 0/3750 [00:00<?, ?it/s]",
      "application/vnd.jupyter.widget-view+json": {
       "version_major": 2,
       "version_minor": 0,
       "model_id": "3e088b042db643b3a2835f9a00149f46"
      }
     },
     "metadata": {}
    },
    {
     "output_type": "display_data",
     "data": {
      "text/plain": "Training epoch 9::   0%|          | 0/3750 [00:00<?, ?it/s]",
      "application/vnd.jupyter.widget-view+json": {
       "version_major": 2,
       "version_minor": 0,
       "model_id": "b6e72b7916d144adba143b69d0df6e72"
      }
     },
     "metadata": {}
    }
   ]
  },
  {
   "cell_type": "code",
   "source": "plt.plot(losses)\n\nplt.title('Loss')\nplt.xlabel(\"epoch\")\nplt.legend()\nplt.show()",
   "metadata": {
    "execution": {
     "iopub.status.busy": "2023-06-05T09:31:06.212422Z",
     "iopub.execute_input": "2023-06-05T09:31:06.213119Z",
     "iopub.status.idle": "2023-06-05T09:31:06.533884Z",
     "shell.execute_reply.started": "2023-06-05T09:31:06.213080Z",
     "shell.execute_reply": "2023-06-05T09:31:06.533006Z"
    },
    "trusted": true
   },
   "execution_count": 87,
   "outputs": [
    {
     "output_type": "display_data",
     "data": {
      "text/plain": "<Figure size 640x480 with 1 Axes>",
      "image/png": "[encoded data removed]"
     },
     "metadata": {}
    }
   ]
  },
  {
   "cell_type": "code",
   "source": "plt.plot(acc)\n\nplt.title('Accuracy')\nplt.xlabel(\"Eval step\")\nplt.legend()\nplt.xlim(0, 18)\nplt.show()",
   "metadata": {
    "execution": {
     "iopub.status.busy": "2023-06-05T09:31:06.535286Z",
     "iopub.execute_input": "2023-06-05T09:31:06.536026Z",
     "iopub.status.idle": "2023-06-05T09:31:06.893722Z",
     "shell.execute_reply.started": "2023-06-05T09:31:06.535990Z",
     "shell.execute_reply": "2023-06-05T09:31:06.892840Z"
    },
    "trusted": true
   },
   "execution_count": 88,
   "outputs": [
    {
     "output_type": "display_data",
     "data": {
      "text/plain": "<Figure size 640x480 with 1 Axes>",
      "image/png": "[encoded data removed]"
     },
     "metadata": {}
    }
   ]
  },
  {
   "cell_type": "code",
   "source": "acc[np.argmax(acc)], np.argmax(acc)",
   "metadata": {
    "execution": {
     "iopub.status.busy": "2023-06-05T09:31:06.896065Z",
     "iopub.execute_input": "2023-06-05T09:31:06.896734Z",
     "iopub.status.idle": "2023-06-05T09:31:06.903156Z",
     "shell.execute_reply.started": "2023-06-05T09:31:06.896701Z",
     "shell.execute_reply": "2023-06-05T09:31:06.902279Z"
    },
    "trusted": true
   },
   "execution_count": 89,
   "outputs": [
    {
     "execution_count": 89,
     "output_type": "execute_result",
     "data": {
      "text/plain": "(0.9145999550819397, 6)"
     },
     "metadata": {}
    }
   ]
  },
  {
   "cell_type": "markdown",
   "source": "Видно, что нам удалось немного увеличить accuracy путем использования LSTM до 0.9146 на ~3 эпохе.",
   "metadata": {}
  },
  {
   "cell_type": "markdown",
   "source": "### Попробуем увеличить количество слоев RNN",
   "metadata": {}
  },
  {
   "cell_type": "code",
   "source": "class CharLM2(nn.Module):\n    def __init__(self, hidden_dim: int, vocab_size: int, num_classes: int = 4):\n        super().__init__()\n        self.embedding = nn.Embedding(vocab_size, hidden_dim)\n        self.rnn = nn.RNN(hidden_dim, hidden_dim, batch_first=True, num_layers=2)\n        self.linear = nn.Linear(hidden_dim, hidden_dim)\n        self.projection = nn.Linear(hidden_dim, num_classes)\n\n        self.non_lin = nn.Tanh()\n        self.dropout = nn.Dropout(p=0.1)\n\n    def forward(self, input_batch) -> torch.Tensor:\n        embeddings = self.embedding(input_batch)  # [batch_size, seq_len, hidden_dim]\n        output, _ = self.rnn(embeddings)  # [batch_size, seq_len, hidden_dim]\n\n        output = output.mean(dim=1) #[batch_size, hidden_dim]\n        \n        output = self.dropout(self.linear(output))  # [batch_size, hidden_dim]\n        prediction = self.projection(self.non_lin(output))  # [batch_size, num_classes]\n\n        return prediction",
   "metadata": {
    "execution": {
     "iopub.status.busy": "2023-06-05T09:52:24.281657Z",
     "iopub.execute_input": "2023-06-05T09:52:24.282724Z",
     "iopub.status.idle": "2023-06-05T09:52:24.293074Z",
     "shell.execute_reply.started": "2023-06-05T09:52:24.282684Z",
     "shell.execute_reply": "2023-06-05T09:52:24.291649Z"
    },
    "trusted": true
   },
   "execution_count": 90,
   "outputs": []
  },
  {
   "cell_type": "code",
   "source": "model = CharLM2(hidden_dim=256, vocab_size=len(vocab)).to(device)\ncriterion = nn.CrossEntropyLoss()\noptimizer = torch.optim.Adam(model.parameters())",
   "metadata": {
    "execution": {
     "iopub.status.busy": "2023-06-05T09:52:27.635457Z",
     "iopub.execute_input": "2023-06-05T09:52:27.635815Z",
     "iopub.status.idle": "2023-06-05T09:52:27.670876Z",
     "shell.execute_reply.started": "2023-06-05T09:52:27.635786Z",
     "shell.execute_reply": "2023-06-05T09:52:27.669905Z"
    },
    "trusted": true
   },
   "execution_count": 91,
   "outputs": []
  },
  {
   "cell_type": "code",
   "source": "num_epoch = 10\neval_steps = len(train_dataloader) // 2\n\nlosses = []\nacc = []\n\nfor epoch in range(num_epoch):\n    epoch_losses = []\n    model.train()\n    for i, batch in enumerate(tqdm(train_dataloader, desc=f'Training epoch {epoch}:')):\n        optimizer.zero_grad()\n        logits = model(batch['input_ids'])\n        loss = criterion(logits, batch['label'])\n        loss.backward()\n        optimizer.step()\n\n        epoch_losses.append(loss.item())\n        if i % eval_steps == 0:\n            model.eval()\n            acc.append(evaluate(model, eval_dataloader))\n            model.train()\n\n    losses.append(sum(epoch_losses) / len(epoch_losses))",
   "metadata": {
    "execution": {
     "iopub.status.busy": "2023-06-05T09:52:32.658695Z",
     "iopub.execute_input": "2023-06-05T09:52:32.659089Z",
     "iopub.status.idle": "2023-06-05T10:07:25.274467Z",
     "shell.execute_reply.started": "2023-06-05T09:52:32.659056Z",
     "shell.execute_reply": "2023-06-05T10:07:25.273219Z"
    },
    "trusted": true
   },
   "execution_count": 92,
   "outputs": [
    {
     "output_type": "display_data",
     "data": {
      "text/plain": "Training epoch 0::   0%|          | 0/3750 [00:00<?, ?it/s]",
      "application/vnd.jupyter.widget-view+json": {
       "version_major": 2,
       "version_minor": 0,
       "model_id": "2c457d6ba4764aa5b81cf3a1b23dc923"
      }
     },
     "metadata": {}
    },
    {
     "output_type": "display_data",
     "data": {
      "text/plain": "Training epoch 1::   0%|          | 0/3750 [00:00<?, ?it/s]",
      "application/vnd.jupyter.widget-view+json": {
       "version_major": 2,
       "version_minor": 0,
       "model_id": "8b7dfbab68574803866ef6b5fcb923a7"
      }
     },
     "metadata": {}
    },
    {
     "output_type": "display_data",
     "data": {
      "text/plain": "Training epoch 2::   0%|          | 0/3750 [00:00<?, ?it/s]",
      "application/vnd.jupyter.widget-view+json": {
       "version_major": 2,
       "version_minor": 0,
       "model_id": "32e05d1e008b4c29bc1016cbf82027b6"
      }
     },
     "metadata": {}
    },
    {
     "output_type": "display_data",
     "data": {
      "text/plain": "Training epoch 3::   0%|          | 0/3750 [00:00<?, ?it/s]",
      "application/vnd.jupyter.widget-view+json": {
       "version_major": 2,
       "version_minor": 0,
       "model_id": "3ffd0c03af694798b72e4e5106b585c6"
      }
     },
     "metadata": {}
    },
    {
     "output_type": "display_data",
     "data": {
      "text/plain": "Training epoch 4::   0%|          | 0/3750 [00:00<?, ?it/s]",
      "application/vnd.jupyter.widget-view+json": {
       "version_major": 2,
       "version_minor": 0,
       "model_id": "fa6c8d7daff941909d99fadb058e7ca7"
      }
     },
     "metadata": {}
    },
    {
     "output_type": "display_data",
     "data": {
      "text/plain": "Training epoch 5::   0%|          | 0/3750 [00:00<?, ?it/s]",
      "application/vnd.jupyter.widget-view+json": {
       "version_major": 2,
       "version_minor": 0,
       "model_id": "0f792157d43e40daa9362cd45ea6b6c2"
      }
     },
     "metadata": {}
    },
    {
     "output_type": "display_data",
     "data": {
      "text/plain": "Training epoch 6::   0%|          | 0/3750 [00:00<?, ?it/s]",
      "application/vnd.jupyter.widget-view+json": {
       "version_major": 2,
       "version_minor": 0,
       "model_id": "17ec5424c98b4888ae44fbce36c4bd88"
      }
     },
     "metadata": {}
    },
    {
     "output_type": "display_data",
     "data": {
      "text/plain": "Training epoch 7::   0%|          | 0/3750 [00:00<?, ?it/s]",
      "application/vnd.jupyter.widget-view+json": {
       "version_major": 2,
       "version_minor": 0,
       "model_id": "a6559906f622414c92850a6f36784d6e"
      }
     },
     "metadata": {}
    },
    {
     "output_type": "display_data",
     "data": {
      "text/plain": "Training epoch 8::   0%|          | 0/3750 [00:00<?, ?it/s]",
      "application/vnd.jupyter.widget-view+json": {
       "version_major": 2,
       "version_minor": 0,
       "model_id": "d1c20158334d41de8f2af6844a262fa1"
      }
     },
     "metadata": {}
    },
    {
     "output_type": "display_data",
     "data": {
      "text/plain": "Training epoch 9::   0%|          | 0/3750 [00:00<?, ?it/s]",
      "application/vnd.jupyter.widget-view+json": {
       "version_major": 2,
       "version_minor": 0,
       "model_id": "70468983602240d9ba59fb5a986b89d2"
      }
     },
     "metadata": {}
    }
   ]
  },
  {
   "cell_type": "code",
   "source": "plt.plot(losses)\n\nplt.title('Loss')\nplt.xlabel(\"epoch\")\nplt.legend()\nplt.show()",
   "metadata": {
    "execution": {
     "iopub.status.busy": "2023-06-05T10:07:25.276666Z",
     "iopub.execute_input": "2023-06-05T10:07:25.277128Z",
     "iopub.status.idle": "2023-06-05T10:07:25.614876Z",
     "shell.execute_reply.started": "2023-06-05T10:07:25.277092Z",
     "shell.execute_reply": "2023-06-05T10:07:25.613889Z"
    },
    "trusted": true
   },
   "execution_count": 93,
   "outputs": [
    {
     "output_type": "display_data",
     "data": {
      "text/plain": "<Figure size 640x480 with 1 Axes>",
      "image/png": "[encoded data removed]"
     },
     "metadata": {}
    }
   ]
  },
  {
   "cell_type": "code",
   "source": "plt.plot(acc)\n\nplt.title('Accuracy')\nplt.xlabel(\"Eval step\")\nplt.legend()\nplt.xlim(0, 18)\nplt.show()",
   "metadata": {
    "execution": {
     "iopub.status.busy": "2023-06-05T10:07:25.616736Z",
     "iopub.execute_input": "2023-06-05T10:07:25.617494Z",
     "iopub.status.idle": "2023-06-05T10:07:25.989853Z",
     "shell.execute_reply.started": "2023-06-05T10:07:25.617458Z",
     "shell.execute_reply": "2023-06-05T10:07:25.988897Z"
    },
    "trusted": true
   },
   "execution_count": 94,
   "outputs": [
    {
     "output_type": "display_data",
     "data": {
      "text/plain": "<Figure size 640x480 with 1 Axes>",
      "image/png": "[encoded data removed]"
     },
     "metadata": {}
    }
   ]
  },
  {
   "cell_type": "code",
   "source": "acc[np.argmax(acc)], np.argmax(acc)",
   "metadata": {
    "execution": {
     "iopub.status.busy": "2023-06-05T10:07:25.992393Z",
     "iopub.execute_input": "2023-06-05T10:07:25.993091Z",
     "iopub.status.idle": "2023-06-05T10:07:26.000217Z",
     "shell.execute_reply.started": "2023-06-05T10:07:25.993055Z",
     "shell.execute_reply": "2023-06-05T10:07:25.999342Z"
    },
    "trusted": true
   },
   "execution_count": 95,
   "outputs": [
    {
     "execution_count": 95,
     "output_type": "execute_result",
     "data": {
      "text/plain": "(0.9081999659538269, 11)"
     },
     "metadata": {}
    }
   ]
  },
  {
   "cell_type": "markdown",
   "source": "Видно, что в случае с RNN увеличение количества слоев приводит к уменьшению accuracy.",
   "metadata": {}
  },
  {
   "cell_type": "markdown",
   "source": "### Попробуем поработать со словарем",
   "metadata": {}
  },
  {
   "cell_type": "markdown",
   "source": "Попробуем сначала просто убрать стоп-слова.",
   "metadata": {}
  },
  {
   "cell_type": "code",
   "source": "en = spacy.load('en_core_web_sm')\nstopwords_spacy = en.Defaults.stop_words",
   "metadata": {
    "execution": {
     "iopub.status.busy": "2023-06-05T18:44:37.087563Z",
     "iopub.execute_input": "2023-06-05T18:44:37.087926Z",
     "iopub.status.idle": "2023-06-05T18:44:38.268822Z",
     "shell.execute_reply.started": "2023-06-05T18:44:37.087896Z",
     "shell.execute_reply": "2023-06-05T18:44:38.267848Z"
    },
    "trusted": true
   },
   "execution_count": 10,
   "outputs": []
  },
  {
   "cell_type": "code",
   "source": "nltk.download('stopwords')\n\nstopwords_nltk = stopwords.words(\"english\")",
   "metadata": {
    "execution": {
     "iopub.status.busy": "2023-06-05T18:44:38.270657Z",
     "iopub.execute_input": "2023-06-05T18:44:38.271736Z",
     "iopub.status.idle": "2023-06-05T18:44:38.282816Z",
     "shell.execute_reply.started": "2023-06-05T18:44:38.271702Z",
     "shell.execute_reply": "2023-06-05T18:44:38.281753Z"
    },
    "trusted": true
   },
   "execution_count": 11,
   "outputs": [
    {
     "name": "stdout",
     "text": "[nltk_data] Downloading package stopwords to /usr/share/nltk_data...\n[nltk_data]   Package stopwords is already up-to-date!\n",
     "output_type": "stream"
    }
   ]
  },
  {
   "cell_type": "code",
   "source": "stopwords_united = set(stopwords_spacy).union(stopwords_nltk)",
   "metadata": {
    "execution": {
     "iopub.status.busy": "2023-06-05T18:44:38.284258Z",
     "iopub.execute_input": "2023-06-05T18:44:38.285242Z",
     "iopub.status.idle": "2023-06-05T18:44:38.289755Z",
     "shell.execute_reply.started": "2023-06-05T18:44:38.285204Z",
     "shell.execute_reply": "2023-06-05T18:44:38.288770Z"
    },
    "trusted": true
   },
   "execution_count": 12,
   "outputs": []
  },
  {
   "cell_type": "code",
   "source": "dataset = datasets.load_dataset('ag_news')",
   "metadata": {
    "execution": {
     "iopub.status.busy": "2023-06-05T18:44:38.774438Z",
     "iopub.execute_input": "2023-06-05T18:44:38.775458Z",
     "iopub.status.idle": "2023-06-05T18:44:46.455080Z",
     "shell.execute_reply.started": "2023-06-05T18:44:38.775420Z",
     "shell.execute_reply": "2023-06-05T18:44:46.454143Z"
    },
    "trusted": true
   },
   "execution_count": 13,
   "outputs": [
    {
     "output_type": "display_data",
     "data": {
      "text/plain": "Downloading builder script:   0%|          | 0.00/1.83k [00:00<?, ?B/s]",
      "application/vnd.jupyter.widget-view+json": {
       "version_major": 2,
       "version_minor": 0,
       "model_id": "f0f2697670024de5bcb0c63f7df1c23e"
      }
     },
     "metadata": {}
    },
    {
     "output_type": "display_data",
     "data": {
      "text/plain": "Downloading metadata:   0%|          | 0.00/1.28k [00:00<?, ?B/s]",
      "application/vnd.jupyter.widget-view+json": {
       "version_major": 2,
       "version_minor": 0,
       "model_id": "a0ac5a6a23de4029b2572b0c0981526d"
      }
     },
     "metadata": {}
    },
    {
     "name": "stdout",
     "text": "Downloading and preparing dataset ag_news/default (download: 29.88 MiB, generated: 30.23 MiB, post-processed: Unknown size, total: 60.10 MiB) to /root/.cache/huggingface/datasets/ag_news/default/0.0.0/bc2bcb40336ace1a0374767fc29bb0296cdaf8a6da7298436239c54d79180548...\n",
     "output_type": "stream"
    },
    {
     "output_type": "display_data",
     "data": {
      "text/plain": "Downloading data:   0%|          | 0.00/11.0M [00:00<?, ?B/s]",
      "application/vnd.jupyter.widget-view+json": {
       "version_major": 2,
       "version_minor": 0,
       "model_id": "6f77502668d34fb888da480d3ead1775"
      }
     },
     "metadata": {}
    },
    {
     "output_type": "display_data",
     "data": {
      "text/plain": "Downloading data:   0%|          | 0.00/751k [00:00<?, ?B/s]",
      "application/vnd.jupyter.widget-view+json": {
       "version_major": 2,
       "version_minor": 0,
       "model_id": "3ed98bc65f314d43a32f493222e8a72d"
      }
     },
     "metadata": {}
    },
    {
     "output_type": "display_data",
     "data": {
      "text/plain": "Generating train split:   0%|          | 0/120000 [00:00<?, ? examples/s]",
      "application/vnd.jupyter.widget-view+json": {
       "version_major": 2,
       "version_minor": 0,
       "model_id": ""
      }
     },
     "metadata": {}
    },
    {
     "output_type": "display_data",
     "data": {
      "text/plain": "Generating test split:   0%|          | 0/7600 [00:00<?, ? examples/s]",
      "application/vnd.jupyter.widget-view+json": {
       "version_major": 2,
       "version_minor": 0,
       "model_id": ""
      }
     },
     "metadata": {}
    },
    {
     "name": "stdout",
     "text": "Dataset ag_news downloaded and prepared to /root/.cache/huggingface/datasets/ag_news/default/0.0.0/bc2bcb40336ace1a0374767fc29bb0296cdaf8a6da7298436239c54d79180548. Subsequent calls will reuse this data.\n",
     "output_type": "stream"
    },
    {
     "output_type": "display_data",
     "data": {
      "text/plain": "  0%|          | 0/2 [00:00<?, ?it/s]",
      "application/vnd.jupyter.widget-view+json": {
       "version_major": 2,
       "version_minor": 0,
       "model_id": "075636ea78ed4fadbc8d06d06e4d6bd4"
      }
     },
     "metadata": {}
    }
   ]
  },
  {
   "cell_type": "code",
   "source": "words = Counter()\n\nfor example in tqdm(dataset['train']['text']):\n    # Приводим к нижнему регистру и убираем пунктуацию\n    proccessed_text = example.lower().translate(\n        str.maketrans('', '', string.punctuation))\n    \n    words_tokenized = [word for word in word_tokenize(proccessed_text) if word not in stopwords_united]\n\n    for word in words_tokenized:\n        words[word] += 1\n\nvocab = set(['<unk>', '<bos>', '<eos>', '<pad>'])\ncounter_threshold = 25\n\nfor char, cnt in words.items():\n    if cnt > counter_threshold:\n        vocab.add(char)\n\nprint(f'Размер словаря: {len(vocab)}')\n\nword2ind = {char: i for i, char in enumerate(vocab)}\nind2word = {i: char for char, i in word2ind.items()}",
   "metadata": {
    "id": "nEvCN0Y1w1yH",
    "colab": {
     "base_uri": "https://localhost:8080/",
     "height": 66,
     "referenced_widgets": [
      "45b415cc22e64cbc9376f7bf8601f09b",
      "eee83e0a1bd14d00af3159061f96a553",
      "bd82244ccbd842539464a9168a897f1c",
      "94b4879a5a644dbeaa3ec1e5af2b1744",
      "fb542b520c1a42f4b621f95a4e90d644",
      "87447d7825574c6f8ab503b1b534d506",
      "56d638bddd534750b06ea6fe6701cb15",
      "7358823ad0d1474cae97638aebeb835f",
      "f53391ef64574c76bd18add79c0fa4bf",
      "6280438c65704c3a9603a2402d18c39a",
      "fe99814191c14edea16dc733737441a5"
     ]
    },
    "executionInfo": {
     "status": "ok",
     "timestamp": 1679310737099,
     "user_tz": -180,
     "elapsed": 25172,
     "user": {
      "displayName": "Deep Learning School",
      "userId": "16549096980415837553"
     }
    },
    "outputId": "7aaf0b16-1e5a-4b5a-f750-d2a0e93adf04",
    "execution": {
     "iopub.status.busy": "2023-06-05T18:44:46.457157Z",
     "iopub.execute_input": "2023-06-05T18:44:46.464318Z",
     "iopub.status.idle": "2023-06-05T18:45:37.619770Z",
     "shell.execute_reply.started": "2023-06-05T18:44:46.464282Z",
     "shell.execute_reply": "2023-06-05T18:45:37.618690Z"
    },
    "trusted": true
   },
   "execution_count": 14,
   "outputs": [
    {
     "output_type": "display_data",
     "data": {
      "text/plain": "  0%|          | 0/120000 [00:00<?, ?it/s]",
      "application/vnd.jupyter.widget-view+json": {
       "version_major": 2,
       "version_minor": 0,
       "model_id": "b5627a037c7f433589b3bfb777ef95ad"
      }
     },
     "metadata": {}
    },
    {
     "name": "stdout",
     "text": "Размер словаря: 11559\n",
     "output_type": "stream"
    }
   ]
  },
  {
   "cell_type": "code",
   "source": "class WordDataset:\n    def __init__(self, sentences):\n        self.data = sentences\n        self.unk_id = word2ind['<unk>']\n        self.bos_id = word2ind['<bos>']\n        self.eos_id = word2ind['<eos>']\n        self.pad_id = word2ind['<pad>']\n\n    def __getitem__(self, idx: int) -> List[int]:\n        processed_text = self.data[idx]['text'].lower().translate(\n            str.maketrans('', '', string.punctuation))\n        tokenized_sentence = [self.bos_id]\n        tokenized_sentence += [\n            word2ind.get(word, self.unk_id) for word in word_tokenize(processed_text) if word not in stopwords_united\n        ]\n        tokenized_sentence += [self.eos_id]\n\n        train_sample = {\n            \"text\": tokenized_sentence,\n            \"label\": self.data[idx]['label']\n        }\n\n        return train_sample\n\n    def __len__(self) -> int:\n        return len(self.data)\n\n\ndef collate_fn_with_padding(\n    input_batch: List[List[int]], pad_id=word2ind['<pad>'], max_len=256) -> torch.Tensor:\n    seq_lens = [len(x['text']) for x in input_batch]\n    max_seq_len = min(max(seq_lens), max_len)\n\n    new_batch = []\n    for sequence in input_batch:\n        sequence['text'] = sequence['text'][:max_seq_len]\n        for _ in range(max_seq_len - len(sequence['text'])):\n            sequence['text'].append(pad_id)\n\n        new_batch.append(sequence['text'])\n    \n    sequences = torch.LongTensor(new_batch).to(device)\n    labels = torch.LongTensor([x['label'] for x in input_batch]).to(device)\n\n    new_batch = {\n        'input_ids': sequences,\n        'label': labels\n    }\n\n    return new_batch",
   "metadata": {
    "id": "FVzXL17PzC7K",
    "execution": {
     "iopub.status.busy": "2023-06-05T18:45:37.621720Z",
     "iopub.execute_input": "2023-06-05T18:45:37.622164Z",
     "iopub.status.idle": "2023-06-05T18:45:37.645506Z",
     "shell.execute_reply.started": "2023-06-05T18:45:37.622127Z",
     "shell.execute_reply": "2023-06-05T18:45:37.644519Z"
    },
    "trusted": true
   },
   "execution_count": 15,
   "outputs": []
  },
  {
   "cell_type": "code",
   "source": "train_dataset = WordDataset(dataset['train'])\n\nnp.random.seed(42)\nidx = np.random.choice(np.arange(len(dataset['test'])), 5000)\neval_dataset = WordDataset(dataset['test'].select(idx))\n\nbatch_size = 32\ntrain_dataloader = DataLoader(\n    train_dataset, shuffle=True, collate_fn=collate_fn_with_padding, batch_size=batch_size)\n\neval_dataloader = DataLoader(\n    eval_dataset, shuffle=False, collate_fn=collate_fn_with_padding, batch_size=batch_size)",
   "metadata": {
    "execution": {
     "iopub.status.busy": "2023-06-05T18:49:05.885756Z",
     "iopub.execute_input": "2023-06-05T18:49:05.886128Z",
     "iopub.status.idle": "2023-06-05T18:49:05.898687Z",
     "shell.execute_reply.started": "2023-06-05T18:49:05.886078Z",
     "shell.execute_reply": "2023-06-05T18:49:05.897790Z"
    },
    "trusted": true
   },
   "execution_count": 21,
   "outputs": []
  },
  {
   "cell_type": "code",
   "source": "model = CharLM(hidden_dim=256, vocab_size=len(vocab)).to(device)\ncriterion = nn.CrossEntropyLoss()\noptimizer = torch.optim.Adam(model.parameters())",
   "metadata": {
    "execution": {
     "iopub.status.busy": "2023-06-05T18:49:06.434762Z",
     "iopub.execute_input": "2023-06-05T18:49:06.435132Z",
     "iopub.status.idle": "2023-06-05T18:49:06.466936Z",
     "shell.execute_reply.started": "2023-06-05T18:49:06.435101Z",
     "shell.execute_reply": "2023-06-05T18:49:06.466013Z"
    },
    "trusted": true
   },
   "execution_count": 22,
   "outputs": []
  },
  {
   "cell_type": "code",
   "source": "num_epoch = 10\neval_steps = len(train_dataloader) // 2\n\nlosses = []\nacc = []\n\nfor epoch in range(num_epoch):\n    epoch_losses = []\n    model.train()\n    for i, batch in enumerate(tqdm(train_dataloader, desc=f'Training epoch {epoch}:')):\n        optimizer.zero_grad()\n        logits = model(batch['input_ids'])\n        loss = criterion(logits, batch['label'])\n        loss.backward()\n        optimizer.step()\n\n        epoch_losses.append(loss.item())\n        if i % eval_steps == 0:\n            model.eval()\n            acc.append(evaluate(model, eval_dataloader))\n            model.train()\n\n    losses.append(sum(epoch_losses) / len(epoch_losses))",
   "metadata": {
    "execution": {
     "iopub.status.busy": "2023-06-05T18:49:06.990473Z",
     "iopub.execute_input": "2023-06-05T18:49:06.990905Z",
     "iopub.status.idle": "2023-06-05T19:02:57.290801Z",
     "shell.execute_reply.started": "2023-06-05T18:49:06.990866Z",
     "shell.execute_reply": "2023-06-05T19:02:57.289797Z"
    },
    "trusted": true
   },
   "execution_count": 23,
   "outputs": [
    {
     "output_type": "display_data",
     "data": {
      "text/plain": "Training epoch 0::   0%|          | 0/3750 [00:00<?, ?it/s]",
      "application/vnd.jupyter.widget-view+json": {
       "version_major": 2,
       "version_minor": 0,
       "model_id": "1c62febe0bbb44d88d47fdf52ced4905"
      }
     },
     "metadata": {}
    },
    {
     "output_type": "display_data",
     "data": {
      "text/plain": "Training epoch 1::   0%|          | 0/3750 [00:00<?, ?it/s]",
      "application/vnd.jupyter.widget-view+json": {
       "version_major": 2,
       "version_minor": 0,
       "model_id": "cb160fbf708747cb8183417360ca6c9c"
      }
     },
     "metadata": {}
    },
    {
     "output_type": "display_data",
     "data": {
      "text/plain": "Training epoch 2::   0%|          | 0/3750 [00:00<?, ?it/s]",
      "application/vnd.jupyter.widget-view+json": {
       "version_major": 2,
       "version_minor": 0,
       "model_id": "21ff95c34ee84d488c4cb1bd057a53cb"
      }
     },
     "metadata": {}
    },
    {
     "output_type": "display_data",
     "data": {
      "text/plain": "Training epoch 3::   0%|          | 0/3750 [00:00<?, ?it/s]",
      "application/vnd.jupyter.widget-view+json": {
       "version_major": 2,
       "version_minor": 0,
       "model_id": "76c871e970844075b9b0ec734f81cf73"
      }
     },
     "metadata": {}
    },
    {
     "output_type": "display_data",
     "data": {
      "text/plain": "Training epoch 4::   0%|          | 0/3750 [00:00<?, ?it/s]",
      "application/vnd.jupyter.widget-view+json": {
       "version_major": 2,
       "version_minor": 0,
       "model_id": "c96676a3ee0b491796ab91479987e7ff"
      }
     },
     "metadata": {}
    },
    {
     "output_type": "display_data",
     "data": {
      "text/plain": "Training epoch 5::   0%|          | 0/3750 [00:00<?, ?it/s]",
      "application/vnd.jupyter.widget-view+json": {
       "version_major": 2,
       "version_minor": 0,
       "model_id": "c898dd6b692442f080ec53bc2dce406d"
      }
     },
     "metadata": {}
    },
    {
     "output_type": "display_data",
     "data": {
      "text/plain": "Training epoch 6::   0%|          | 0/3750 [00:00<?, ?it/s]",
      "application/vnd.jupyter.widget-view+json": {
       "version_major": 2,
       "version_minor": 0,
       "model_id": "dbcdb35b623d4525b49158fc934d1eaf"
      }
     },
     "metadata": {}
    },
    {
     "output_type": "display_data",
     "data": {
      "text/plain": "Training epoch 7::   0%|          | 0/3750 [00:00<?, ?it/s]",
      "application/vnd.jupyter.widget-view+json": {
       "version_major": 2,
       "version_minor": 0,
       "model_id": "ba2a9a780fe047e1bcba0c93fa63e47b"
      }
     },
     "metadata": {}
    },
    {
     "output_type": "display_data",
     "data": {
      "text/plain": "Training epoch 8::   0%|          | 0/3750 [00:00<?, ?it/s]",
      "application/vnd.jupyter.widget-view+json": {
       "version_major": 2,
       "version_minor": 0,
       "model_id": "4406bbd33bc949d28db6de2e221c0b9c"
      }
     },
     "metadata": {}
    },
    {
     "output_type": "display_data",
     "data": {
      "text/plain": "Training epoch 9::   0%|          | 0/3750 [00:00<?, ?it/s]",
      "application/vnd.jupyter.widget-view+json": {
       "version_major": 2,
       "version_minor": 0,
       "model_id": "8f38d12a10ea43b7be5b38cdfdd2f4d4"
      }
     },
     "metadata": {}
    }
   ]
  },
  {
   "cell_type": "code",
   "source": "plt.plot(losses)\n\nplt.title('Loss')\nplt.xlabel(\"epoch\")\nplt.legend()\nplt.show()",
   "metadata": {
    "execution": {
     "iopub.status.busy": "2023-06-05T19:02:57.292697Z",
     "iopub.execute_input": "2023-06-05T19:02:57.293243Z",
     "iopub.status.idle": "2023-06-05T19:02:57.638867Z",
     "shell.execute_reply.started": "2023-06-05T19:02:57.293208Z",
     "shell.execute_reply": "2023-06-05T19:02:57.637986Z"
    },
    "trusted": true
   },
   "execution_count": 24,
   "outputs": [
    {
     "output_type": "display_data",
     "data": {
      "text/plain": "<Figure size 640x480 with 1 Axes>",
      "image/png": "[encoded data removed]"
     },
     "metadata": {}
    }
   ]
  },
  {
   "cell_type": "code",
   "source": "plt.plot(acc)\n\nplt.title('Accuracy')\nplt.xlabel(\"Eval step\")\nplt.legend()\nplt.xlim(0, 18)\nplt.show()",
   "metadata": {
    "execution": {
     "iopub.status.busy": "2023-06-05T19:02:57.640470Z",
     "iopub.execute_input": "2023-06-05T19:02:57.641130Z",
     "iopub.status.idle": "2023-06-05T19:02:58.014197Z",
     "shell.execute_reply.started": "2023-06-05T19:02:57.641096Z",
     "shell.execute_reply": "2023-06-05T19:02:58.013317Z"
    },
    "trusted": true
   },
   "execution_count": 25,
   "outputs": [
    {
     "output_type": "display_data",
     "data": {
      "text/plain": "<Figure size 640x480 with 1 Axes>",
      "image/png": "[encoded data removed]"
     },
     "metadata": {}
    }
   ]
  },
  {
   "cell_type": "code",
   "source": "acc[np.argmax(acc)], np.argmax(acc)",
   "metadata": {
    "execution": {
     "iopub.status.busy": "2023-06-05T19:02:58.016564Z",
     "iopub.execute_input": "2023-06-05T19:02:58.016953Z",
     "iopub.status.idle": "2023-06-05T19:02:58.023631Z",
     "shell.execute_reply.started": "2023-06-05T19:02:58.016919Z",
     "shell.execute_reply": "2023-06-05T19:02:58.022697Z"
    },
    "trusted": true
   },
   "execution_count": 26,
   "outputs": [
    {
     "execution_count": 26,
     "output_type": "execute_result",
     "data": {
      "text/plain": "(0.9073999524116516, 4)"
     },
     "metadata": {}
    }
   ]
  },
  {
   "cell_type": "markdown",
   "source": "Видно, что это привело к падению accuracy модели.",
   "metadata": {}
  },
  {
   "cell_type": "markdown",
   "source": "### Попробуем использовать лемматизацию и исключим стоп слова",
   "metadata": {}
  },
  {
   "cell_type": "code",
   "source": "from nltk.stem import WordNetLemmatizer",
   "metadata": {
    "execution": {
     "iopub.status.busy": "2023-06-05T19:24:14.745860Z",
     "iopub.execute_input": "2023-06-05T19:24:14.746318Z",
     "iopub.status.idle": "2023-06-05T19:24:14.754966Z",
     "shell.execute_reply.started": "2023-06-05T19:24:14.746279Z",
     "shell.execute_reply": "2023-06-05T19:24:14.749938Z"
    },
    "trusted": true
   },
   "execution_count": 31,
   "outputs": []
  },
  {
   "cell_type": "code",
   "source": "lemmatizer = WordNetLemmatizer()",
   "metadata": {
    "execution": {
     "iopub.status.busy": "2023-06-05T19:24:23.981734Z",
     "iopub.execute_input": "2023-06-05T19:24:23.982129Z",
     "iopub.status.idle": "2023-06-05T19:24:23.986550Z",
     "shell.execute_reply.started": "2023-06-05T19:24:23.982075Z",
     "shell.execute_reply": "2023-06-05T19:24:23.985580Z"
    },
    "trusted": true
   },
   "execution_count": 32,
   "outputs": []
  },
  {
   "cell_type": "code",
   "source": "!unzip /usr/share/nltk_data/corpora/wordnet.zip -d /usr/share/nltk_data/corpora/",
   "metadata": {
    "execution": {
     "iopub.status.busy": "2023-06-05T19:29:30.876474Z",
     "iopub.execute_input": "2023-06-05T19:29:30.876869Z",
     "iopub.status.idle": "2023-06-05T19:29:32.243583Z",
     "shell.execute_reply.started": "2023-06-05T19:29:30.876840Z",
     "shell.execute_reply": "2023-06-05T19:29:32.242487Z"
    },
    "trusted": true
   },
   "execution_count": 41,
   "outputs": [
    {
     "name": "stdout",
     "text": "Archive:  /usr/share/nltk_data/corpora/wordnet.zip\n   creating: /usr/share/nltk_data/corpora/wordnet/\n  inflating: /usr/share/nltk_data/corpora/wordnet/lexnames  \n  inflating: /usr/share/nltk_data/corpora/wordnet/data.verb  \n  inflating: /usr/share/nltk_data/corpora/wordnet/index.adv  \n  inflating: /usr/share/nltk_data/corpora/wordnet/adv.exc  \n  inflating: /usr/share/nltk_data/corpora/wordnet/index.verb  \n  inflating: /usr/share/nltk_data/corpora/wordnet/cntlist.rev  \n  inflating: /usr/share/nltk_data/corpora/wordnet/data.adj  \n  inflating: /usr/share/nltk_data/corpora/wordnet/index.adj  \n  inflating: /usr/share/nltk_data/corpora/wordnet/LICENSE  \n  inflating: /usr/share/nltk_data/corpora/wordnet/citation.bib  \n  inflating: /usr/share/nltk_data/corpora/wordnet/noun.exc  \n  inflating: /usr/share/nltk_data/corpora/wordnet/verb.exc  \n  inflating: /usr/share/nltk_data/corpora/wordnet/README  \n  inflating: /usr/share/nltk_data/corpora/wordnet/index.sense  \n  inflating: /usr/share/nltk_data/corpora/wordnet/data.noun  \n  inflating: /usr/share/nltk_data/corpora/wordnet/data.adv  \n  inflating: /usr/share/nltk_data/corpora/wordnet/index.noun  \n  inflating: /usr/share/nltk_data/corpora/wordnet/adj.exc  \n",
     "output_type": "stream"
    }
   ]
  },
  {
   "cell_type": "code",
   "source": "en = spacy.load('en_core_web_sm')\nstopwords_spacy = en.Defaults.stop_words",
   "metadata": {
    "execution": {
     "iopub.status.busy": "2023-06-05T19:25:01.301878Z",
     "iopub.execute_input": "2023-06-05T19:25:01.302260Z",
     "iopub.status.idle": "2023-06-05T19:25:02.277677Z",
     "shell.execute_reply.started": "2023-06-05T19:25:01.302229Z",
     "shell.execute_reply": "2023-06-05T19:25:02.276731Z"
    },
    "trusted": true
   },
   "execution_count": 34,
   "outputs": []
  },
  {
   "cell_type": "code",
   "source": "nltk.download('stopwords')\n\nstopwords_nltk = stopwords.words(\"english\")",
   "metadata": {
    "execution": {
     "iopub.status.busy": "2023-06-05T19:25:02.279749Z",
     "iopub.execute_input": "2023-06-05T19:25:02.280138Z",
     "iopub.status.idle": "2023-06-05T19:25:02.287164Z",
     "shell.execute_reply.started": "2023-06-05T19:25:02.280104Z",
     "shell.execute_reply": "2023-06-05T19:25:02.285047Z"
    },
    "trusted": true
   },
   "execution_count": 35,
   "outputs": [
    {
     "name": "stdout",
     "text": "[nltk_data] Downloading package stopwords to /usr/share/nltk_data...\n[nltk_data]   Package stopwords is already up-to-date!\n",
     "output_type": "stream"
    }
   ]
  },
  {
   "cell_type": "code",
   "source": "stopwords_united = set(stopwords_spacy).union(stopwords_nltk)",
   "metadata": {
    "execution": {
     "iopub.status.busy": "2023-06-05T19:25:04.608760Z",
     "iopub.execute_input": "2023-06-05T19:25:04.609355Z",
     "iopub.status.idle": "2023-06-05T19:25:04.613847Z",
     "shell.execute_reply.started": "2023-06-05T19:25:04.609322Z",
     "shell.execute_reply": "2023-06-05T19:25:04.612929Z"
    },
    "trusted": true
   },
   "execution_count": 36,
   "outputs": []
  },
  {
   "cell_type": "code",
   "source": "dataset = datasets.load_dataset('ag_news')",
   "metadata": {
    "execution": {
     "iopub.status.busy": "2023-06-05T19:25:04.945306Z",
     "iopub.execute_input": "2023-06-05T19:25:04.946037Z",
     "iopub.status.idle": "2023-06-05T19:25:05.393289Z",
     "shell.execute_reply.started": "2023-06-05T19:25:04.946007Z",
     "shell.execute_reply": "2023-06-05T19:25:05.392410Z"
    },
    "trusted": true
   },
   "execution_count": 37,
   "outputs": [
    {
     "output_type": "display_data",
     "data": {
      "text/plain": "  0%|          | 0/2 [00:00<?, ?it/s]",
      "application/vnd.jupyter.widget-view+json": {
       "version_major": 2,
       "version_minor": 0,
       "model_id": "a65317d20ba441b0bbdf721b71b415a6"
      }
     },
     "metadata": {}
    }
   ]
  },
  {
   "cell_type": "code",
   "source": "words = Counter()\n\nfor example in tqdm(dataset['train']['text']):\n    # Приводим к нижнему регистру и убираем пунктуацию\n    proccessed_text = example.lower().translate(\n        str.maketrans('', '', string.punctuation))\n    \n    words_tokenized = [\n        word_lemmatized for word in word_tokenize(proccessed_text)\n        if (word_lemmatized := lemmatizer.lemmatize(word)) not in stopwords_united\n    ]\n\n    for word in words_tokenized:\n        words[word] += 1\n\nvocab = set(['<unk>', '<bos>', '<eos>', '<pad>'])\ncounter_threshold = 25\n\nfor char, cnt in words.items():\n    if cnt > counter_threshold:\n        vocab.add(char)\n\nprint(f'Размер словаря: {len(vocab)}')\n\nword2ind = {char: i for i, char in enumerate(vocab)}\nind2word = {i: char for char, i in word2ind.items()}",
   "metadata": {
    "id": "nEvCN0Y1w1yH",
    "colab": {
     "base_uri": "https://localhost:8080/",
     "height": 66,
     "referenced_widgets": [
      "45b415cc22e64cbc9376f7bf8601f09b",
      "eee83e0a1bd14d00af3159061f96a553",
      "bd82244ccbd842539464a9168a897f1c",
      "94b4879a5a644dbeaa3ec1e5af2b1744",
      "fb542b520c1a42f4b621f95a4e90d644",
      "87447d7825574c6f8ab503b1b534d506",
      "56d638bddd534750b06ea6fe6701cb15",
      "7358823ad0d1474cae97638aebeb835f",
      "f53391ef64574c76bd18add79c0fa4bf",
      "6280438c65704c3a9603a2402d18c39a",
      "fe99814191c14edea16dc733737441a5"
     ]
    },
    "executionInfo": {
     "status": "ok",
     "timestamp": 1679310737099,
     "user_tz": -180,
     "elapsed": 25172,
     "user": {
      "displayName": "Deep Learning School",
      "userId": "16549096980415837553"
     }
    },
    "outputId": "7aaf0b16-1e5a-4b5a-f750-d2a0e93adf04",
    "execution": {
     "iopub.status.busy": "2023-06-05T19:29:36.299211Z",
     "iopub.execute_input": "2023-06-05T19:29:36.300314Z",
     "iopub.status.idle": "2023-06-05T19:31:01.198206Z",
     "shell.execute_reply.started": "2023-06-05T19:29:36.300263Z",
     "shell.execute_reply": "2023-06-05T19:31:01.197144Z"
    },
    "trusted": true
   },
   "execution_count": 42,
   "outputs": [
    {
     "output_type": "display_data",
     "data": {
      "text/plain": "  0%|          | 0/120000 [00:00<?, ?it/s]",
      "application/vnd.jupyter.widget-view+json": {
       "version_major": 2,
       "version_minor": 0,
       "model_id": "6c502e46df7b47339a9aaf9901ce18a6"
      }
     },
     "metadata": {}
    },
    {
     "name": "stdout",
     "text": "Размер словаря: 10302\n",
     "output_type": "stream"
    }
   ]
  },
  {
   "cell_type": "code",
   "source": "class WordDataset:\n    def __init__(self, sentences):\n        self.data = sentences\n        self.unk_id = word2ind['<unk>']\n        self.bos_id = word2ind['<bos>']\n        self.eos_id = word2ind['<eos>']\n        self.pad_id = word2ind['<pad>']\n\n    def __getitem__(self, idx: int) -> List[int]:\n        processed_text = self.data[idx]['text'].lower().translate(\n            str.maketrans('', '', string.punctuation))\n        tokenized_sentence = [self.bos_id]\n        tokenized_sentence += [\n            word2ind.get(word_lemmatized, self.unk_id) for word in word_tokenize(processed_text)\n            if (word_lemmatized := lemmatizer.lemmatize(word)) not in stopwords_united\n        ]\n        tokenized_sentence += [self.eos_id]\n\n        train_sample = {\n            \"text\": tokenized_sentence,\n            \"label\": self.data[idx]['label']\n        }\n\n        return train_sample\n\n    def __len__(self) -> int:\n        return len(self.data)\n\n\ndef collate_fn_with_padding(\n    input_batch: List[List[int]], pad_id=word2ind['<pad>'], max_len=256) -> torch.Tensor:\n    seq_lens = [len(x['text']) for x in input_batch]\n    max_seq_len = min(max(seq_lens), max_len)\n\n    new_batch = []\n    for sequence in input_batch:\n        sequence['text'] = sequence['text'][:max_seq_len]\n        for _ in range(max_seq_len - len(sequence['text'])):\n            sequence['text'].append(pad_id)\n\n        new_batch.append(sequence['text'])\n    \n    sequences = torch.LongTensor(new_batch).to(device)\n    labels = torch.LongTensor([x['label'] for x in input_batch]).to(device)\n\n    new_batch = {\n        'input_ids': sequences,\n        'label': labels\n    }\n\n    return new_batch",
   "metadata": {
    "id": "FVzXL17PzC7K",
    "execution": {
     "iopub.status.busy": "2023-06-05T19:31:19.384343Z",
     "iopub.execute_input": "2023-06-05T19:31:19.384707Z",
     "iopub.status.idle": "2023-06-05T19:31:19.397615Z",
     "shell.execute_reply.started": "2023-06-05T19:31:19.384679Z",
     "shell.execute_reply": "2023-06-05T19:31:19.396671Z"
    },
    "trusted": true
   },
   "execution_count": 44,
   "outputs": []
  },
  {
   "cell_type": "code",
   "source": "train_dataset = WordDataset(dataset['train'])\n\nnp.random.seed(42)\nidx = np.random.choice(np.arange(len(dataset['test'])), 5000)\neval_dataset = WordDataset(dataset['test'].select(idx))\n\nbatch_size = 32\ntrain_dataloader = DataLoader(\n    train_dataset, shuffle=True, collate_fn=collate_fn_with_padding, batch_size=batch_size)\n\neval_dataloader = DataLoader(\n    eval_dataset, shuffle=False, collate_fn=collate_fn_with_padding, batch_size=batch_size)",
   "metadata": {
    "execution": {
     "iopub.status.busy": "2023-06-05T19:31:21.435580Z",
     "iopub.execute_input": "2023-06-05T19:31:21.435947Z",
     "iopub.status.idle": "2023-06-05T19:31:21.450632Z",
     "shell.execute_reply.started": "2023-06-05T19:31:21.435919Z",
     "shell.execute_reply": "2023-06-05T19:31:21.449635Z"
    },
    "trusted": true
   },
   "execution_count": 45,
   "outputs": []
  },
  {
   "cell_type": "code",
   "source": "model = CharLM(hidden_dim=256, vocab_size=len(vocab)).to(device)\ncriterion = nn.CrossEntropyLoss()\noptimizer = torch.optim.Adam(model.parameters())",
   "metadata": {
    "execution": {
     "iopub.status.busy": "2023-06-05T19:31:24.503430Z",
     "iopub.execute_input": "2023-06-05T19:31:24.503776Z",
     "iopub.status.idle": "2023-06-05T19:31:24.537388Z",
     "shell.execute_reply.started": "2023-06-05T19:31:24.503749Z",
     "shell.execute_reply": "2023-06-05T19:31:24.536543Z"
    },
    "trusted": true
   },
   "execution_count": 46,
   "outputs": []
  },
  {
   "cell_type": "code",
   "source": "num_epoch = 10\neval_steps = len(train_dataloader) // 2\n\nlosses = []\nacc = []\n\nfor epoch in range(num_epoch):\n    epoch_losses = []\n    model.train()\n    for i, batch in enumerate(tqdm(train_dataloader, desc=f'Training epoch {epoch}:')):\n        optimizer.zero_grad()\n        logits = model(batch['input_ids'])\n        loss = criterion(logits, batch['label'])\n        loss.backward()\n        optimizer.step()\n\n        epoch_losses.append(loss.item())\n        if i % eval_steps == 0:\n            model.eval()\n            acc.append(evaluate(model, eval_dataloader))\n            model.train()\n\n    losses.append(sum(epoch_losses) / len(epoch_losses))",
   "metadata": {
    "execution": {
     "iopub.status.busy": "2023-06-05T19:33:47.301035Z",
     "iopub.execute_input": "2023-06-05T19:33:47.302041Z",
     "iopub.status.idle": "2023-06-05T19:53:07.374726Z",
     "shell.execute_reply.started": "2023-06-05T19:33:47.302004Z",
     "shell.execute_reply": "2023-06-05T19:53:07.371270Z"
    },
    "trusted": true
   },
   "execution_count": 50,
   "outputs": [
    {
     "output_type": "display_data",
     "data": {
      "text/plain": "Training epoch 0::   0%|          | 0/3750 [00:00<?, ?it/s]",
      "application/vnd.jupyter.widget-view+json": {
       "version_major": 2,
       "version_minor": 0,
       "model_id": "f044d9128f5f4891b2839d40d5b3b6d0"
      }
     },
     "metadata": {}
    },
    {
     "output_type": "display_data",
     "data": {
      "text/plain": "Training epoch 1::   0%|          | 0/3750 [00:00<?, ?it/s]",
      "application/vnd.jupyter.widget-view+json": {
       "version_major": 2,
       "version_minor": 0,
       "model_id": "85fdf3b93d544dc0a4cf796398d6591e"
      }
     },
     "metadata": {}
    },
    {
     "output_type": "display_data",
     "data": {
      "text/plain": "Training epoch 2::   0%|          | 0/3750 [00:00<?, ?it/s]",
      "application/vnd.jupyter.widget-view+json": {
       "version_major": 2,
       "version_minor": 0,
       "model_id": "dfd3efcf304644a1b4f2419b30395b2d"
      }
     },
     "metadata": {}
    },
    {
     "output_type": "display_data",
     "data": {
      "text/plain": "Training epoch 3::   0%|          | 0/3750 [00:00<?, ?it/s]",
      "application/vnd.jupyter.widget-view+json": {
       "version_major": 2,
       "version_minor": 0,
       "model_id": "8331c1b345724255a795b837803a217c"
      }
     },
     "metadata": {}
    },
    {
     "output_type": "display_data",
     "data": {
      "text/plain": "Training epoch 4::   0%|          | 0/3750 [00:00<?, ?it/s]",
      "application/vnd.jupyter.widget-view+json": {
       "version_major": 2,
       "version_minor": 0,
       "model_id": "dd1844ac0e0c473da86e0d1617861132"
      }
     },
     "metadata": {}
    },
    {
     "output_type": "display_data",
     "data": {
      "text/plain": "Training epoch 5::   0%|          | 0/3750 [00:00<?, ?it/s]",
      "application/vnd.jupyter.widget-view+json": {
       "version_major": 2,
       "version_minor": 0,
       "model_id": "fa45957cd99a48759f19f9e89729d523"
      }
     },
     "metadata": {}
    },
    {
     "output_type": "display_data",
     "data": {
      "text/plain": "Training epoch 6::   0%|          | 0/3750 [00:00<?, ?it/s]",
      "application/vnd.jupyter.widget-view+json": {
       "version_major": 2,
       "version_minor": 0,
       "model_id": "99a973a7e30c4a96b08fe0c44eb50f12"
      }
     },
     "metadata": {}
    },
    {
     "output_type": "display_data",
     "data": {
      "text/plain": "Training epoch 7::   0%|          | 0/3750 [00:00<?, ?it/s]",
      "application/vnd.jupyter.widget-view+json": {
       "version_major": 2,
       "version_minor": 0,
       "model_id": "bf6f6e577cd94841a60b8aa4ce9fa060"
      }
     },
     "metadata": {}
    },
    {
     "output_type": "display_data",
     "data": {
      "text/plain": "Training epoch 8::   0%|          | 0/3750 [00:00<?, ?it/s]",
      "application/vnd.jupyter.widget-view+json": {
       "version_major": 2,
       "version_minor": 0,
       "model_id": "0b52a201cfe04c5d8f5a79828d1a567b"
      }
     },
     "metadata": {}
    },
    {
     "output_type": "display_data",
     "data": {
      "text/plain": "Training epoch 9::   0%|          | 0/3750 [00:00<?, ?it/s]",
      "application/vnd.jupyter.widget-view+json": {
       "version_major": 2,
       "version_minor": 0,
       "model_id": "001a88ea751d424eb747967a9d9cfe23"
      }
     },
     "metadata": {}
    }
   ]
  },
  {
   "cell_type": "code",
   "source": "plt.plot(losses)\n\nplt.title('Loss')\nplt.xlabel(\"epoch\")\nplt.legend()\nplt.show()",
   "metadata": {
    "execution": {
     "iopub.status.busy": "2023-06-05T19:53:07.376885Z",
     "iopub.execute_input": "2023-06-05T19:53:07.377270Z",
     "iopub.status.idle": "2023-06-05T19:53:07.708036Z",
     "shell.execute_reply.started": "2023-06-05T19:53:07.377237Z",
     "shell.execute_reply": "2023-06-05T19:53:07.707018Z"
    },
    "trusted": true
   },
   "execution_count": 51,
   "outputs": [
    {
     "output_type": "display_data",
     "data": {
      "text/plain": "<Figure size 640x480 with 1 Axes>",
      "image/png": "[encoded data removed]"
     },
     "metadata": {}
    }
   ]
  },
  {
   "cell_type": "code",
   "source": "plt.plot(acc)\n\nplt.title('Accuracy')\nplt.xlabel(\"Eval step\")\nplt.legend()\nplt.xlim(0, 18)\nplt.show()",
   "metadata": {
    "execution": {
     "iopub.status.busy": "2023-06-05T19:53:08.097379Z",
     "iopub.execute_input": "2023-06-05T19:53:08.097714Z",
     "iopub.status.idle": "2023-06-05T19:53:08.492995Z",
     "shell.execute_reply.started": "2023-06-05T19:53:08.097682Z",
     "shell.execute_reply": "2023-06-05T19:53:08.492014Z"
    },
    "trusted": true
   },
   "execution_count": 53,
   "outputs": [
    {
     "output_type": "display_data",
     "data": {
      "text/plain": "<Figure size 640x480 with 1 Axes>",
      "image/png": "[encoded data removed]"
     },
     "metadata": {}
    }
   ]
  },
  {
   "cell_type": "code",
   "source": "acc[np.argmax(acc)], np.argmax(acc)",
   "metadata": {
    "execution": {
     "iopub.status.busy": "2023-06-05T19:53:41.142662Z",
     "iopub.execute_input": "2023-06-05T19:53:41.143025Z",
     "iopub.status.idle": "2023-06-05T19:53:41.149704Z",
     "shell.execute_reply.started": "2023-06-05T19:53:41.142996Z",
     "shell.execute_reply": "2023-06-05T19:53:41.148847Z"
    },
    "trusted": true
   },
   "execution_count": 55,
   "outputs": [
    {
     "execution_count": 55,
     "output_type": "execute_result",
     "data": {
      "text/plain": "(0.9057999849319458, 9)"
     },
     "metadata": {}
    }
   ]
  },
  {
   "cell_type": "markdown",
   "source": "Видно,что в данном случае метрика accuracy сильно флуктуирует.",
   "metadata": {}
  },
  {
   "cell_type": "markdown",
   "source": "    ## Вывод",
   "metadata": {}
  },
  {
   "cell_type": "markdown",
   "source": "В работе были предприняты попытки улучшения метрики accuracy модели классификации текста относительно базовой модели (0.9116).\nБыли опробованы 4 подхода:\n* Использование LSTM слоя вместо RNN, что привело к увеличению accuracy до 0.9146 (или 0.915, если округлять до 3 знака). Полученный результат объясняется тем, что слой LSTM позволяет использовать более долгий контекст по сравнению со слоем RNN.\n* Использование двух слоев RNN, что привело к уменьшению accuracy до 0.9082.\n* Удаление стоп слов, что привело к уменьшению accuracy до 0.9074. Недостаточный эффект может быть связан с тем, что стоп слов оказалось всего около 370 штук, то есть размер словаря уменьшился незначительно по сравнению с базовой моделью (с 11842 до 11559).\n* Использование лемматизации и удаление стоп слов, что привело к уменьшению accuracy до 0.9058. Размер словаря при этом уменьшился до 10302. Однако, в данном случае метрика сильно колебалась по эпохам, и уже после первой была более 0.9. Возможно, это связано с большим значением learning rate.\n\nПолученных результатов исследований показали, что оптимальной моделью будет модель со слоем LSTM. Однако, необходимо провести \"чистку\" словаря, так как в нем присутствуют слова, которые не отражают никакого смысла. ",
   "metadata": {}
  }
 ]
}
