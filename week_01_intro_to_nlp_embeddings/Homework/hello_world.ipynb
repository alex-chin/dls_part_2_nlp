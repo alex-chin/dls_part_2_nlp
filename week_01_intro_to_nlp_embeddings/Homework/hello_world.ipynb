{
 "cells": [
  {
   "metadata": {},
   "cell_type": "code",
   "outputs": [],
   "execution_count": null,
   "source": "",
   "id": "75285ebd4ff22355"
  },
  {
   "metadata": {
    "ExecuteTime": {
     "end_time": "2025-10-07T20:53:28.242577Z",
     "start_time": "2025-10-07T20:53:28.237734Z"
    }
   },
   "cell_type": "code",
   "source": "from gensim.models.keyedvectors import KeyedVectors",
   "id": "b20f70e8fdd00022",
   "outputs": [],
   "execution_count": 2
  },
  {
   "metadata": {
    "ExecuteTime": {
     "end_time": "2025-10-07T20:54:45.122007Z",
     "start_time": "2025-10-07T20:54:32.353539Z"
    }
   },
   "cell_type": "code",
   "source": "model = KeyedVectors.load_word2vec_format(\"..\\\\..\\\\SO_vectors_200.bin\", binary=True)",
   "id": "50d3a673ab4dba11",
   "outputs": [],
   "execution_count": 5
  },
  {
   "cell_type": "code",
   "id": "initial_id",
   "metadata": {
    "collapsed": true,
    "ExecuteTime": {
     "end_time": "2025-10-07T20:57:21.770516Z",
     "start_time": "2025-10-07T20:57:21.604774Z"
    }
   },
   "source": [
    "\n",
    "import numpy as np\n",
    "\n",
    "\n",
    "# Предположим, что model - это загруженная модель Word2Vec\n",
    "\n",
    "# Метод 2: Поиск по теме\n",
    "def find_words_by_theme(positive_words, negative_words, model, topn=10):\n",
    "    \"\"\"\n",
    "    Находит слова, близкие к positive_words и далекие от negative_words.\n",
    "    \"\"\"\n",
    "    try:\n",
    "        similar_words = model.most_similar(positive=positive_words, negative=negative_words, topn=topn)\n",
    "        return [word for word, score in similar_words]\n",
    "    except KeyError as e:\n",
    "        print(f\"Одно из слов не найдено в словаре: {e}\")\n",
    "        return []\n",
    "\n",
    "\n",
    "# Определяем тему \"первая программа\"\n",
    "theme_positive = ['beginner', 'program', 'example', 'code', 'greeting', 'output', 'simple']\n",
    "theme_negative = ['expert', 'hardware', 'complex', 'input', 'silence']\n",
    "\n",
    "found_words = find_words_by_theme(theme_positive, theme_negative, model, topn=15)\n",
    "print(\"Слова по теме 'первая программа':\", found_words)\n",
    "\n",
    "# Метод 3: Поиск по описанию\n",
    "description_keywords = ['first', 'program', 'computer', 'greeting', 'planet', 'output', 'traditional']\n",
    "\n",
    "# Создаем вектор-запрос как среднее векторов ключевых слов\n",
    "query_vector = np.zeros(model.vector_size)\n",
    "count = 0\n",
    "for word in description_keywords:\n",
    "    if word in model:\n",
    "        query_vector += model[word]\n",
    "        count += 1\n",
    "if count > 0:\n",
    "    query_vector /= count\n",
    "\n",
    "    # Ищем ближайших соседей к вектору-запросу\n",
    "    similar_to_query = model.similar_by_vector(query_vector, topn=15)\n",
    "    print(\"\\nСлова, близкие к описанию 'traditional first program...':\")\n",
    "    for word, score in similar_to_query:\n",
    "        print(f\"{word}: {score:.4f}\")\n",
    "else:\n",
    "    print(\"Ни одно из ключевых слов не найдено в модели.\")"
   ],
   "outputs": [
    {
     "name": "stdout",
     "output_type": "stream",
     "text": [
      "Слова по теме 'первая программа': ['helloworld', 'hello2', 'hello_world', 'hello1', 'helloworld2', 'hello', 'test0', 'helloword', 'testprogram', 'hola', 'hello3', 'helloworld1', 'howdy', 'hello4', 'programe']\n",
      "\n",
      "Слова, близкие к описанию 'traditional first program...':\n",
      "program: 0.7470\n",
      "computer: 0.6416\n",
      "programme: 0.5723\n",
      "programs: 0.5481\n",
      "first: 0.5480\n",
      "output: 0.5392\n",
      "actually: 0.5260\n",
      "just: 0.5172\n",
      "hercules: 0.5080\n",
      "programm: 0.5056\n",
      "simulation: 0.5054\n",
      "machine: 0.5011\n",
      "process: 0.5010\n",
      "pc: 0.4880\n",
      "second: 0.4874\n"
     ]
    }
   ],
   "execution_count": 9
  },
  {
   "metadata": {
    "ExecuteTime": {
     "end_time": "2025-10-07T21:05:37.733620Z",
     "start_time": "2025-10-07T21:05:19.787764Z"
    }
   },
   "cell_type": "code",
   "source": [
    "%%time\n",
    "\"\"\"\n",
    " A word2vec model trained on Stack Overflow posts https://github.com/vefstathiou/SO_word2vec\n",
    "\"\"\"\n",
    "from gensim.models.keyedvectors import KeyedVectors\n",
    "\n",
    "model = KeyedVectors.load_word2vec_format(\"..\\\\..\\\\SO_vectors_200.bin\", binary=True)\n",
    "theme_positive = ['beginner', 'program', 'example', 'code', 'output', 'simple']\n",
    "theme_negative = ['expert', 'hardware', 'complex', 'input', 'silence']\n",
    "\n",
    "model.most_similar(positive=theme_positive, negative=theme_negative, topn=1)\n"
   ],
   "id": "ccf24d0bda30731e",
   "outputs": [
    {
     "name": "stdout",
     "output_type": "stream",
     "text": [
      "CPU times: total: 17.8 s\n",
      "Wall time: 17.9 s\n"
     ]
    },
    {
     "data": {
      "text/plain": [
       "[('helloworld', 0.49995920062065125)]"
      ]
     },
     "execution_count": 12,
     "metadata": {},
     "output_type": "execute_result"
    }
   ],
   "execution_count": 12
  },
  {
   "metadata": {
    "ExecuteTime": {
     "end_time": "2025-10-07T21:20:26.643230Z",
     "start_time": "2025-10-07T21:20:26.560588Z"
    }
   },
   "cell_type": "code",
   "source": "model.most_similar(positive=['beginner', 'program', 'example', ], negative=['expert', 'hardware', 'complex', ], topn=1)\n",
   "id": "43ab62cca86b5ca3",
   "outputs": [
    {
     "data": {
      "text/plain": [
       "[('helloworld', 0.46487393975257874)]"
      ]
     },
     "execution_count": 30,
     "metadata": {},
     "output_type": "execute_result"
    }
   ],
   "execution_count": 30
  },
  {
   "metadata": {
    "ExecuteTime": {
     "end_time": "2025-10-07T21:28:50.052094Z",
     "start_time": "2025-10-07T21:28:49.970575Z"
    }
   },
   "cell_type": "code",
   "source": "model.most_similar(positive=['first', 'program', 'beginner', ], negative=['expert', 'hardware', 'complex', ], topn=10)\n",
   "id": "332cd2a717917637",
   "outputs": [
    {
     "data": {
      "text/plain": [
       "[('last', 0.5220977067947388),\n",
       " ('fist', 0.4842788577079773),\n",
       " ('next', 0.46736884117126465),\n",
       " ('frist', 0.45875605940818787),\n",
       " ('programe', 0.452897310256958),\n",
       " ('befor', 0.45036518573760986),\n",
       " ('prints', 0.4354223906993866),\n",
       " ('//now', 0.4354196786880493),\n",
       " ('immediatly', 0.4351065158843994),\n",
       " ('nr-1', 0.4339919984340668)]"
      ]
     },
     "execution_count": 33,
     "metadata": {},
     "output_type": "execute_result"
    }
   ],
   "execution_count": 33
  },
  {
   "metadata": {},
   "cell_type": "code",
   "outputs": [],
   "execution_count": null,
   "source": "",
   "id": "65a13800a5f683a8"
  },
  {
   "metadata": {
    "ExecuteTime": {
     "end_time": "2025-10-08T08:49:17.938500Z",
     "start_time": "2025-10-08T08:48:51.632520Z"
    }
   },
   "cell_type": "code",
   "source": [
    "%%time\n",
    "\"\"\"\n",
    " A word2vec model trained on Stack Overflow posts https://github.com/vefstathiou/SO_word2vec\n",
    "\"\"\"\n",
    "from gensim.models.keyedvectors import KeyedVectors\n",
    "\n",
    "model = KeyedVectors.load_word2vec_format(\"..\\\\..\\\\SO_vectors_200.bin\", binary=True)\n",
    "\n",
    "model.most_similar(positive=['beginner', 'program', 'example', ],\n",
    "                   negative=['expert', 'hardware', 'complex', ], topn=1)"
   ],
   "id": "4f599c417bbc83c3",
   "outputs": [
    {
     "name": "stdout",
     "output_type": "stream",
     "text": [
      "CPU times: total: 24.9 s\n",
      "Wall time: 26.3 s\n"
     ]
    },
    {
     "data": {
      "text/plain": [
       "[('helloworld', 0.46487393975257874)]"
      ]
     },
     "execution_count": 35,
     "metadata": {},
     "output_type": "execute_result"
    }
   ],
   "execution_count": 35
  },
  {
   "metadata": {},
   "cell_type": "code",
   "outputs": [],
   "execution_count": null,
   "source": "",
   "id": "3220854f027b818f"
  }
 ],
 "metadata": {
  "kernelspec": {
   "display_name": "Python 3",
   "language": "python",
   "name": "python3"
  },
  "language_info": {
   "codemirror_mode": {
    "name": "ipython",
    "version": 2
   },
   "file_extension": ".py",
   "mimetype": "text/x-python",
   "name": "python",
   "nbconvert_exporter": "python",
   "pygments_lexer": "ipython2",
   "version": "2.7.6"
  }
 },
 "nbformat": 4,
 "nbformat_minor": 5
}
